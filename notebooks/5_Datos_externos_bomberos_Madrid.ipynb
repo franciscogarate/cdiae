{
  "cells": [
    {
      "cell_type": "markdown",
      "metadata": {
        "id": "view-in-github",
        "colab_type": "text"
      },
      "source": [
        "<a href=\"https://colab.research.google.com/github/franciscogarate/cdiae/blob/main/notebooks/5_Datos_externos_bomberos_Madrid.ipynb\" target=\"_parent\"><img src=\"https://colab.research.google.com/assets/colab-badge.svg\" alt=\"Open In Colab\"/></a>"
      ]
    },
    {
      "cell_type": "markdown",
      "source": [
        "# Datos externos de geolocalización"
      ],
      "metadata": {
        "id": "SuxUVEZVgGGH"
      },
      "id": "SuxUVEZVgGGH"
    },
    {
      "cell_type": "code",
      "execution_count": null,
      "id": "ec1adbde",
      "metadata": {
        "id": "ec1adbde"
      },
      "outputs": [],
      "source": [
        "import pandas as pd\n",
        "import numpy as np\n",
        "from geopy.geocoders import Nominatim\n",
        "import time"
      ]
    },
    {
      "cell_type": "code",
      "source": [
        "!git clone https://github.com/franciscogarate/cdiae"
      ],
      "metadata": {
        "id": "xkHWqsEEgQ8N"
      },
      "id": "xkHWqsEEgQ8N",
      "execution_count": null,
      "outputs": []
    },
    {
      "cell_type": "markdown",
      "id": "eecc72e6",
      "metadata": {
        "id": "eecc72e6"
      },
      "source": [
        "En este ejemplo, usaremos la librería de acceso libre y gratuita Nominatim de OpenStreetMaps. No obstante, no siempre es fiable y por ello la API recomendada es GoogleV3 (la cual necesita un token de pago).\n",
        "\n",
        "`from geopy.geocoders import GoogleV3`\n",
        "\n",
        "`geolocator = GoogleV3(api_key=***)`"
      ]
    },
    {
      "cell_type": "code",
      "execution_count": null,
      "id": "385be4dd",
      "metadata": {
        "id": "385be4dd"
      },
      "outputs": [],
      "source": [
        "def obtener_coordenadas(address):\n",
        "    geolocator = Nominatim(user_agent=\"Tu-App/1.0\")\n",
        "    location = geolocator.geocode(address)\n",
        "    time.sleep(1)               # Pausa de 1 segundo para evitar denegación de servicio\n",
        "    if location:\n",
        "        return location.latitude, location.longitude\n",
        "    else:\n",
        "        return None, None\n"
      ]
    },
    {
      "cell_type": "code",
      "execution_count": null,
      "id": "ed38056a",
      "metadata": {
        "id": "ed38056a"
      },
      "outputs": [],
      "source": [
        "df = pd.read_csv('cdiae/data/01_raw/211642-1-bomberos-parques.csv', sep=';', usecols=(9,10,12))\n",
        "df.head()"
      ]
    },
    {
      "cell_type": "code",
      "execution_count": null,
      "id": "c217b4cd",
      "metadata": {
        "id": "c217b4cd"
      },
      "outputs": [],
      "source": [
        "df['direccion'] = df.apply(lambda x: str(x['CLASE-VIAL'] + ' ' + x['NOMBRE-VIA']) + ', ' + str(x.NUM) + ', Madrid, Spain', axis=1)\n",
        "df['coordenadas'] = df['direccion'].apply(obtener_coordenadas)\n",
        "df"
      ]
    },
    {
      "cell_type": "markdown",
      "source": [
        "Guardo las coordenadas en un array con numpy:"
      ],
      "metadata": {
        "id": "cmJ7Nv6Ngf5L"
      },
      "id": "cmJ7Nv6Ngf5L"
    },
    {
      "cell_type": "code",
      "execution_count": null,
      "id": "1af245a3",
      "metadata": {
        "id": "1af245a3"
      },
      "outputs": [],
      "source": [
        "coord_riesgos = np.asarray(df.coordenadas)"
      ]
    },
    {
      "cell_type": "markdown",
      "id": "b16b092b",
      "metadata": {
        "id": "b16b092b"
      },
      "source": [
        "### Grafico con folium"
      ]
    },
    {
      "cell_type": "markdown",
      "source": [
        "Primero, centro el mapa en Madrid"
      ],
      "metadata": {
        "id": "ChB7OPYcgnZ6"
      },
      "id": "ChB7OPYcgnZ6"
    },
    {
      "cell_type": "code",
      "execution_count": null,
      "id": "a5ed4351",
      "metadata": {
        "id": "a5ed4351"
      },
      "outputs": [],
      "source": [
        "from folium import Map, plugins\n",
        "from folium.plugins import HeatMap\n",
        "map_madrid = Map(location=[40.42, -3.70], zoom_start = 12)"
      ]
    },
    {
      "cell_type": "markdown",
      "source": [
        "Muestro el mapa de calor"
      ],
      "metadata": {
        "id": "bKkybtGVgrFH"
      },
      "id": "bKkybtGVgrFH"
    },
    {
      "cell_type": "code",
      "execution_count": null,
      "id": "e32710c9",
      "metadata": {
        "id": "e32710c9"
      },
      "outputs": [],
      "source": [
        "coord_riesgos = np.asarray(df.coordenadas)\n",
        "HeatMap(coord_riesgos, radius=20).add_to(map_madrid)\n",
        "map_madrid"
      ]
    }
  ],
  "metadata": {
    "kernelspec": {
      "display_name": "env",
      "language": "python",
      "name": "python3"
    },
    "language_info": {
      "codemirror_mode": {
        "name": "ipython",
        "version": 3
      },
      "file_extension": ".py",
      "mimetype": "text/x-python",
      "name": "python",
      "nbconvert_exporter": "python",
      "pygments_lexer": "ipython3",
      "version": "3.12.3"
    },
    "colab": {
      "provenance": [],
      "include_colab_link": true
    }
  },
  "nbformat": 4,
  "nbformat_minor": 5
}