{
 "cells": [
  {
   "cell_type": "code",
   "execution_count": 2,
   "id": "ec1adbde",
   "metadata": {},
   "outputs": [],
   "source": [
    "import pandas as pd\n",
    "import numpy as np\n",
    "from geopy.geocoders import Nominatim\n",
    "import time"
   ]
  },
  {
   "cell_type": "markdown",
   "id": "eecc72e6",
   "metadata": {},
   "source": [
    "En este ejemplo, usaremos la librería de acceso libre Nominatim de OpenStreetMaps. No obstante, no siempre es fiable y la recomendad es GoogleV3\n",
    "\n",
    "`from geopy.geocoders import GoogleV3`\n",
    "\n",
    "`geolocator = GoogleV3(api_key=***)`"
   ]
  },
  {
   "cell_type": "code",
   "execution_count": null,
   "id": "385be4dd",
   "metadata": {},
   "outputs": [],
   "source": [
    "def obtener_coordenadas(address):\n",
    "    geolocator = Nominatim(user_agent=\"Tu-App/1.0\")\n",
    "    location = geolocator.geocode(address)\n",
    "    time.sleep(1)               # Pausa de 1 segundo para evitar denegación de servicio\n",
    "    if location:\n",
    "        return location.latitude, location.longitude\n",
    "    else:\n",
    "        return None, None\n"
   ]
  },
  {
   "cell_type": "code",
   "execution_count": 3,
   "id": "ed38056a",
   "metadata": {},
   "outputs": [
    {
     "data": {
      "text/html": [
       "<div>\n",
       "<style scoped>\n",
       "    .dataframe tbody tr th:only-of-type {\n",
       "        vertical-align: middle;\n",
       "    }\n",
       "\n",
       "    .dataframe tbody tr th {\n",
       "        vertical-align: top;\n",
       "    }\n",
       "\n",
       "    .dataframe thead th {\n",
       "        text-align: right;\n",
       "    }\n",
       "</style>\n",
       "<table border=\"1\" class=\"dataframe\">\n",
       "  <thead>\n",
       "    <tr style=\"text-align: right;\">\n",
       "      <th></th>\n",
       "      <th>NOMBRE-VIA</th>\n",
       "      <th>CLASE-VIAL</th>\n",
       "      <th>NUM</th>\n",
       "    </tr>\n",
       "  </thead>\n",
       "  <tbody>\n",
       "    <tr>\n",
       "      <th>0</th>\n",
       "      <td>SANTA ENGRACIA</td>\n",
       "      <td>CALLE</td>\n",
       "      <td>118</td>\n",
       "    </tr>\n",
       "    <tr>\n",
       "      <th>1</th>\n",
       "      <td>RUFINO BLANCO</td>\n",
       "      <td>CALLE</td>\n",
       "      <td>2</td>\n",
       "    </tr>\n",
       "    <tr>\n",
       "      <th>2</th>\n",
       "      <td>SEGOVIA</td>\n",
       "      <td>RONDA</td>\n",
       "      <td>95</td>\n",
       "    </tr>\n",
       "    <tr>\n",
       "      <th>3</th>\n",
       "      <td>EMILIA</td>\n",
       "      <td>CALLE</td>\n",
       "      <td>40</td>\n",
       "    </tr>\n",
       "    <tr>\n",
       "      <th>4</th>\n",
       "      <td>SANTA MARIA DE LA CABEZA</td>\n",
       "      <td>PASEO</td>\n",
       "      <td>95</td>\n",
       "    </tr>\n",
       "  </tbody>\n",
       "</table>\n",
       "</div>"
      ],
      "text/plain": [
       "                 NOMBRE-VIA CLASE-VIAL  NUM\n",
       "0            SANTA ENGRACIA      CALLE  118\n",
       "1             RUFINO BLANCO      CALLE    2\n",
       "2                   SEGOVIA      RONDA   95\n",
       "3                    EMILIA      CALLE   40\n",
       "4  SANTA MARIA DE LA CABEZA      PASEO   95"
      ]
     },
     "execution_count": 3,
     "metadata": {},
     "output_type": "execute_result"
    }
   ],
   "source": [
    "df = pd.read_csv('../data/01_raw/211642-1-bomberos-parques.csv', sep=';', usecols=(9,10,12))\n",
    "df.head()"
   ]
  },
  {
   "cell_type": "code",
   "execution_count": null,
   "id": "c217b4cd",
   "metadata": {},
   "outputs": [],
   "source": [
    "df['direccion'] = df.apply(lambda x: str(x['CLASE-VIAL'] + ' ' + x['NOMBRE-VIA']) + ', ' + str(x.NUM) + ', Madrid, Spain', axis=1)\n",
    "df['coordenadas'] = df['direccion'].apply(obtener_coordenadas)\n",
    "df"
   ]
  },
  {
   "cell_type": "code",
   "execution_count": 13,
   "id": "1af245a3",
   "metadata": {},
   "outputs": [],
   "source": [
    "#Guardo las coordenadas en un array:\n",
    "coord_riesgos = np.asarray(df.coordenadas)"
   ]
  },
  {
   "cell_type": "markdown",
   "id": "b16b092b",
   "metadata": {},
   "source": [
    "### Grafico con folium"
   ]
  },
  {
   "cell_type": "code",
   "execution_count": 42,
   "id": "a5ed4351",
   "metadata": {},
   "outputs": [],
   "source": [
    "from folium import Map, plugins\n",
    "from folium.plugins import HeatMap\n",
    "map_madrid = Map(location=[40.42, -3.70], zoom_start = 12)"
   ]
  },
  {
   "cell_type": "code",
   "execution_count": 43,
   "id": "e32710c9",
   "metadata": {},
   "outputs": [
    {
     "data": {
      "text/html": [
       "<div style=\"width:100%;\"><div style=\"position:relative;width:100%;height:0;padding-bottom:60%;\"><span style=\"color:#565656\">Make this Notebook Trusted to load map: File -> Trust Notebook</span><iframe srcdoc=\"&lt;!DOCTYPE html&gt;\n",
       "&lt;html&gt;\n",
       "&lt;head&gt;\n",
       "    \n",
       "    &lt;meta http-equiv=&quot;content-type&quot; content=&quot;text/html; charset=UTF-8&quot; /&gt;\n",
       "    &lt;script src=&quot;https://cdn.jsdelivr.net/npm/leaflet@1.9.3/dist/leaflet.js&quot;&gt;&lt;/script&gt;\n",
       "    &lt;script src=&quot;https://code.jquery.com/jquery-3.7.1.min.js&quot;&gt;&lt;/script&gt;\n",
       "    &lt;script src=&quot;https://cdn.jsdelivr.net/npm/bootstrap@5.2.2/dist/js/bootstrap.bundle.min.js&quot;&gt;&lt;/script&gt;\n",
       "    &lt;script src=&quot;https://cdnjs.cloudflare.com/ajax/libs/Leaflet.awesome-markers/2.0.2/leaflet.awesome-markers.js&quot;&gt;&lt;/script&gt;\n",
       "    &lt;link rel=&quot;stylesheet&quot; href=&quot;https://cdn.jsdelivr.net/npm/leaflet@1.9.3/dist/leaflet.css&quot;/&gt;\n",
       "    &lt;link rel=&quot;stylesheet&quot; href=&quot;https://cdn.jsdelivr.net/npm/bootstrap@5.2.2/dist/css/bootstrap.min.css&quot;/&gt;\n",
       "    &lt;link rel=&quot;stylesheet&quot; href=&quot;https://netdna.bootstrapcdn.com/bootstrap/3.0.0/css/bootstrap-glyphicons.css&quot;/&gt;\n",
       "    &lt;link rel=&quot;stylesheet&quot; href=&quot;https://cdn.jsdelivr.net/npm/@fortawesome/fontawesome-free@6.2.0/css/all.min.css&quot;/&gt;\n",
       "    &lt;link rel=&quot;stylesheet&quot; href=&quot;https://cdnjs.cloudflare.com/ajax/libs/Leaflet.awesome-markers/2.0.2/leaflet.awesome-markers.css&quot;/&gt;\n",
       "    &lt;link rel=&quot;stylesheet&quot; href=&quot;https://cdn.jsdelivr.net/gh/python-visualization/folium/folium/templates/leaflet.awesome.rotate.min.css&quot;/&gt;\n",
       "    \n",
       "            &lt;meta name=&quot;viewport&quot; content=&quot;width=device-width,\n",
       "                initial-scale=1.0, maximum-scale=1.0, user-scalable=no&quot; /&gt;\n",
       "            &lt;style&gt;\n",
       "                #map_9561163b83be7fb963c45f6a0bc910a0 {\n",
       "                    position: relative;\n",
       "                    width: 100.0%;\n",
       "                    height: 100.0%;\n",
       "                    left: 0.0%;\n",
       "                    top: 0.0%;\n",
       "                }\n",
       "                .leaflet-container { font-size: 1rem; }\n",
       "            &lt;/style&gt;\n",
       "\n",
       "            &lt;style&gt;html, body {\n",
       "                width: 100%;\n",
       "                height: 100%;\n",
       "                margin: 0;\n",
       "                padding: 0;\n",
       "            }\n",
       "            &lt;/style&gt;\n",
       "\n",
       "            &lt;style&gt;#map {\n",
       "                position:absolute;\n",
       "                top:0;\n",
       "                bottom:0;\n",
       "                right:0;\n",
       "                left:0;\n",
       "                }\n",
       "            &lt;/style&gt;\n",
       "\n",
       "            &lt;script&gt;\n",
       "                L_NO_TOUCH = false;\n",
       "                L_DISABLE_3D = false;\n",
       "            &lt;/script&gt;\n",
       "\n",
       "        \n",
       "    &lt;script src=&quot;https://cdn.jsdelivr.net/gh/python-visualization/folium@main/folium/templates/leaflet_heat.min.js&quot;&gt;&lt;/script&gt;\n",
       "&lt;/head&gt;\n",
       "&lt;body&gt;\n",
       "    \n",
       "    \n",
       "            &lt;div class=&quot;folium-map&quot; id=&quot;map_9561163b83be7fb963c45f6a0bc910a0&quot; &gt;&lt;/div&gt;\n",
       "        \n",
       "&lt;/body&gt;\n",
       "&lt;script&gt;\n",
       "    \n",
       "    \n",
       "            var map_9561163b83be7fb963c45f6a0bc910a0 = L.map(\n",
       "                &quot;map_9561163b83be7fb963c45f6a0bc910a0&quot;,\n",
       "                {\n",
       "                    center: [40.42, -3.7],\n",
       "                    crs: L.CRS.EPSG3857,\n",
       "                    ...{\n",
       "  &quot;zoom&quot;: 12,\n",
       "  &quot;zoomControl&quot;: true,\n",
       "  &quot;preferCanvas&quot;: false,\n",
       "}\n",
       "\n",
       "                }\n",
       "            );\n",
       "\n",
       "            \n",
       "\n",
       "        \n",
       "    \n",
       "            var tile_layer_93541c8f7856e58d674818fe8c26eec6 = L.tileLayer(\n",
       "                &quot;https://tile.openstreetmap.org/{z}/{x}/{y}.png&quot;,\n",
       "                {\n",
       "  &quot;minZoom&quot;: 0,\n",
       "  &quot;maxZoom&quot;: 19,\n",
       "  &quot;maxNativeZoom&quot;: 19,\n",
       "  &quot;noWrap&quot;: false,\n",
       "  &quot;attribution&quot;: &quot;\\u0026copy; \\u003ca href=\\&quot;https://www.openstreetmap.org/copyright\\&quot;\\u003eOpenStreetMap\\u003c/a\\u003e contributors&quot;,\n",
       "  &quot;subdomains&quot;: &quot;abc&quot;,\n",
       "  &quot;detectRetina&quot;: false,\n",
       "  &quot;tms&quot;: false,\n",
       "  &quot;opacity&quot;: 1,\n",
       "}\n",
       "\n",
       "            );\n",
       "        \n",
       "    \n",
       "            tile_layer_93541c8f7856e58d674818fe8c26eec6.addTo(map_9561163b83be7fb963c45f6a0bc910a0);\n",
       "        \n",
       "    \n",
       "            var heat_map_6caa8108de97d228d87feb0bd4fb92eb = L.heatLayer(\n",
       "                [[40.4402167, -3.7007032], [40.4282212, -3.6671051], [40.4070726, -3.7122371], [40.4709776, -3.6960162], [40.3920394, -3.7065829], [40.4829972, -3.3694169], [40.4283315, -3.6156314], [40.3955323, -3.6518079], [40.4803349, -3.6994528], [40.3402626, -3.7066874], [40.4742032, -3.6647969], [40.3876125, -3.7647755], [40.3916846, -3.5896379]],\n",
       "                {\n",
       "  &quot;minOpacity&quot;: 0.5,\n",
       "  &quot;maxZoom&quot;: 18,\n",
       "  &quot;radius&quot;: 20,\n",
       "  &quot;blur&quot;: 15,\n",
       "}\n",
       "            );\n",
       "        \n",
       "    \n",
       "            heat_map_6caa8108de97d228d87feb0bd4fb92eb.addTo(map_9561163b83be7fb963c45f6a0bc910a0);\n",
       "        \n",
       "&lt;/script&gt;\n",
       "&lt;/html&gt;\" style=\"position:absolute;width:100%;height:100%;left:0;top:0;border:none !important;\" allowfullscreen webkitallowfullscreen mozallowfullscreen></iframe></div></div>"
      ],
      "text/plain": [
       "<folium.folium.Map at 0x75eda5e4ac60>"
      ]
     },
     "execution_count": 43,
     "metadata": {},
     "output_type": "execute_result"
    }
   ],
   "source": [
    "coord_riesgos = np.asarray(df.coordenadas)\n",
    "HeatMap(coord_riesgos, radius=20).add_to(map_madrid)\n",
    "map_madrid"
   ]
  }
 ],
 "metadata": {
  "kernelspec": {
   "display_name": "env",
   "language": "python",
   "name": "python3"
  },
  "language_info": {
   "codemirror_mode": {
    "name": "ipython",
    "version": 3
   },
   "file_extension": ".py",
   "mimetype": "text/x-python",
   "name": "python",
   "nbconvert_exporter": "python",
   "pygments_lexer": "ipython3",
   "version": "3.12.3"
  }
 },
 "nbformat": 4,
 "nbformat_minor": 5
}
