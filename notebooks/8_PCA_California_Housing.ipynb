{
  "cells": [
    {
      "cell_type": "markdown",
      "metadata": {
        "id": "view-in-github",
        "colab_type": "text"
      },
      "source": [
        "<a href=\"https://colab.research.google.com/github/franciscogarate/cdiae/blob/main/notebooks/8_PCA_California_Housing.ipynb\" target=\"_parent\"><img src=\"https://colab.research.google.com/assets/colab-badge.svg\" alt=\"Open In Colab\"/></a>"
      ]
    },
    {
      "cell_type": "markdown",
      "id": "9f3f6d88",
      "metadata": {
        "id": "9f3f6d88"
      },
      "source": [
        "# Análisis de componentes principales con la base de datos de casas de California"
      ]
    },
    {
      "cell_type": "code",
      "execution_count": 3,
      "id": "c88e19c4",
      "metadata": {
        "id": "c88e19c4"
      },
      "outputs": [],
      "source": [
        "import numpy as np\n",
        "import pandas as pd\n",
        "import matplotlib.pyplot as plt\n",
        "from sklearn.preprocessing import StandardScaler\n",
        "from sklearn.decomposition import PCA"
      ]
    },
    {
      "cell_type": "markdown",
      "id": "b711fc54",
      "metadata": {
        "id": "b711fc54"
      },
      "source": [
        "Cargamos el dataset de casas de California de ejercicios anteriores"
      ]
    },
    {
      "cell_type": "code",
      "source": [
        "!git clone https://github.com/franciscogarate/cdiae"
      ],
      "metadata": {
        "id": "Xy1MY_EGohnM",
        "outputId": "d0a8f7d4-9829-4103-ac3f-af3159ce27e4",
        "colab": {
          "base_uri": "https://localhost:8080/"
        }
      },
      "id": "Xy1MY_EGohnM",
      "execution_count": 4,
      "outputs": [
        {
          "output_type": "stream",
          "name": "stdout",
          "text": [
            "fatal: destination path 'cdiae' already exists and is not an empty directory.\n"
          ]
        }
      ]
    },
    {
      "cell_type": "code",
      "execution_count": 5,
      "id": "9a8a467e",
      "metadata": {
        "id": "9a8a467e",
        "outputId": "77349757-d412-4071-a1c7-f8d07b62e4db",
        "colab": {
          "base_uri": "https://localhost:8080/",
          "height": 221
        }
      },
      "outputs": [
        {
          "output_type": "execute_result",
          "data": {
            "text/plain": [
              "   MedInc  HouseAge  AveRooms  AveBedrms  Population  AveOccup  Latitude  \\\n",
              "0  7.2574      52.0  8.288136   1.073446       496.0  2.802260     37.85   \n",
              "1  5.6431      52.0  5.817352   1.073059       558.0  2.547945     37.85   \n",
              "2  3.8462      52.0  6.281853   1.081081       565.0  2.181467     37.85   \n",
              "3  4.0368      52.0  4.761658   1.103627       413.0  2.139896     37.85   \n",
              "4  3.6591      52.0  4.931907   0.951362      1094.0  2.128405     37.84   \n",
              "\n",
              "   Longitude  target  \n",
              "0    -122.24   3.521  \n",
              "1    -122.25   3.413  \n",
              "2    -122.25   3.422  \n",
              "3    -122.25   2.697  \n",
              "4    -122.25   2.992  "
            ],
            "text/html": [
              "\n",
              "  <div id=\"df-bfe003b4-982d-4915-a741-9782890b19b2\" class=\"colab-df-container\">\n",
              "    <div>\n",
              "<style scoped>\n",
              "    .dataframe tbody tr th:only-of-type {\n",
              "        vertical-align: middle;\n",
              "    }\n",
              "\n",
              "    .dataframe tbody tr th {\n",
              "        vertical-align: top;\n",
              "    }\n",
              "\n",
              "    .dataframe thead th {\n",
              "        text-align: right;\n",
              "    }\n",
              "</style>\n",
              "<table border=\"1\" class=\"dataframe\">\n",
              "  <thead>\n",
              "    <tr style=\"text-align: right;\">\n",
              "      <th></th>\n",
              "      <th>MedInc</th>\n",
              "      <th>HouseAge</th>\n",
              "      <th>AveRooms</th>\n",
              "      <th>AveBedrms</th>\n",
              "      <th>Population</th>\n",
              "      <th>AveOccup</th>\n",
              "      <th>Latitude</th>\n",
              "      <th>Longitude</th>\n",
              "      <th>target</th>\n",
              "    </tr>\n",
              "  </thead>\n",
              "  <tbody>\n",
              "    <tr>\n",
              "      <th>0</th>\n",
              "      <td>7.2574</td>\n",
              "      <td>52.0</td>\n",
              "      <td>8.288136</td>\n",
              "      <td>1.073446</td>\n",
              "      <td>496.0</td>\n",
              "      <td>2.802260</td>\n",
              "      <td>37.85</td>\n",
              "      <td>-122.24</td>\n",
              "      <td>3.521</td>\n",
              "    </tr>\n",
              "    <tr>\n",
              "      <th>1</th>\n",
              "      <td>5.6431</td>\n",
              "      <td>52.0</td>\n",
              "      <td>5.817352</td>\n",
              "      <td>1.073059</td>\n",
              "      <td>558.0</td>\n",
              "      <td>2.547945</td>\n",
              "      <td>37.85</td>\n",
              "      <td>-122.25</td>\n",
              "      <td>3.413</td>\n",
              "    </tr>\n",
              "    <tr>\n",
              "      <th>2</th>\n",
              "      <td>3.8462</td>\n",
              "      <td>52.0</td>\n",
              "      <td>6.281853</td>\n",
              "      <td>1.081081</td>\n",
              "      <td>565.0</td>\n",
              "      <td>2.181467</td>\n",
              "      <td>37.85</td>\n",
              "      <td>-122.25</td>\n",
              "      <td>3.422</td>\n",
              "    </tr>\n",
              "    <tr>\n",
              "      <th>3</th>\n",
              "      <td>4.0368</td>\n",
              "      <td>52.0</td>\n",
              "      <td>4.761658</td>\n",
              "      <td>1.103627</td>\n",
              "      <td>413.0</td>\n",
              "      <td>2.139896</td>\n",
              "      <td>37.85</td>\n",
              "      <td>-122.25</td>\n",
              "      <td>2.697</td>\n",
              "    </tr>\n",
              "    <tr>\n",
              "      <th>4</th>\n",
              "      <td>3.6591</td>\n",
              "      <td>52.0</td>\n",
              "      <td>4.931907</td>\n",
              "      <td>0.951362</td>\n",
              "      <td>1094.0</td>\n",
              "      <td>2.128405</td>\n",
              "      <td>37.84</td>\n",
              "      <td>-122.25</td>\n",
              "      <td>2.992</td>\n",
              "    </tr>\n",
              "  </tbody>\n",
              "</table>\n",
              "</div>\n",
              "    <div class=\"colab-df-buttons\">\n",
              "\n",
              "  <div class=\"colab-df-container\">\n",
              "    <button class=\"colab-df-convert\" onclick=\"convertToInteractive('df-bfe003b4-982d-4915-a741-9782890b19b2')\"\n",
              "            title=\"Convert this dataframe to an interactive table.\"\n",
              "            style=\"display:none;\">\n",
              "\n",
              "  <svg xmlns=\"http://www.w3.org/2000/svg\" height=\"24px\" viewBox=\"0 -960 960 960\">\n",
              "    <path d=\"M120-120v-720h720v720H120Zm60-500h600v-160H180v160Zm220 220h160v-160H400v160Zm0 220h160v-160H400v160ZM180-400h160v-160H180v160Zm440 0h160v-160H620v160ZM180-180h160v-160H180v160Zm440 0h160v-160H620v160Z\"/>\n",
              "  </svg>\n",
              "    </button>\n",
              "\n",
              "  <style>\n",
              "    .colab-df-container {\n",
              "      display:flex;\n",
              "      gap: 12px;\n",
              "    }\n",
              "\n",
              "    .colab-df-convert {\n",
              "      background-color: #E8F0FE;\n",
              "      border: none;\n",
              "      border-radius: 50%;\n",
              "      cursor: pointer;\n",
              "      display: none;\n",
              "      fill: #1967D2;\n",
              "      height: 32px;\n",
              "      padding: 0 0 0 0;\n",
              "      width: 32px;\n",
              "    }\n",
              "\n",
              "    .colab-df-convert:hover {\n",
              "      background-color: #E2EBFA;\n",
              "      box-shadow: 0px 1px 2px rgba(60, 64, 67, 0.3), 0px 1px 3px 1px rgba(60, 64, 67, 0.15);\n",
              "      fill: #174EA6;\n",
              "    }\n",
              "\n",
              "    .colab-df-buttons div {\n",
              "      margin-bottom: 4px;\n",
              "    }\n",
              "\n",
              "    [theme=dark] .colab-df-convert {\n",
              "      background-color: #3B4455;\n",
              "      fill: #D2E3FC;\n",
              "    }\n",
              "\n",
              "    [theme=dark] .colab-df-convert:hover {\n",
              "      background-color: #434B5C;\n",
              "      box-shadow: 0px 1px 3px 1px rgba(0, 0, 0, 0.15);\n",
              "      filter: drop-shadow(0px 1px 2px rgba(0, 0, 0, 0.3));\n",
              "      fill: #FFFFFF;\n",
              "    }\n",
              "  </style>\n",
              "\n",
              "    <script>\n",
              "      const buttonEl =\n",
              "        document.querySelector('#df-bfe003b4-982d-4915-a741-9782890b19b2 button.colab-df-convert');\n",
              "      buttonEl.style.display =\n",
              "        google.colab.kernel.accessAllowed ? 'block' : 'none';\n",
              "\n",
              "      async function convertToInteractive(key) {\n",
              "        const element = document.querySelector('#df-bfe003b4-982d-4915-a741-9782890b19b2');\n",
              "        const dataTable =\n",
              "          await google.colab.kernel.invokeFunction('convertToInteractive',\n",
              "                                                    [key], {});\n",
              "        if (!dataTable) return;\n",
              "\n",
              "        const docLinkHtml = 'Like what you see? Visit the ' +\n",
              "          '<a target=\"_blank\" href=https://colab.research.google.com/notebooks/data_table.ipynb>data table notebook</a>'\n",
              "          + ' to learn more about interactive tables.';\n",
              "        element.innerHTML = '';\n",
              "        dataTable['output_type'] = 'display_data';\n",
              "        await google.colab.output.renderOutput(dataTable, element);\n",
              "        const docLink = document.createElement('div');\n",
              "        docLink.innerHTML = docLinkHtml;\n",
              "        element.appendChild(docLink);\n",
              "      }\n",
              "    </script>\n",
              "  </div>\n",
              "\n",
              "\n",
              "    <div id=\"df-6bc0bd0f-6fd4-40b6-b201-42c593fd708e\">\n",
              "      <button class=\"colab-df-quickchart\" onclick=\"quickchart('df-6bc0bd0f-6fd4-40b6-b201-42c593fd708e')\"\n",
              "                title=\"Suggest charts\"\n",
              "                style=\"display:none;\">\n",
              "\n",
              "<svg xmlns=\"http://www.w3.org/2000/svg\" height=\"24px\"viewBox=\"0 0 24 24\"\n",
              "     width=\"24px\">\n",
              "    <g>\n",
              "        <path d=\"M19 3H5c-1.1 0-2 .9-2 2v14c0 1.1.9 2 2 2h14c1.1 0 2-.9 2-2V5c0-1.1-.9-2-2-2zM9 17H7v-7h2v7zm4 0h-2V7h2v10zm4 0h-2v-4h2v4z\"/>\n",
              "    </g>\n",
              "</svg>\n",
              "      </button>\n",
              "\n",
              "<style>\n",
              "  .colab-df-quickchart {\n",
              "      --bg-color: #E8F0FE;\n",
              "      --fill-color: #1967D2;\n",
              "      --hover-bg-color: #E2EBFA;\n",
              "      --hover-fill-color: #174EA6;\n",
              "      --disabled-fill-color: #AAA;\n",
              "      --disabled-bg-color: #DDD;\n",
              "  }\n",
              "\n",
              "  [theme=dark] .colab-df-quickchart {\n",
              "      --bg-color: #3B4455;\n",
              "      --fill-color: #D2E3FC;\n",
              "      --hover-bg-color: #434B5C;\n",
              "      --hover-fill-color: #FFFFFF;\n",
              "      --disabled-bg-color: #3B4455;\n",
              "      --disabled-fill-color: #666;\n",
              "  }\n",
              "\n",
              "  .colab-df-quickchart {\n",
              "    background-color: var(--bg-color);\n",
              "    border: none;\n",
              "    border-radius: 50%;\n",
              "    cursor: pointer;\n",
              "    display: none;\n",
              "    fill: var(--fill-color);\n",
              "    height: 32px;\n",
              "    padding: 0;\n",
              "    width: 32px;\n",
              "  }\n",
              "\n",
              "  .colab-df-quickchart:hover {\n",
              "    background-color: var(--hover-bg-color);\n",
              "    box-shadow: 0 1px 2px rgba(60, 64, 67, 0.3), 0 1px 3px 1px rgba(60, 64, 67, 0.15);\n",
              "    fill: var(--button-hover-fill-color);\n",
              "  }\n",
              "\n",
              "  .colab-df-quickchart-complete:disabled,\n",
              "  .colab-df-quickchart-complete:disabled:hover {\n",
              "    background-color: var(--disabled-bg-color);\n",
              "    fill: var(--disabled-fill-color);\n",
              "    box-shadow: none;\n",
              "  }\n",
              "\n",
              "  .colab-df-spinner {\n",
              "    border: 2px solid var(--fill-color);\n",
              "    border-color: transparent;\n",
              "    border-bottom-color: var(--fill-color);\n",
              "    animation:\n",
              "      spin 1s steps(1) infinite;\n",
              "  }\n",
              "\n",
              "  @keyframes spin {\n",
              "    0% {\n",
              "      border-color: transparent;\n",
              "      border-bottom-color: var(--fill-color);\n",
              "      border-left-color: var(--fill-color);\n",
              "    }\n",
              "    20% {\n",
              "      border-color: transparent;\n",
              "      border-left-color: var(--fill-color);\n",
              "      border-top-color: var(--fill-color);\n",
              "    }\n",
              "    30% {\n",
              "      border-color: transparent;\n",
              "      border-left-color: var(--fill-color);\n",
              "      border-top-color: var(--fill-color);\n",
              "      border-right-color: var(--fill-color);\n",
              "    }\n",
              "    40% {\n",
              "      border-color: transparent;\n",
              "      border-right-color: var(--fill-color);\n",
              "      border-top-color: var(--fill-color);\n",
              "    }\n",
              "    60% {\n",
              "      border-color: transparent;\n",
              "      border-right-color: var(--fill-color);\n",
              "    }\n",
              "    80% {\n",
              "      border-color: transparent;\n",
              "      border-right-color: var(--fill-color);\n",
              "      border-bottom-color: var(--fill-color);\n",
              "    }\n",
              "    90% {\n",
              "      border-color: transparent;\n",
              "      border-bottom-color: var(--fill-color);\n",
              "    }\n",
              "  }\n",
              "</style>\n",
              "\n",
              "      <script>\n",
              "        async function quickchart(key) {\n",
              "          const quickchartButtonEl =\n",
              "            document.querySelector('#' + key + ' button');\n",
              "          quickchartButtonEl.disabled = true;  // To prevent multiple clicks.\n",
              "          quickchartButtonEl.classList.add('colab-df-spinner');\n",
              "          try {\n",
              "            const charts = await google.colab.kernel.invokeFunction(\n",
              "                'suggestCharts', [key], {});\n",
              "          } catch (error) {\n",
              "            console.error('Error during call to suggestCharts:', error);\n",
              "          }\n",
              "          quickchartButtonEl.classList.remove('colab-df-spinner');\n",
              "          quickchartButtonEl.classList.add('colab-df-quickchart-complete');\n",
              "        }\n",
              "        (() => {\n",
              "          let quickchartButtonEl =\n",
              "            document.querySelector('#df-6bc0bd0f-6fd4-40b6-b201-42c593fd708e button');\n",
              "          quickchartButtonEl.style.display =\n",
              "            google.colab.kernel.accessAllowed ? 'block' : 'none';\n",
              "        })();\n",
              "      </script>\n",
              "    </div>\n",
              "\n",
              "    </div>\n",
              "  </div>\n"
            ],
            "application/vnd.google.colaboratory.intrinsic+json": {
              "type": "dataframe",
              "variable_name": "df",
              "summary": "{\n  \"name\": \"df\",\n  \"rows\": 16393,\n  \"fields\": [\n    {\n      \"column\": \"MedInc\",\n      \"properties\": {\n        \"dtype\": \"number\",\n        \"std\": 1.4487997783572961,\n        \"min\": 0.536,\n        \"max\": 8.0113,\n        \"num_unique_values\": 10519,\n        \"samples\": [\n          3.4835,\n          1.8589,\n          2.6759\n        ],\n        \"semantic_type\": \"\",\n        \"description\": \"\"\n      }\n    },\n    {\n      \"column\": \"HouseAge\",\n      \"properties\": {\n        \"dtype\": \"number\",\n        \"std\": 12.204684179206172,\n        \"min\": 1.0,\n        \"max\": 52.0,\n        \"num_unique_values\": 52,\n        \"samples\": [\n          10.0,\n          5.0,\n          12.0\n        ],\n        \"semantic_type\": \"\",\n        \"description\": \"\"\n      }\n    },\n    {\n      \"column\": \"AveRooms\",\n      \"properties\": {\n        \"dtype\": \"number\",\n        \"std\": 1.0447539479184247,\n        \"min\": 2.0327380952380953,\n        \"max\": 8.452914798206278,\n        \"num_unique_values\": 15483,\n        \"samples\": [\n          4.5353625783348255,\n          4.343692870201097,\n          6.570539419087137\n        ],\n        \"semantic_type\": \"\",\n        \"description\": \"\"\n      }\n    },\n    {\n      \"column\": \"AveBedrms\",\n      \"properties\": {\n        \"dtype\": \"number\",\n        \"std\": 0.06653190253259017,\n        \"min\": 0.8660130718954249,\n        \"max\": 1.2395209580838322,\n        \"num_unique_values\": 11319,\n        \"samples\": [\n          1.0031152647975077,\n          1.1507177033492824,\n          1.0574324324324325\n        ],\n        \"semantic_type\": \"\",\n        \"description\": \"\"\n      }\n    },\n    {\n      \"column\": \"Population\",\n      \"properties\": {\n        \"dtype\": \"number\",\n        \"std\": 627.220655879347,\n        \"min\": 5.0,\n        \"max\": 3132.0,\n        \"num_unique_values\": 2816,\n        \"samples\": [\n          740.0,\n          2002.0,\n          1014.0\n        ],\n        \"semantic_type\": \"\",\n        \"description\": \"\"\n      }\n    },\n    {\n      \"column\": \"AveOccup\",\n      \"properties\": {\n        \"dtype\": \"number\",\n        \"std\": 0.6257431181852395,\n        \"min\": 1.1612903225806452,\n        \"max\": 4.5607476635514015,\n        \"num_unique_values\": 15167,\n        \"samples\": [\n          2.875409836065574,\n          2.8686868686868685,\n          2.723112128146453\n        ],\n        \"semantic_type\": \"\",\n        \"description\": \"\"\n      }\n    },\n    {\n      \"column\": \"Latitude\",\n      \"properties\": {\n        \"dtype\": \"number\",\n        \"std\": 2.1395588163110886,\n        \"min\": 32.54,\n        \"max\": 41.95,\n        \"num_unique_values\": 819,\n        \"samples\": [\n          39.44,\n          34.18,\n          39.94\n        ],\n        \"semantic_type\": \"\",\n        \"description\": \"\"\n      }\n    },\n    {\n      \"column\": \"Longitude\",\n      \"properties\": {\n        \"dtype\": \"number\",\n        \"std\": 1.9954303319082691,\n        \"min\": -124.35,\n        \"max\": -114.57,\n        \"num_unique_values\": 753,\n        \"samples\": [\n          -122.82,\n          -116.41,\n          -122.83\n        ],\n        \"semantic_type\": \"\",\n        \"description\": \"\"\n      }\n    },\n    {\n      \"column\": \"target\",\n      \"properties\": {\n        \"dtype\": \"number\",\n        \"std\": 0.9648671160165302,\n        \"min\": 0.14999,\n        \"max\": 5.0,\n        \"num_unique_values\": 3682,\n        \"samples\": [\n          4.056,\n          1.562,\n          4.411\n        ],\n        \"semantic_type\": \"\",\n        \"description\": \"\"\n      }\n    }\n  ]\n}"
            }
          },
          "metadata": {},
          "execution_count": 5
        }
      ],
      "source": [
        "df = pd.read_feather('cdiae/data/03_model_input/california_housing_clean.ftr')\n",
        "df.head()"
      ]
    },
    {
      "cell_type": "markdown",
      "id": "7f340285",
      "metadata": {
        "id": "7f340285"
      },
      "source": [
        "Estadísticas descriptivas:"
      ]
    },
    {
      "cell_type": "code",
      "execution_count": 8,
      "id": "6d17d54e",
      "metadata": {
        "id": "6d17d54e",
        "outputId": "81362b78-0ceb-4974-99a3-fec532b322ee",
        "colab": {
          "base_uri": "https://localhost:8080/",
          "height": 313
        }
      },
      "outputs": [
        {
          "output_type": "execute_result",
          "data": {
            "text/plain": [
              "             MedInc      HouseAge      AveRooms     AveBedrms    Population  \\\n",
              "count  16393.000000  16393.000000  16393.000000  16393.000000  16393.000000   \n",
              "mean       3.664875     29.491795      5.157438      1.047261   1270.523699   \n",
              "std        1.448800     12.204684      1.044754      0.066532    627.220656   \n",
              "min        0.536000      1.000000      2.032738      0.866013      5.000000   \n",
              "25%        2.563900     19.000000      4.425963      1.002770    812.000000   \n",
              "50%        3.500000     30.000000      5.144289      1.043807   1158.000000   \n",
              "75%        4.593800     38.000000      5.852735      1.088685   1635.000000   \n",
              "max        8.011300     52.000000      8.452915      1.239521   3132.000000   \n",
              "\n",
              "           AveOccup      Latitude     Longitude        target  \n",
              "count  16393.000000  16393.000000  16393.000000  16393.000000  \n",
              "mean       2.862434     35.668856   -119.627363      1.942280  \n",
              "std        0.625743      2.139559      1.995430      0.964867  \n",
              "min        1.161290     32.540000   -124.350000      0.149990  \n",
              "25%        2.434066     33.940000   -121.820000      1.188000  \n",
              "50%        2.811881     34.290000   -118.600000      1.781000  \n",
              "75%        3.243553     37.730000   -118.030000      2.509000  \n",
              "max        4.560748     41.950000   -114.570000      5.000000  "
            ],
            "text/html": [
              "\n",
              "  <div id=\"df-6d333373-fa8c-4e8a-bfcf-54e68aea0fb4\" class=\"colab-df-container\">\n",
              "    <div>\n",
              "<style scoped>\n",
              "    .dataframe tbody tr th:only-of-type {\n",
              "        vertical-align: middle;\n",
              "    }\n",
              "\n",
              "    .dataframe tbody tr th {\n",
              "        vertical-align: top;\n",
              "    }\n",
              "\n",
              "    .dataframe thead th {\n",
              "        text-align: right;\n",
              "    }\n",
              "</style>\n",
              "<table border=\"1\" class=\"dataframe\">\n",
              "  <thead>\n",
              "    <tr style=\"text-align: right;\">\n",
              "      <th></th>\n",
              "      <th>MedInc</th>\n",
              "      <th>HouseAge</th>\n",
              "      <th>AveRooms</th>\n",
              "      <th>AveBedrms</th>\n",
              "      <th>Population</th>\n",
              "      <th>AveOccup</th>\n",
              "      <th>Latitude</th>\n",
              "      <th>Longitude</th>\n",
              "      <th>target</th>\n",
              "    </tr>\n",
              "  </thead>\n",
              "  <tbody>\n",
              "    <tr>\n",
              "      <th>count</th>\n",
              "      <td>16393.000000</td>\n",
              "      <td>16393.000000</td>\n",
              "      <td>16393.000000</td>\n",
              "      <td>16393.000000</td>\n",
              "      <td>16393.000000</td>\n",
              "      <td>16393.000000</td>\n",
              "      <td>16393.000000</td>\n",
              "      <td>16393.000000</td>\n",
              "      <td>16393.000000</td>\n",
              "    </tr>\n",
              "    <tr>\n",
              "      <th>mean</th>\n",
              "      <td>3.664875</td>\n",
              "      <td>29.491795</td>\n",
              "      <td>5.157438</td>\n",
              "      <td>1.047261</td>\n",
              "      <td>1270.523699</td>\n",
              "      <td>2.862434</td>\n",
              "      <td>35.668856</td>\n",
              "      <td>-119.627363</td>\n",
              "      <td>1.942280</td>\n",
              "    </tr>\n",
              "    <tr>\n",
              "      <th>std</th>\n",
              "      <td>1.448800</td>\n",
              "      <td>12.204684</td>\n",
              "      <td>1.044754</td>\n",
              "      <td>0.066532</td>\n",
              "      <td>627.220656</td>\n",
              "      <td>0.625743</td>\n",
              "      <td>2.139559</td>\n",
              "      <td>1.995430</td>\n",
              "      <td>0.964867</td>\n",
              "    </tr>\n",
              "    <tr>\n",
              "      <th>min</th>\n",
              "      <td>0.536000</td>\n",
              "      <td>1.000000</td>\n",
              "      <td>2.032738</td>\n",
              "      <td>0.866013</td>\n",
              "      <td>5.000000</td>\n",
              "      <td>1.161290</td>\n",
              "      <td>32.540000</td>\n",
              "      <td>-124.350000</td>\n",
              "      <td>0.149990</td>\n",
              "    </tr>\n",
              "    <tr>\n",
              "      <th>25%</th>\n",
              "      <td>2.563900</td>\n",
              "      <td>19.000000</td>\n",
              "      <td>4.425963</td>\n",
              "      <td>1.002770</td>\n",
              "      <td>812.000000</td>\n",
              "      <td>2.434066</td>\n",
              "      <td>33.940000</td>\n",
              "      <td>-121.820000</td>\n",
              "      <td>1.188000</td>\n",
              "    </tr>\n",
              "    <tr>\n",
              "      <th>50%</th>\n",
              "      <td>3.500000</td>\n",
              "      <td>30.000000</td>\n",
              "      <td>5.144289</td>\n",
              "      <td>1.043807</td>\n",
              "      <td>1158.000000</td>\n",
              "      <td>2.811881</td>\n",
              "      <td>34.290000</td>\n",
              "      <td>-118.600000</td>\n",
              "      <td>1.781000</td>\n",
              "    </tr>\n",
              "    <tr>\n",
              "      <th>75%</th>\n",
              "      <td>4.593800</td>\n",
              "      <td>38.000000</td>\n",
              "      <td>5.852735</td>\n",
              "      <td>1.088685</td>\n",
              "      <td>1635.000000</td>\n",
              "      <td>3.243553</td>\n",
              "      <td>37.730000</td>\n",
              "      <td>-118.030000</td>\n",
              "      <td>2.509000</td>\n",
              "    </tr>\n",
              "    <tr>\n",
              "      <th>max</th>\n",
              "      <td>8.011300</td>\n",
              "      <td>52.000000</td>\n",
              "      <td>8.452915</td>\n",
              "      <td>1.239521</td>\n",
              "      <td>3132.000000</td>\n",
              "      <td>4.560748</td>\n",
              "      <td>41.950000</td>\n",
              "      <td>-114.570000</td>\n",
              "      <td>5.000000</td>\n",
              "    </tr>\n",
              "  </tbody>\n",
              "</table>\n",
              "</div>\n",
              "    <div class=\"colab-df-buttons\">\n",
              "\n",
              "  <div class=\"colab-df-container\">\n",
              "    <button class=\"colab-df-convert\" onclick=\"convertToInteractive('df-6d333373-fa8c-4e8a-bfcf-54e68aea0fb4')\"\n",
              "            title=\"Convert this dataframe to an interactive table.\"\n",
              "            style=\"display:none;\">\n",
              "\n",
              "  <svg xmlns=\"http://www.w3.org/2000/svg\" height=\"24px\" viewBox=\"0 -960 960 960\">\n",
              "    <path d=\"M120-120v-720h720v720H120Zm60-500h600v-160H180v160Zm220 220h160v-160H400v160Zm0 220h160v-160H400v160ZM180-400h160v-160H180v160Zm440 0h160v-160H620v160ZM180-180h160v-160H180v160Zm440 0h160v-160H620v160Z\"/>\n",
              "  </svg>\n",
              "    </button>\n",
              "\n",
              "  <style>\n",
              "    .colab-df-container {\n",
              "      display:flex;\n",
              "      gap: 12px;\n",
              "    }\n",
              "\n",
              "    .colab-df-convert {\n",
              "      background-color: #E8F0FE;\n",
              "      border: none;\n",
              "      border-radius: 50%;\n",
              "      cursor: pointer;\n",
              "      display: none;\n",
              "      fill: #1967D2;\n",
              "      height: 32px;\n",
              "      padding: 0 0 0 0;\n",
              "      width: 32px;\n",
              "    }\n",
              "\n",
              "    .colab-df-convert:hover {\n",
              "      background-color: #E2EBFA;\n",
              "      box-shadow: 0px 1px 2px rgba(60, 64, 67, 0.3), 0px 1px 3px 1px rgba(60, 64, 67, 0.15);\n",
              "      fill: #174EA6;\n",
              "    }\n",
              "\n",
              "    .colab-df-buttons div {\n",
              "      margin-bottom: 4px;\n",
              "    }\n",
              "\n",
              "    [theme=dark] .colab-df-convert {\n",
              "      background-color: #3B4455;\n",
              "      fill: #D2E3FC;\n",
              "    }\n",
              "\n",
              "    [theme=dark] .colab-df-convert:hover {\n",
              "      background-color: #434B5C;\n",
              "      box-shadow: 0px 1px 3px 1px rgba(0, 0, 0, 0.15);\n",
              "      filter: drop-shadow(0px 1px 2px rgba(0, 0, 0, 0.3));\n",
              "      fill: #FFFFFF;\n",
              "    }\n",
              "  </style>\n",
              "\n",
              "    <script>\n",
              "      const buttonEl =\n",
              "        document.querySelector('#df-6d333373-fa8c-4e8a-bfcf-54e68aea0fb4 button.colab-df-convert');\n",
              "      buttonEl.style.display =\n",
              "        google.colab.kernel.accessAllowed ? 'block' : 'none';\n",
              "\n",
              "      async function convertToInteractive(key) {\n",
              "        const element = document.querySelector('#df-6d333373-fa8c-4e8a-bfcf-54e68aea0fb4');\n",
              "        const dataTable =\n",
              "          await google.colab.kernel.invokeFunction('convertToInteractive',\n",
              "                                                    [key], {});\n",
              "        if (!dataTable) return;\n",
              "\n",
              "        const docLinkHtml = 'Like what you see? Visit the ' +\n",
              "          '<a target=\"_blank\" href=https://colab.research.google.com/notebooks/data_table.ipynb>data table notebook</a>'\n",
              "          + ' to learn more about interactive tables.';\n",
              "        element.innerHTML = '';\n",
              "        dataTable['output_type'] = 'display_data';\n",
              "        await google.colab.output.renderOutput(dataTable, element);\n",
              "        const docLink = document.createElement('div');\n",
              "        docLink.innerHTML = docLinkHtml;\n",
              "        element.appendChild(docLink);\n",
              "      }\n",
              "    </script>\n",
              "  </div>\n",
              "\n",
              "\n",
              "    <div id=\"df-1bad3328-97da-4ae5-9f61-aedd34810f0e\">\n",
              "      <button class=\"colab-df-quickchart\" onclick=\"quickchart('df-1bad3328-97da-4ae5-9f61-aedd34810f0e')\"\n",
              "                title=\"Suggest charts\"\n",
              "                style=\"display:none;\">\n",
              "\n",
              "<svg xmlns=\"http://www.w3.org/2000/svg\" height=\"24px\"viewBox=\"0 0 24 24\"\n",
              "     width=\"24px\">\n",
              "    <g>\n",
              "        <path d=\"M19 3H5c-1.1 0-2 .9-2 2v14c0 1.1.9 2 2 2h14c1.1 0 2-.9 2-2V5c0-1.1-.9-2-2-2zM9 17H7v-7h2v7zm4 0h-2V7h2v10zm4 0h-2v-4h2v4z\"/>\n",
              "    </g>\n",
              "</svg>\n",
              "      </button>\n",
              "\n",
              "<style>\n",
              "  .colab-df-quickchart {\n",
              "      --bg-color: #E8F0FE;\n",
              "      --fill-color: #1967D2;\n",
              "      --hover-bg-color: #E2EBFA;\n",
              "      --hover-fill-color: #174EA6;\n",
              "      --disabled-fill-color: #AAA;\n",
              "      --disabled-bg-color: #DDD;\n",
              "  }\n",
              "\n",
              "  [theme=dark] .colab-df-quickchart {\n",
              "      --bg-color: #3B4455;\n",
              "      --fill-color: #D2E3FC;\n",
              "      --hover-bg-color: #434B5C;\n",
              "      --hover-fill-color: #FFFFFF;\n",
              "      --disabled-bg-color: #3B4455;\n",
              "      --disabled-fill-color: #666;\n",
              "  }\n",
              "\n",
              "  .colab-df-quickchart {\n",
              "    background-color: var(--bg-color);\n",
              "    border: none;\n",
              "    border-radius: 50%;\n",
              "    cursor: pointer;\n",
              "    display: none;\n",
              "    fill: var(--fill-color);\n",
              "    height: 32px;\n",
              "    padding: 0;\n",
              "    width: 32px;\n",
              "  }\n",
              "\n",
              "  .colab-df-quickchart:hover {\n",
              "    background-color: var(--hover-bg-color);\n",
              "    box-shadow: 0 1px 2px rgba(60, 64, 67, 0.3), 0 1px 3px 1px rgba(60, 64, 67, 0.15);\n",
              "    fill: var(--button-hover-fill-color);\n",
              "  }\n",
              "\n",
              "  .colab-df-quickchart-complete:disabled,\n",
              "  .colab-df-quickchart-complete:disabled:hover {\n",
              "    background-color: var(--disabled-bg-color);\n",
              "    fill: var(--disabled-fill-color);\n",
              "    box-shadow: none;\n",
              "  }\n",
              "\n",
              "  .colab-df-spinner {\n",
              "    border: 2px solid var(--fill-color);\n",
              "    border-color: transparent;\n",
              "    border-bottom-color: var(--fill-color);\n",
              "    animation:\n",
              "      spin 1s steps(1) infinite;\n",
              "  }\n",
              "\n",
              "  @keyframes spin {\n",
              "    0% {\n",
              "      border-color: transparent;\n",
              "      border-bottom-color: var(--fill-color);\n",
              "      border-left-color: var(--fill-color);\n",
              "    }\n",
              "    20% {\n",
              "      border-color: transparent;\n",
              "      border-left-color: var(--fill-color);\n",
              "      border-top-color: var(--fill-color);\n",
              "    }\n",
              "    30% {\n",
              "      border-color: transparent;\n",
              "      border-left-color: var(--fill-color);\n",
              "      border-top-color: var(--fill-color);\n",
              "      border-right-color: var(--fill-color);\n",
              "    }\n",
              "    40% {\n",
              "      border-color: transparent;\n",
              "      border-right-color: var(--fill-color);\n",
              "      border-top-color: var(--fill-color);\n",
              "    }\n",
              "    60% {\n",
              "      border-color: transparent;\n",
              "      border-right-color: var(--fill-color);\n",
              "    }\n",
              "    80% {\n",
              "      border-color: transparent;\n",
              "      border-right-color: var(--fill-color);\n",
              "      border-bottom-color: var(--fill-color);\n",
              "    }\n",
              "    90% {\n",
              "      border-color: transparent;\n",
              "      border-bottom-color: var(--fill-color);\n",
              "    }\n",
              "  }\n",
              "</style>\n",
              "\n",
              "      <script>\n",
              "        async function quickchart(key) {\n",
              "          const quickchartButtonEl =\n",
              "            document.querySelector('#' + key + ' button');\n",
              "          quickchartButtonEl.disabled = true;  // To prevent multiple clicks.\n",
              "          quickchartButtonEl.classList.add('colab-df-spinner');\n",
              "          try {\n",
              "            const charts = await google.colab.kernel.invokeFunction(\n",
              "                'suggestCharts', [key], {});\n",
              "          } catch (error) {\n",
              "            console.error('Error during call to suggestCharts:', error);\n",
              "          }\n",
              "          quickchartButtonEl.classList.remove('colab-df-spinner');\n",
              "          quickchartButtonEl.classList.add('colab-df-quickchart-complete');\n",
              "        }\n",
              "        (() => {\n",
              "          let quickchartButtonEl =\n",
              "            document.querySelector('#df-1bad3328-97da-4ae5-9f61-aedd34810f0e button');\n",
              "          quickchartButtonEl.style.display =\n",
              "            google.colab.kernel.accessAllowed ? 'block' : 'none';\n",
              "        })();\n",
              "      </script>\n",
              "    </div>\n",
              "\n",
              "    </div>\n",
              "  </div>\n"
            ],
            "application/vnd.google.colaboratory.intrinsic+json": {
              "type": "dataframe",
              "summary": "{\n  \"name\": \"df\",\n  \"rows\": 8,\n  \"fields\": [\n    {\n      \"column\": \"MedInc\",\n      \"properties\": {\n        \"dtype\": \"number\",\n        \"std\": 5794.572890296024,\n        \"min\": 0.536,\n        \"max\": 16393.0,\n        \"num_unique_values\": 8,\n        \"samples\": [\n          3.664874952723723,\n          3.5,\n          16393.0\n        ],\n        \"semantic_type\": \"\",\n        \"description\": \"\"\n      }\n    },\n    {\n      \"column\": \"HouseAge\",\n      \"properties\": {\n        \"dtype\": \"number\",\n        \"std\": 5786.644812435864,\n        \"min\": 1.0,\n        \"max\": 16393.0,\n        \"num_unique_values\": 8,\n        \"samples\": [\n          29.49179527847252,\n          30.0,\n          16393.0\n        ],\n        \"semantic_type\": \"\",\n        \"description\": \"\"\n      }\n    },\n    {\n      \"column\": \"AveRooms\",\n      \"properties\": {\n        \"dtype\": \"number\",\n        \"std\": 5794.1793373196015,\n        \"min\": 1.0447539479184247,\n        \"max\": 16393.0,\n        \"num_unique_values\": 8,\n        \"samples\": [\n          5.15743823092621,\n          5.144288577154309,\n          16393.0\n        ],\n        \"semantic_type\": \"\",\n        \"description\": \"\"\n      }\n    },\n    {\n      \"column\": \"AveBedrms\",\n      \"properties\": {\n        \"dtype\": \"number\",\n        \"std\": 5795.479787862332,\n        \"min\": 0.06653190253259017,\n        \"max\": 16393.0,\n        \"num_unique_values\": 8,\n        \"samples\": [\n          1.0472613893719185,\n          1.0438066465256797,\n          16393.0\n        ],\n        \"semantic_type\": \"\",\n        \"description\": \"\"\n      }\n    },\n    {\n      \"column\": \"Population\",\n      \"properties\": {\n        \"dtype\": \"number\",\n        \"std\": 5436.533572287577,\n        \"min\": 5.0,\n        \"max\": 16393.0,\n        \"num_unique_values\": 8,\n        \"samples\": [\n          1270.5236991398767,\n          1158.0,\n          16393.0\n        ],\n        \"semantic_type\": \"\",\n        \"description\": \"\"\n      }\n    },\n    {\n      \"column\": \"AveOccup\",\n      \"properties\": {\n        \"dtype\": \"number\",\n        \"std\": 5794.906888743923,\n        \"min\": 0.6257431181852395,\n        \"max\": 16393.0,\n        \"num_unique_values\": 8,\n        \"samples\": [\n          2.8624336708902196,\n          2.8118811881188117,\n          16393.0\n        ],\n        \"semantic_type\": \"\",\n        \"description\": \"\"\n      }\n    },\n    {\n      \"column\": \"Latitude\",\n      \"properties\": {\n        \"dtype\": \"number\",\n        \"std\": 5784.789877846163,\n        \"min\": 2.1395588163110886,\n        \"max\": 16393.0,\n        \"num_unique_values\": 8,\n        \"samples\": [\n          35.66885560910145,\n          34.29,\n          16393.0\n        ],\n        \"semantic_type\": \"\",\n        \"description\": \"\"\n      }\n    },\n    {\n      \"column\": \"Longitude\",\n      \"properties\": {\n        \"dtype\": \"number\",\n        \"std\": 5832.069433291017,\n        \"min\": -124.35,\n        \"max\": 16393.0,\n        \"num_unique_values\": 8,\n        \"samples\": [\n          -119.62736289879825,\n          -118.6,\n          16393.0\n        ],\n        \"semantic_type\": \"\",\n        \"description\": \"\"\n      }\n    },\n    {\n      \"column\": \"target\",\n      \"properties\": {\n        \"dtype\": \"number\",\n        \"std\": 5795.117282239638,\n        \"min\": 0.14999,\n        \"max\": 16393.0,\n        \"num_unique_values\": 8,\n        \"samples\": [\n          1.9422798139449766,\n          1.781,\n          16393.0\n        ],\n        \"semantic_type\": \"\",\n        \"description\": \"\"\n      }\n    }\n  ]\n}"
            }
          },
          "metadata": {},
          "execution_count": 8
        }
      ],
      "source": [
        "df.describe()"
      ]
    },
    {
      "cell_type": "markdown",
      "id": "9be7edda",
      "metadata": {
        "id": "9be7edda"
      },
      "source": [
        "Verificamos si hay valores nulos por columna:"
      ]
    },
    {
      "cell_type": "code",
      "execution_count": 9,
      "id": "cc56559a",
      "metadata": {
        "id": "cc56559a",
        "outputId": "4745419e-33d1-483f-d851-9995fdcf7cf3",
        "colab": {
          "base_uri": "https://localhost:8080/"
        }
      },
      "outputs": [
        {
          "output_type": "stream",
          "name": "stdout",
          "text": [
            "MedInc        0\n",
            "HouseAge      0\n",
            "AveRooms      0\n",
            "AveBedrms     0\n",
            "Population    0\n",
            "AveOccup      0\n",
            "Latitude      0\n",
            "Longitude     0\n",
            "target        0\n",
            "dtype: int64\n"
          ]
        }
      ],
      "source": [
        "print(df.isnull().sum())"
      ]
    },
    {
      "cell_type": "markdown",
      "source": [
        "- **y** será nuestra variable dependiente: la que queremos analizar, modelizar o predecir.\n",
        "- **X** será nuestra variable o variables explicativas (independientes): la que usamos para explicar o predecir."
      ],
      "metadata": {
        "id": "gbpQ8_Gl_e68"
      },
      "id": "gbpQ8_Gl_e68"
    },
    {
      "cell_type": "code",
      "execution_count": 10,
      "id": "ef5921a6",
      "metadata": {
        "id": "ef5921a6"
      },
      "outputs": [],
      "source": [
        "y = df['target']\n",
        "X = df.drop(columns='target')"
      ]
    },
    {
      "cell_type": "markdown",
      "id": "550a7a69",
      "metadata": {
        "id": "550a7a69"
      },
      "source": [
        "### 1. Estandarizamos los datos antes de aplicar PCA\n",
        "Transforma cada variable para que tenga media 0 y desvest 1."
      ]
    },
    {
      "cell_type": "code",
      "execution_count": null,
      "id": "106c92be",
      "metadata": {
        "id": "106c92be"
      },
      "outputs": [],
      "source": [
        "scaler = StandardScaler()\n",
        "X_scaled = scaler.fit_transform(X)"
      ]
    },
    {
      "cell_type": "markdown",
      "id": "2404923a",
      "metadata": {
        "id": "2404923a"
      },
      "source": [
        "### 2. Aplicamos la fórmula de PCA"
      ]
    },
    {
      "cell_type": "code",
      "execution_count": null,
      "id": "66eaa2d2",
      "metadata": {
        "id": "66eaa2d2"
      },
      "outputs": [],
      "source": [
        "pca = PCA()\n",
        "X_pca = pca.fit_transform(X_scaled)"
      ]
    },
    {
      "cell_type": "markdown",
      "id": "70da89db",
      "metadata": {
        "id": "70da89db"
      },
      "source": [
        "### 3. Analizamos la varianza explicada por cada componente"
      ]
    },
    {
      "cell_type": "code",
      "execution_count": null,
      "id": "fcb7d5f8",
      "metadata": {
        "id": "fcb7d5f8"
      },
      "outputs": [],
      "source": [
        "explained_variance_ratio = pca.explained_variance_ratio_\n",
        "explained_variance_ratio"
      ]
    },
    {
      "cell_type": "code",
      "execution_count": null,
      "id": "3c5c7782",
      "metadata": {
        "id": "3c5c7782"
      },
      "outputs": [],
      "source": [
        "cumulative_variance_ratio = np.cumsum(explained_variance_ratio)\n",
        "cumulative_variance_ratio"
      ]
    },
    {
      "cell_type": "markdown",
      "id": "340e21b6",
      "metadata": {
        "id": "340e21b6"
      },
      "source": [
        "### 4. Visualizamos la varianza explicada por cada componente:\n"
      ]
    },
    {
      "cell_type": "code",
      "execution_count": null,
      "id": "b2810dc3",
      "metadata": {
        "id": "b2810dc3"
      },
      "outputs": [],
      "source": [
        "plt.figure(figsize=(10, 6))\n",
        "bars = plt.bar(range(1, len(explained_variance_ratio) + 1), explained_variance_ratio)\n",
        "plt.plot(range(1, len(cumulative_variance_ratio) + 1), cumulative_variance_ratio, 'r-o', linewidth=2)\n",
        "plt.xlabel('Componente Principal')\n",
        "plt.ylabel('Proporción de Varianza Explicada')\n",
        "plt.title('Varianza Explicada por Componente Principal')\n",
        "plt.xticks(range(1, len(explained_variance_ratio) + 1))\n",
        "plt.grid(True)\n",
        "# Añadir etiquetas de porcentaje a las barras\n",
        "for i, bar in enumerate(bars):\n",
        "    plt.text(bar.get_x() + bar.get_width()/2, bar.get_height() + 0.01,\n",
        "             f'{explained_variance_ratio[i]:.2%}',\n",
        "             ha='center', va='bottom', rotation=0)\n",
        "plt.show()"
      ]
    },
    {
      "cell_type": "markdown",
      "id": "6d7eb9c1",
      "metadata": {
        "id": "6d7eb9c1"
      },
      "source": [
        "### 5. Determinar el número óptimo de componentes\n",
        "Podemos elegir el número de componentes que expliquen al menos el 95% de la varianza"
      ]
    },
    {
      "cell_type": "code",
      "execution_count": null,
      "id": "0a7b361b",
      "metadata": {
        "id": "0a7b361b"
      },
      "outputs": [],
      "source": [
        "n_components = np.argmax(cumulative_variance_ratio >= 0.95) + 1\n",
        "print(f\"\\nNúmero de componentes para explicar al menos el 95% de la varianza: {n_components}\")\n",
        "print(f\"Varianza acumulada explicada con {n_components} componentes: {cumulative_variance_ratio[n_components-1]:.4f}\")"
      ]
    },
    {
      "cell_type": "markdown",
      "id": "7fc8e6fa",
      "metadata": {
        "id": "7fc8e6fa"
      },
      "source": [
        "Aplicamos PCA con el número óptimo de componentes"
      ]
    },
    {
      "cell_type": "code",
      "execution_count": null,
      "id": "ef0b8159",
      "metadata": {
        "id": "ef0b8159"
      },
      "outputs": [],
      "source": [
        "pca_optimal = PCA(n_components=n_components)\n",
        "X_pca_optimal = pca_optimal.fit_transform(X_scaled)"
      ]
    },
    {
      "cell_type": "code",
      "execution_count": null,
      "id": "3de96b28",
      "metadata": {
        "id": "3de96b28"
      },
      "outputs": [],
      "source": [
        "print(f\"\\nDimensión original del dataset: {X.shape}\")\n",
        "print(f\"Dimensión después de PCA: {X_pca_optimal.shape}\")"
      ]
    },
    {
      "cell_type": "markdown",
      "id": "7ad884ff",
      "metadata": {
        "id": "7ad884ff"
      },
      "source": [
        "### 6. Visualizamos los datos en las primeras 2 componentes principales"
      ]
    },
    {
      "cell_type": "code",
      "execution_count": null,
      "id": "b8ee037a",
      "metadata": {
        "id": "b8ee037a"
      },
      "outputs": [],
      "source": [
        "plt.figure(figsize=(10, 8))\n",
        "scatter = plt.scatter(X_pca[:, 0], X_pca[:, 1], c=y, cmap='coolwarm', alpha=0.5)\n",
        "plt.colorbar(scatter, label='Precio de la casa (en $100,000)')\n",
        "plt.xlabel('Primera Componente Principal')\n",
        "plt.ylabel('Segunda Componente Principal')\n",
        "plt.title('Proyección de los datos en las dos primeras componentes principales')\n",
        "plt.grid(True)\n",
        "plt.show()"
      ]
    },
    {
      "cell_type": "markdown",
      "id": "3238f166",
      "metadata": {
        "id": "3238f166"
      },
      "source": [
        "### 7. Analizamos la contribución de cada característica original a las componentes principales"
      ]
    },
    {
      "cell_type": "code",
      "execution_count": null,
      "id": "669c9035",
      "metadata": {
        "id": "669c9035"
      },
      "outputs": [],
      "source": [
        "loadings = pca.components_\n",
        "feature_names = X.columns\n",
        "loadings_df = pd.DataFrame(loadings.T, columns=[f'PC{i+1}' for i in range(loadings.shape[0])], index=feature_names)\n",
        "loadings_df"
      ]
    },
    {
      "cell_type": "markdown",
      "id": "3f1bdadc",
      "metadata": {
        "id": "3f1bdadc"
      },
      "source": [
        "Por último, visualizamos la contribución de cada característica a las dos primeras componentes principales"
      ]
    },
    {
      "cell_type": "code",
      "execution_count": null,
      "id": "82e81436",
      "metadata": {
        "id": "82e81436"
      },
      "outputs": [],
      "source": [
        "for i, feature in enumerate(feature_names):\n",
        "    plt.arrow(0, 0, loadings[0, i], loadings[1, i], head_width=0.05, head_length=0.05, fc='blue', ec='blue')\n",
        "    plt.text(loadings[0, i], loadings[1, i], feature, fontsize=12)\n",
        "    plt.xlabel('Primera Componente Principal')\n",
        "    plt.ylabel('Segunda Componente Principal')\n",
        "    plt.title('Contribución de cada característica a las dos primeras componentes principales')\n",
        "    plt.grid(True)\n",
        "    plt.axhline(y=0, color='k', linestyle='-', alpha=0.3)\n",
        "    plt.axvline(x=0, color='k', linestyle='-', alpha=0.3)\n",
        "    plt.xlim(-1, 1)\n",
        "    plt.ylim(-1, 1)\n",
        "plt.show()"
      ]
    },
    {
      "cell_type": "markdown",
      "id": "4bd9d286",
      "metadata": {
        "id": "4bd9d286"
      },
      "source": [
        "### 8. Creamos un DataFrame con las puntuaciones de PCA para análisis adicionales"
      ]
    },
    {
      "cell_type": "code",
      "execution_count": null,
      "id": "eadd2726",
      "metadata": {
        "id": "eadd2726"
      },
      "outputs": [],
      "source": [
        "pca_df = pd.DataFrame(\n",
        "    X_pca_optimal,\n",
        "    columns=[f'PC{i+1}' for i in range(X_pca_optimal.shape[1])]\n",
        ")\n",
        "pca_df['PRICE'] = y"
      ]
    },
    {
      "cell_type": "code",
      "execution_count": null,
      "id": "dd7fc926",
      "metadata": {
        "id": "dd7fc926"
      },
      "outputs": [],
      "source": [
        "pca_df.head()"
      ]
    },
    {
      "cell_type": "markdown",
      "id": "2f579376",
      "metadata": {
        "id": "2f579376"
      },
      "source": [
        "### 9. Correlación entre las componentes principales y el precio"
      ]
    },
    {
      "cell_type": "code",
      "execution_count": null,
      "id": "054cb912",
      "metadata": {
        "id": "054cb912"
      },
      "outputs": [],
      "source": [
        "correlations = pca_df.corr()['PRICE'].drop('PRICE')\n",
        "correlations"
      ]
    },
    {
      "cell_type": "markdown",
      "id": "4222c3c3",
      "metadata": {
        "id": "4222c3c3"
      },
      "source": [
        "Visualizamos las correlaciones:"
      ]
    },
    {
      "cell_type": "code",
      "execution_count": null,
      "id": "32de8004",
      "metadata": {
        "id": "32de8004"
      },
      "outputs": [],
      "source": [
        "plt.figure(figsize=(10, 6))\n",
        "correlations.plot(kind='bar')\n",
        "plt.title('Correlación entre las Componentes Principales y el Precio')\n",
        "plt.ylabel('Coeficiente de Correlación')\n",
        "plt.grid(True, axis='y')\n",
        "plt.tight_layout()\n",
        "plt.show()"
      ]
    },
    {
      "cell_type": "markdown",
      "id": "248ac743",
      "metadata": {
        "id": "248ac743"
      },
      "source": [
        "### 10. Reconstruimos los datos originales a partir de las componentes principales"
      ]
    },
    {
      "cell_type": "code",
      "execution_count": null,
      "id": "a57b8c6d",
      "metadata": {
        "id": "a57b8c6d"
      },
      "outputs": [],
      "source": [
        "X_reconstructed = pca_optimal.inverse_transform(X_pca_optimal)\n",
        "X_reconstructed = scaler.inverse_transform(X_reconstructed)"
      ]
    },
    {
      "cell_type": "markdown",
      "id": "5bac03c1",
      "metadata": {
        "id": "5bac03c1"
      },
      "source": [
        "Calculamos el error (RMSE) de reconstrucción:"
      ]
    },
    {
      "cell_type": "code",
      "execution_count": null,
      "id": "a0674232",
      "metadata": {
        "id": "a0674232"
      },
      "outputs": [],
      "source": [
        "reconstruction_error = np.mean((X - X_reconstructed) ** 2)\n",
        "np.sqrt(reconstruction_error)"
      ]
    },
    {
      "cell_type": "markdown",
      "id": "b2d51d2a",
      "metadata": {
        "id": "b2d51d2a"
      },
      "source": [
        "Para una muestra comparamos los valores originales y reconstruidos:"
      ]
    },
    {
      "cell_type": "code",
      "execution_count": null,
      "id": "a34b4eff",
      "metadata": {
        "id": "a34b4eff"
      },
      "outputs": [],
      "source": [
        "sample_idx = 0\n",
        "comparison_df = pd.DataFrame({\n",
        "    'Original': X.iloc[sample_idx],\n",
        "    'Reconstruido': X_reconstructed[sample_idx],\n",
        "    'Diferencia': X.iloc[sample_idx].values - X_reconstructed[sample_idx]\n",
        "})\n",
        "comparison_df"
      ]
    },
    {
      "cell_type": "markdown",
      "id": "e9a66a81",
      "metadata": {
        "id": "e9a66a81"
      },
      "source": [
        "### Conclusiones del análisis PCA"
      ]
    },
    {
      "cell_type": "code",
      "execution_count": null,
      "id": "d82bb298",
      "metadata": {
        "id": "d82bb298"
      },
      "outputs": [],
      "source": [
        "print(f'- Hemos reducido la dimensionalidad de {X.shape[1]} a {n_components} componentes.')\n",
        "print(f'- Estas {n_components} componentes explican el {cumulative_variance_ratio[n_components-1]:.2%} de la varianza total.')\n",
        "print('- La PCA1 está más correlacionada con {}.'.format(feature_names[np.argmax(abs(loadings[0]))]))\n",
        "print('- La segunda componente principal está más correlacionada con {}.'.format(feature_names[np.argmax(abs(loadings[1]))]))"
      ]
    },
    {
      "cell_type": "code",
      "execution_count": null,
      "id": "d857851b",
      "metadata": {
        "id": "d857851b"
      },
      "outputs": [],
      "source": [
        "dominant_features = {f'PC{i+1}': loadings_df[f'PC{i+1}'].abs().idxmax() for i in range(n_components)}\n",
        "print(dominant_features)"
      ]
    }
  ],
  "metadata": {
    "jupytext": {
      "cell_metadata_filter": "-all",
      "main_language": "python",
      "notebook_metadata_filter": "-all"
    },
    "kernelspec": {
      "display_name": "env",
      "language": "python",
      "name": "python3"
    },
    "language_info": {
      "codemirror_mode": {
        "name": "ipython",
        "version": 3
      },
      "file_extension": ".py",
      "mimetype": "text/x-python",
      "name": "python",
      "nbconvert_exporter": "python",
      "pygments_lexer": "ipython3",
      "version": "3.12.3"
    },
    "colab": {
      "provenance": [],
      "include_colab_link": true
    }
  },
  "nbformat": 4,
  "nbformat_minor": 5
}