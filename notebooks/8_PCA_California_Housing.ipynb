{
  "cells": [
    {
      "cell_type": "markdown",
      "metadata": {
        "id": "view-in-github",
        "colab_type": "text"
      },
      "source": [
        "<a href=\"https://colab.research.google.com/github/franciscogarate/cdiae/blob/main/notebooks/7_PCA_California_Housing.ipynb\" target=\"_parent\"><img src=\"https://colab.research.google.com/assets/colab-badge.svg\" alt=\"Open In Colab\"/></a>"
      ]
    },
    {
      "cell_type": "markdown",
      "id": "9f3f6d88",
      "metadata": {
        "id": "9f3f6d88"
      },
      "source": [
        "# Análisis de componentes principales con la base de datos de casas de California"
      ]
    },
    {
      "cell_type": "code",
      "source": [
        "!git clone https://github.com/franciscogarate/cdiae"
      ],
      "metadata": {
        "id": "Xy1MY_EGohnM"
      },
      "id": "Xy1MY_EGohnM",
      "execution_count": null,
      "outputs": []
    },
    {
      "cell_type": "code",
      "execution_count": null,
      "id": "c88e19c4",
      "metadata": {
        "id": "c88e19c4"
      },
      "outputs": [],
      "source": [
        "import numpy as np\n",
        "import pandas as pd\n",
        "import matplotlib.pyplot as plt\n",
        "from sklearn.preprocessing import StandardScaler\n",
        "from sklearn.decomposition import PCA"
      ]
    },
    {
      "cell_type": "markdown",
      "id": "b711fc54",
      "metadata": {
        "id": "b711fc54"
      },
      "source": [
        "Cargamos el dataset de casas de California de ejercicios anteriores"
      ]
    },
    {
      "cell_type": "code",
      "execution_count": null,
      "id": "9a8a467e",
      "metadata": {
        "id": "9a8a467e"
      },
      "outputs": [],
      "source": [
        "df = pd.read_feather('cdiae/data/03_model_input/california_housing_clean.ftr')\n",
        "df.head()"
      ]
    },
    {
      "cell_type": "code",
      "execution_count": null,
      "id": "ef5921a6",
      "metadata": {
        "id": "ef5921a6"
      },
      "outputs": [],
      "source": [
        "X = df.drop(columns='target')\n",
        "y = df['target']"
      ]
    },
    {
      "cell_type": "code",
      "execution_count": null,
      "id": "c231f239",
      "metadata": {
        "id": "c231f239"
      },
      "outputs": [],
      "source": [
        "print(\"Dimensiones del dataset:\", df.shape)\n",
        "df.head()"
      ]
    },
    {
      "cell_type": "markdown",
      "id": "7f340285",
      "metadata": {
        "id": "7f340285"
      },
      "source": [
        "Estadísticas descriptivas:"
      ]
    },
    {
      "cell_type": "code",
      "execution_count": null,
      "id": "6d17d54e",
      "metadata": {
        "id": "6d17d54e"
      },
      "outputs": [],
      "source": [
        "df.describe()"
      ]
    },
    {
      "cell_type": "markdown",
      "id": "9be7edda",
      "metadata": {
        "id": "9be7edda"
      },
      "source": [
        "Verificamos si hay valores nulos por columna:"
      ]
    },
    {
      "cell_type": "code",
      "execution_count": null,
      "id": "cc56559a",
      "metadata": {
        "id": "cc56559a"
      },
      "outputs": [],
      "source": [
        "print(df.isnull().sum())"
      ]
    },
    {
      "cell_type": "markdown",
      "id": "550a7a69",
      "metadata": {
        "id": "550a7a69"
      },
      "source": [
        "### 1. Estandarizamos los datos antes de aplicar PCA\n",
        "Transforma cada variable para que tenga media 0 y desvest 1."
      ]
    },
    {
      "cell_type": "code",
      "execution_count": null,
      "id": "106c92be",
      "metadata": {
        "id": "106c92be"
      },
      "outputs": [],
      "source": [
        "scaler = StandardScaler()\n",
        "X_scaled = scaler.fit_transform(X)"
      ]
    },
    {
      "cell_type": "markdown",
      "id": "2404923a",
      "metadata": {
        "id": "2404923a"
      },
      "source": [
        "### 2. Aplicamos la fórmula de PCA"
      ]
    },
    {
      "cell_type": "code",
      "execution_count": null,
      "id": "66eaa2d2",
      "metadata": {
        "id": "66eaa2d2"
      },
      "outputs": [],
      "source": [
        "pca = PCA()\n",
        "X_pca = pca.fit_transform(X_scaled)"
      ]
    },
    {
      "cell_type": "markdown",
      "id": "70da89db",
      "metadata": {
        "id": "70da89db"
      },
      "source": [
        "### 3. Analizamos la varianza explicada por cada componente"
      ]
    },
    {
      "cell_type": "code",
      "execution_count": null,
      "id": "fcb7d5f8",
      "metadata": {
        "id": "fcb7d5f8"
      },
      "outputs": [],
      "source": [
        "explained_variance_ratio = pca.explained_variance_ratio_\n",
        "explained_variance_ratio"
      ]
    },
    {
      "cell_type": "code",
      "execution_count": null,
      "id": "3c5c7782",
      "metadata": {
        "id": "3c5c7782"
      },
      "outputs": [],
      "source": [
        "cumulative_variance_ratio = np.cumsum(explained_variance_ratio)\n",
        "cumulative_variance_ratio"
      ]
    },
    {
      "cell_type": "markdown",
      "id": "340e21b6",
      "metadata": {
        "id": "340e21b6"
      },
      "source": [
        "### 4. Visualizamos la varianza explicada por cada componente:\n"
      ]
    },
    {
      "cell_type": "code",
      "execution_count": null,
      "id": "b2810dc3",
      "metadata": {
        "id": "b2810dc3"
      },
      "outputs": [],
      "source": [
        "plt.figure(figsize=(10, 6))\n",
        "bars = plt.bar(range(1, len(explained_variance_ratio) + 1), explained_variance_ratio)\n",
        "plt.plot(range(1, len(cumulative_variance_ratio) + 1), cumulative_variance_ratio, 'r-o', linewidth=2)\n",
        "plt.xlabel('Componente Principal')\n",
        "plt.ylabel('Proporción de Varianza Explicada')\n",
        "plt.title('Varianza Explicada por Componente Principal')\n",
        "plt.xticks(range(1, len(explained_variance_ratio) + 1))\n",
        "plt.grid(True)\n",
        "# Añadir etiquetas de porcentaje a las barras\n",
        "for i, bar in enumerate(bars):\n",
        "    plt.text(bar.get_x() + bar.get_width()/2, bar.get_height() + 0.01,\n",
        "             f'{explained_variance_ratio[i]:.2%}',\n",
        "             ha='center', va='bottom', rotation=0)\n",
        "plt.show()"
      ]
    },
    {
      "cell_type": "markdown",
      "id": "6d7eb9c1",
      "metadata": {
        "id": "6d7eb9c1"
      },
      "source": [
        "### 5. Determinar el número óptimo de componentes\n",
        "Podemos elegir el número de componentes que expliquen al menos el 95% de la varianza"
      ]
    },
    {
      "cell_type": "code",
      "execution_count": null,
      "id": "0a7b361b",
      "metadata": {
        "id": "0a7b361b"
      },
      "outputs": [],
      "source": [
        "n_components = np.argmax(cumulative_variance_ratio >= 0.95) + 1\n",
        "print(f\"\\nNúmero de componentes para explicar al menos el 95% de la varianza: {n_components}\")\n",
        "print(f\"Varianza acumulada explicada con {n_components} componentes: {cumulative_variance_ratio[n_components-1]:.4f}\")"
      ]
    },
    {
      "cell_type": "markdown",
      "id": "7fc8e6fa",
      "metadata": {
        "id": "7fc8e6fa"
      },
      "source": [
        "Aplicamos PCA con el número óptimo de componentes"
      ]
    },
    {
      "cell_type": "code",
      "execution_count": null,
      "id": "ef0b8159",
      "metadata": {
        "id": "ef0b8159"
      },
      "outputs": [],
      "source": [
        "pca_optimal = PCA(n_components=n_components)\n",
        "X_pca_optimal = pca_optimal.fit_transform(X_scaled)"
      ]
    },
    {
      "cell_type": "code",
      "execution_count": null,
      "id": "3de96b28",
      "metadata": {
        "id": "3de96b28"
      },
      "outputs": [],
      "source": [
        "print(f\"\\nDimensión original del dataset: {X.shape}\")\n",
        "print(f\"Dimensión después de PCA: {X_pca_optimal.shape}\")"
      ]
    },
    {
      "cell_type": "markdown",
      "id": "7ad884ff",
      "metadata": {
        "id": "7ad884ff"
      },
      "source": [
        "### 6. Visualizamos los datos en las primeras 2 componentes principales"
      ]
    },
    {
      "cell_type": "code",
      "execution_count": null,
      "id": "b8ee037a",
      "metadata": {
        "id": "b8ee037a"
      },
      "outputs": [],
      "source": [
        "plt.figure(figsize=(10, 8))\n",
        "scatter = plt.scatter(X_pca[:, 0], X_pca[:, 1], c=y, cmap='coolwarm', alpha=0.5)\n",
        "plt.colorbar(scatter, label='Precio de la casa (en $100,000)')\n",
        "plt.xlabel('Primera Componente Principal')\n",
        "plt.ylabel('Segunda Componente Principal')\n",
        "plt.title('Proyección de los datos en las dos primeras componentes principales')\n",
        "plt.grid(True)\n",
        "plt.show()"
      ]
    },
    {
      "cell_type": "markdown",
      "id": "3238f166",
      "metadata": {
        "id": "3238f166"
      },
      "source": [
        "### 7. Analizamos la contribución de cada característica original a las componentes principales"
      ]
    },
    {
      "cell_type": "code",
      "execution_count": null,
      "id": "669c9035",
      "metadata": {
        "id": "669c9035"
      },
      "outputs": [],
      "source": [
        "loadings = pca.components_\n",
        "feature_names = X.columns\n",
        "loadings_df = pd.DataFrame(loadings.T, columns=[f'PC{i+1}' for i in range(loadings.shape[0])], index=feature_names)\n",
        "loadings_df"
      ]
    },
    {
      "cell_type": "markdown",
      "id": "3f1bdadc",
      "metadata": {
        "id": "3f1bdadc"
      },
      "source": [
        "Por último, visualizamos la contribución de cada característica a las dos primeras componentes principales"
      ]
    },
    {
      "cell_type": "code",
      "execution_count": null,
      "id": "82e81436",
      "metadata": {
        "id": "82e81436"
      },
      "outputs": [],
      "source": [
        "for i, feature in enumerate(feature_names):\n",
        "    plt.arrow(0, 0, loadings[0, i], loadings[1, i], head_width=0.05, head_length=0.05, fc='blue', ec='blue')\n",
        "    plt.text(loadings[0, i], loadings[1, i], feature, fontsize=12)\n",
        "    plt.xlabel('Primera Componente Principal')\n",
        "    plt.ylabel('Segunda Componente Principal')\n",
        "    plt.title('Contribución de cada característica a las dos primeras componentes principales')\n",
        "    plt.grid(True)\n",
        "    plt.axhline(y=0, color='k', linestyle='-', alpha=0.3)\n",
        "    plt.axvline(x=0, color='k', linestyle='-', alpha=0.3)\n",
        "    plt.xlim(-1, 1)\n",
        "    plt.ylim(-1, 1)\n",
        "plt.show()"
      ]
    },
    {
      "cell_type": "markdown",
      "id": "4bd9d286",
      "metadata": {
        "id": "4bd9d286"
      },
      "source": [
        "### 8. Creamos un DataFrame con las puntuaciones de PCA para análisis adicionales"
      ]
    },
    {
      "cell_type": "code",
      "execution_count": null,
      "id": "eadd2726",
      "metadata": {
        "id": "eadd2726"
      },
      "outputs": [],
      "source": [
        "pca_df = pd.DataFrame(\n",
        "    X_pca_optimal,\n",
        "    columns=[f'PC{i+1}' for i in range(X_pca_optimal.shape[1])]\n",
        ")\n",
        "pca_df['PRICE'] = y"
      ]
    },
    {
      "cell_type": "code",
      "execution_count": null,
      "id": "dd7fc926",
      "metadata": {
        "id": "dd7fc926"
      },
      "outputs": [],
      "source": [
        "pca_df.head()"
      ]
    },
    {
      "cell_type": "markdown",
      "id": "2f579376",
      "metadata": {
        "id": "2f579376"
      },
      "source": [
        "### 9. Correlación entre las componentes principales y el precio"
      ]
    },
    {
      "cell_type": "code",
      "execution_count": null,
      "id": "054cb912",
      "metadata": {
        "id": "054cb912"
      },
      "outputs": [],
      "source": [
        "correlations = pca_df.corr()['PRICE'].drop('PRICE')\n",
        "correlations"
      ]
    },
    {
      "cell_type": "markdown",
      "id": "4222c3c3",
      "metadata": {
        "id": "4222c3c3"
      },
      "source": [
        "Visualizamos las correlaciones:"
      ]
    },
    {
      "cell_type": "code",
      "execution_count": null,
      "id": "32de8004",
      "metadata": {
        "id": "32de8004"
      },
      "outputs": [],
      "source": [
        "plt.figure(figsize=(10, 6))\n",
        "correlations.plot(kind='bar')\n",
        "plt.title('Correlación entre las Componentes Principales y el Precio')\n",
        "plt.ylabel('Coeficiente de Correlación')\n",
        "plt.grid(True, axis='y')\n",
        "plt.tight_layout()\n",
        "plt.show()"
      ]
    },
    {
      "cell_type": "markdown",
      "id": "248ac743",
      "metadata": {
        "id": "248ac743"
      },
      "source": [
        "### 10. Reconstruimos los datos originales a partir de las componentes principales"
      ]
    },
    {
      "cell_type": "code",
      "execution_count": null,
      "id": "a57b8c6d",
      "metadata": {
        "id": "a57b8c6d"
      },
      "outputs": [],
      "source": [
        "X_reconstructed = pca_optimal.inverse_transform(X_pca_optimal)\n",
        "X_reconstructed = scaler.inverse_transform(X_reconstructed)"
      ]
    },
    {
      "cell_type": "markdown",
      "id": "5bac03c1",
      "metadata": {
        "id": "5bac03c1"
      },
      "source": [
        "Calculamos el error (RMSE) de reconstrucción:"
      ]
    },
    {
      "cell_type": "code",
      "execution_count": null,
      "id": "a0674232",
      "metadata": {
        "id": "a0674232"
      },
      "outputs": [],
      "source": [
        "reconstruction_error = np.mean((X - X_reconstructed) ** 2)\n",
        "np.sqrt(reconstruction_error)"
      ]
    },
    {
      "cell_type": "markdown",
      "id": "b2d51d2a",
      "metadata": {
        "id": "b2d51d2a"
      },
      "source": [
        "Para una muestra comparamos los valores originales y reconstruidos:"
      ]
    },
    {
      "cell_type": "code",
      "execution_count": null,
      "id": "a34b4eff",
      "metadata": {
        "id": "a34b4eff"
      },
      "outputs": [],
      "source": [
        "sample_idx = 0\n",
        "comparison_df = pd.DataFrame({\n",
        "    'Original': X.iloc[sample_idx],\n",
        "    'Reconstruido': X_reconstructed[sample_idx],\n",
        "    'Diferencia': X.iloc[sample_idx].values - X_reconstructed[sample_idx]\n",
        "})\n",
        "comparison_df"
      ]
    },
    {
      "cell_type": "markdown",
      "id": "e9a66a81",
      "metadata": {
        "id": "e9a66a81"
      },
      "source": [
        "### Conclusiones del análisis PCA"
      ]
    },
    {
      "cell_type": "code",
      "execution_count": null,
      "id": "d82bb298",
      "metadata": {
        "id": "d82bb298"
      },
      "outputs": [],
      "source": [
        "print(f'- Hemos reducido la dimensionalidad de {X.shape[1]} a {n_components} componentes.')\n",
        "print(f'- Estas {n_components} componentes explican el {cumulative_variance_ratio[n_components-1]:.2%} de la varianza total.')\n",
        "print('- La PCA1 está más correlacionada con {}.'.format(feature_names[np.argmax(abs(loadings[0]))]))\n",
        "print('- La segunda componente principal está más correlacionada con {}.'.format(feature_names[np.argmax(abs(loadings[1]))]))"
      ]
    },
    {
      "cell_type": "code",
      "execution_count": null,
      "id": "d857851b",
      "metadata": {
        "id": "d857851b"
      },
      "outputs": [],
      "source": [
        "dominant_features = {f'PC{i+1}': loadings_df[f'PC{i+1}'].abs().idxmax() for i in range(n_components)}\n",
        "print(dominant_features)"
      ]
    }
  ],
  "metadata": {
    "jupytext": {
      "cell_metadata_filter": "-all",
      "main_language": "python",
      "notebook_metadata_filter": "-all"
    },
    "kernelspec": {
      "display_name": "env",
      "language": "python",
      "name": "python3"
    },
    "language_info": {
      "codemirror_mode": {
        "name": "ipython",
        "version": 3
      },
      "file_extension": ".py",
      "mimetype": "text/x-python",
      "name": "python",
      "nbconvert_exporter": "python",
      "pygments_lexer": "ipython3",
      "version": "3.12.3"
    },
    "colab": {
      "provenance": [],
      "include_colab_link": true
    }
  },
  "nbformat": 4,
  "nbformat_minor": 5
}