{
  "cells": [
    {
      "cell_type": "markdown",
      "metadata": {
        "id": "view-in-github",
        "colab_type": "text"
      },
      "source": [
        "<a href=\"https://colab.research.google.com/github/franciscogarate/cdiae/blob/main/notebooks/3_Limpieza_datos_MetaCortex.ipynb\" target=\"_parent\"><img src=\"https://colab.research.google.com/assets/colab-badge.svg\" alt=\"Open In Colab\"/></a>"
      ]
    },
    {
      "cell_type": "markdown",
      "id": "b4bff0a6",
      "metadata": {
        "vscode": {
          "languageId": "raw"
        },
        "id": "b4bff0a6"
      },
      "source": [
        "## Limpieza de datos y tratamiento de los valores nulos\n",
        "\n",
        "El objetivo es limpiar y estandarizar el dataset de empleados de MetaCortex (tratamiento de nulos y duplicados en `nif`, inferencia/completado de `genero` y `sexo_biologico`, normalización de `activo` y `horas_semanales`, imputación de `pago` y `bonus`, selección/renombrado de columnas clave) y exportar el dataset final.\n",
        "\n",
        "Cargamos el dataset previamente tratado:"
      ]
    },
    {
      "cell_type": "code",
      "source": [
        "!git clone https://github.com/franciscogarate/cdiae"
      ],
      "metadata": {
        "id": "wmXoVRL7heYm"
      },
      "id": "wmXoVRL7heYm",
      "execution_count": null,
      "outputs": []
    },
    {
      "cell_type": "code",
      "execution_count": null,
      "id": "6ed43afc",
      "metadata": {
        "id": "6ed43afc"
      },
      "outputs": [],
      "source": [
        "import pandas as pd\n",
        "df = pd.read_feather('cdiae/data/02_intermediate/empleados_metacortex.ftr')\n",
        "df"
      ]
    },
    {
      "cell_type": "code",
      "execution_count": null,
      "id": "c5ccc80e",
      "metadata": {
        "id": "c5ccc80e"
      },
      "outputs": [],
      "source": [
        "df.info()"
      ]
    },
    {
      "cell_type": "markdown",
      "id": "cb1d00dd",
      "metadata": {
        "id": "cb1d00dd"
      },
      "source": [
        "## Tratamiento de valores nulos\n",
        "Utilizaremos las siguientes funciones para operar con los valores nulos:\n",
        "- isnull()\n",
        "- dropna()\n",
        "- duplicated()\n",
        "- drop_duplicates()"
      ]
    },
    {
      "cell_type": "code",
      "execution_count": null,
      "id": "9cd7ef48",
      "metadata": {
        "id": "9cd7ef48"
      },
      "outputs": [],
      "source": [
        "df.isnull().sum()       # Conteo de valores nulos por columna"
      ]
    },
    {
      "cell_type": "markdown",
      "id": "0c7c795e",
      "metadata": {
        "id": "0c7c795e"
      },
      "source": [
        "### Tratamiento de valores nulos: Borrado\n",
        "Por ejemplo, el valor nif es un dato que no puede inferirse, y a efectos de reporte es imprescindible al ser la clave única. En este caso, la opción va a ser eliminar el registro completo"
      ]
    },
    {
      "cell_type": "code",
      "execution_count": null,
      "id": "04447a60",
      "metadata": {
        "id": "04447a60"
      },
      "outputs": [],
      "source": [
        "df.dropna(subset=['nif'], inplace=True) # Elimina filas con nif nulo (clave única)\n",
        "df.isnull().sum()                       # Recuento de nulos tras eliminar nif nulos"
      ]
    },
    {
      "cell_type": "markdown",
      "id": "9916b5fa",
      "metadata": {
        "id": "9916b5fa"
      },
      "source": [
        "Si el valor es único (como nif) busca duplicados:"
      ]
    },
    {
      "cell_type": "code",
      "execution_count": null,
      "id": "6fff0c69",
      "metadata": {
        "id": "6fff0c69"
      },
      "outputs": [],
      "source": [
        "df_test = df[df['nif'].duplicated(keep=False)]\n",
        "df_test"
      ]
    },
    {
      "cell_type": "markdown",
      "id": "9d7052e4",
      "metadata": {
        "id": "9d7052e4"
      },
      "source": [
        "Valores posibles del parámetro **keep**:\n",
        "- `keep='first'` (por defecto)\n",
        "- `keep='last'`\n",
        "- `keep=False`\n",
        "\n",
        "La función `drop_duplicates()` funciona en el mismo sentido eliminandolos en vez de seleccionandolos.\n",
        "\n",
        "En nuestros datos, vamos a dejar la última ocurrencia por nif al entender que es la más reciente:"
      ]
    },
    {
      "cell_type": "code",
      "execution_count": null,
      "id": "4271fece",
      "metadata": {
        "id": "4271fece"
      },
      "outputs": [],
      "source": [
        "df.drop_duplicates(subset=['nif'], keep='last', inplace=True)\n",
        "df"
      ]
    },
    {
      "cell_type": "markdown",
      "source": [
        "## Rellenando los valores nulos o vacíos"
      ],
      "metadata": {
        "id": "ZXDhQdW2h3jm"
      },
      "id": "ZXDhQdW2h3jm"
    },
    {
      "cell_type": "code",
      "source": [
        "df['genero'] = df['genero'].fillna(df.sexo_biologico)\n",
        "df"
      ],
      "metadata": {
        "id": "eE53CRYWiCzK"
      },
      "id": "eE53CRYWiCzK",
      "execution_count": null,
      "outputs": []
    },
    {
      "cell_type": "markdown",
      "source": [
        "Nota: Existen dos librerías muy utilizadas para inferir el genero partiendo del nombre de pila: **gender_guesser** y **names_dataset**."
      ],
      "metadata": {
        "id": "uoqxZLHEiUrk"
      },
      "id": "uoqxZLHEiUrk"
    },
    {
      "cell_type": "markdown",
      "id": "fbf66727",
      "metadata": {
        "id": "fbf66727"
      },
      "source": [
        "La función **fillna** dispone de los siguientes métodos para rellenar:\n",
        "\n",
        "- `df.fillna(method='ffill')`      # Forward fill (propaga hacia adelante)\n",
        "- `df.fillna(method='bfill')`      # Backward fill (propaga hacia atrás)\n",
        "- `df.fillna(method='pad')`        # Igual que ffill\n",
        "- `df.fillna(method='backfill')`\n",
        "\n",
        "Tambien podemos definir límites:\n",
        "- `df.fillna(method='ffill', limit=2)`\n"
      ]
    },
    {
      "cell_type": "code",
      "execution_count": null,
      "id": "8f2f555c",
      "metadata": {
        "id": "8f2f555c"
      },
      "outputs": [],
      "source": [
        "df['pago'] = df['pago'].fillna(0)       # 0 si está vacio\n",
        "df"
      ]
    },
    {
      "cell_type": "markdown",
      "id": "76981938",
      "metadata": {
        "id": "76981938"
      },
      "source": [
        "Creamos el campo 'bonus1' con la media global de 'bonus'"
      ]
    },
    {
      "cell_type": "code",
      "execution_count": null,
      "id": "3b178c2e",
      "metadata": {
        "id": "3b178c2e"
      },
      "outputs": [],
      "source": [
        "df['bonus1'] = df['bonus'].fillna(df['bonus'].mean())\n",
        "df"
      ]
    },
    {
      "cell_type": "markdown",
      "id": "f117b9c5",
      "metadata": {
        "id": "f117b9c5"
      },
      "source": [
        "Creamos el campo 'bonus2' con la media por departamento"
      ]
    },
    {
      "cell_type": "code",
      "execution_count": null,
      "id": "6cedfad1",
      "metadata": {
        "id": "6cedfad1"
      },
      "outputs": [],
      "source": [
        "df['bonus2'] = df.groupby('departamento')['bonus'].transform(\n",
        "    lambda x: x.fillna(x.mean())\n",
        ")\n",
        "df"
      ]
    },
    {
      "cell_type": "code",
      "execution_count": null,
      "id": "2647c9b0",
      "metadata": {
        "id": "2647c9b0"
      },
      "outputs": [],
      "source": [
        "df.isnull().sum()               # Verifica nulos pendientes"
      ]
    },
    {
      "cell_type": "code",
      "execution_count": null,
      "id": "da7aede0",
      "metadata": {
        "id": "da7aede0"
      },
      "outputs": [],
      "source": [
        "df"
      ]
    },
    {
      "cell_type": "markdown",
      "source": [
        "Reseteo el index eliminado el index anterior"
      ],
      "metadata": {
        "id": "t4hrPv4IjzlV"
      },
      "id": "t4hrPv4IjzlV"
    },
    {
      "cell_type": "code",
      "execution_count": null,
      "id": "9131db5d",
      "metadata": {
        "id": "9131db5d"
      },
      "outputs": [],
      "source": [
        "df.reset_index(drop=True)"
      ]
    },
    {
      "cell_type": "markdown",
      "source": [
        "Convierte 'horas_semanales' de texto (e.g. '40h') a entero"
      ],
      "metadata": {
        "id": "hbL-IuPtj4xv"
      },
      "id": "hbL-IuPtj4xv"
    },
    {
      "cell_type": "code",
      "execution_count": null,
      "id": "7087628a",
      "metadata": {
        "id": "7087628a"
      },
      "outputs": [],
      "source": [
        "df['horas_semanales'] = df['horas_semanales'].str.rstrip('h').astype(int)\n",
        "df"
      ]
    },
    {
      "cell_type": "code",
      "execution_count": null,
      "id": "9d1e76db",
      "metadata": {
        "lines_to_next_cell": 1,
        "id": "9d1e76db"
      },
      "outputs": [],
      "source": [
        "# Verifica nulos pendientes\n",
        "df.isnull().sum()"
      ]
    },
    {
      "cell_type": "markdown",
      "source": [
        "Seleccionamos y renombramos las columnas para el dataset final"
      ],
      "metadata": {
        "id": "v673zNY9kb7j"
      },
      "id": "v673zNY9kb7j"
    },
    {
      "cell_type": "code",
      "execution_count": null,
      "id": "eb167fe6",
      "metadata": {
        "lines_to_next_cell": 1,
        "id": "eb167fe6"
      },
      "outputs": [],
      "source": [
        "def selector_columnas(df: pd.DataFrame) -> pd.DataFrame:\n",
        "    # Columnas a conservar\n",
        "    cols_keep = [\n",
        "        'nif',\n",
        "        'fecha_nacimiento',\n",
        "        'fecha_alta',\n",
        "        'sexo_biologico',\n",
        "        'activo',\n",
        "        'codigo_postal',\n",
        "        'bonus2',\n",
        "    ]\n",
        "    df = df[cols_keep]\n",
        "    # Renombra a nombres de salida\n",
        "    df = df.rename(columns={\n",
        "        'nif':'IdAsegurado',\n",
        "        'fecha_nacimiento':'FNacim',\n",
        "        'fecha_alta':'FAlta',\n",
        "        'sexo_biologico':'Sexo',\n",
        "        'activo':'Activo',\n",
        "        'codigo_postal':'CP',\n",
        "        'bonus2':'Capital',\n",
        "    })\n",
        "    return df"
      ]
    },
    {
      "cell_type": "code",
      "execution_count": null,
      "id": "74fe7ca6",
      "metadata": {
        "id": "74fe7ca6"
      },
      "outputs": [],
      "source": [
        "df = selector_columnas(df)\n",
        "df"
      ]
    },
    {
      "cell_type": "markdown",
      "source": [
        "Exportamos el dataset limpio en formato Feather a la carpeta \"03_model_input\""
      ],
      "metadata": {
        "id": "5Eo13aIHk0Xh"
      },
      "id": "5Eo13aIHk0Xh"
    },
    {
      "cell_type": "code",
      "execution_count": null,
      "id": "f389b82e",
      "metadata": {
        "id": "f389b82e"
      },
      "outputs": [],
      "source": [
        "df.to_feather('cdiae/data/03_model_input/empleados_metacortex_clean.ftr')"
      ]
    }
  ],
  "metadata": {
    "jupytext": {
      "cell_metadata_filter": "-all",
      "main_language": "python",
      "notebook_metadata_filter": "-all"
    },
    "kernelspec": {
      "display_name": "env",
      "language": "python",
      "name": "python3"
    },
    "language_info": {
      "codemirror_mode": {
        "name": "ipython",
        "version": 3
      },
      "file_extension": ".py",
      "mimetype": "text/x-python",
      "name": "python",
      "nbconvert_exporter": "python",
      "pygments_lexer": "ipython3",
      "version": "3.12.3"
    },
    "colab": {
      "provenance": [],
      "include_colab_link": true
    }
  },
  "nbformat": 4,
  "nbformat_minor": 5
}