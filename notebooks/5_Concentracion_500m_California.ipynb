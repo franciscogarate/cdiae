{
  "cells": [
    {
      "cell_type": "markdown",
      "id": "e52cdf6b",
      "metadata": {},
      "source": [
        "# Cálculo del punto central con la mayor concentración geográfica"
      ]
    },
    {
      "cell_type": "code",
      "execution_count": 5,
      "id": "4d112a3b",
      "metadata": {
        "colab": {
          "base_uri": "https://localhost:8080/",
          "height": 206
        },
        "id": "4d112a3b",
        "outputId": "5ed29cfd-cf78-41bf-8d34-fa7e3e866ff7"
      },
      "outputs": [],
      "source": [
        "import pandas as pd\n",
        "import numpy as np\n",
        "from scipy.spatial.distance import cdist"
      ]
    },
    {
      "cell_type": "markdown",
      "id": "8ac0d615",
      "metadata": {},
      "source": [
        "Cargamos los datos:"
      ]
    },
    {
      "cell_type": "code",
      "execution_count": 6,
      "id": "a1bb0302",
      "metadata": {},
      "outputs": [
        {
          "data": {
            "text/html": [
              "<div>\n",
              "<style scoped>\n",
              "    .dataframe tbody tr th:only-of-type {\n",
              "        vertical-align: middle;\n",
              "    }\n",
              "\n",
              "    .dataframe tbody tr th {\n",
              "        vertical-align: top;\n",
              "    }\n",
              "\n",
              "    .dataframe thead th {\n",
              "        text-align: right;\n",
              "    }\n",
              "</style>\n",
              "<table border=\"1\" class=\"dataframe\">\n",
              "  <thead>\n",
              "    <tr style=\"text-align: right;\">\n",
              "      <th></th>\n",
              "      <th>MedInc</th>\n",
              "      <th>HouseAge</th>\n",
              "      <th>AveRooms</th>\n",
              "      <th>AveBedrms</th>\n",
              "      <th>Population</th>\n",
              "      <th>AveOccup</th>\n",
              "      <th>Latitude</th>\n",
              "      <th>Longitude</th>\n",
              "      <th>target</th>\n",
              "    </tr>\n",
              "  </thead>\n",
              "  <tbody>\n",
              "    <tr>\n",
              "      <th>0</th>\n",
              "      <td>8.3252</td>\n",
              "      <td>41.0</td>\n",
              "      <td>6.984127</td>\n",
              "      <td>1.023810</td>\n",
              "      <td>322.0</td>\n",
              "      <td>2.555556</td>\n",
              "      <td>37.88</td>\n",
              "      <td>-122.23</td>\n",
              "      <td>4.526</td>\n",
              "    </tr>\n",
              "    <tr>\n",
              "      <th>1</th>\n",
              "      <td>8.3014</td>\n",
              "      <td>21.0</td>\n",
              "      <td>6.238137</td>\n",
              "      <td>0.971880</td>\n",
              "      <td>2401.0</td>\n",
              "      <td>2.109842</td>\n",
              "      <td>37.86</td>\n",
              "      <td>-122.22</td>\n",
              "      <td>3.585</td>\n",
              "    </tr>\n",
              "    <tr>\n",
              "      <th>2</th>\n",
              "      <td>7.2574</td>\n",
              "      <td>52.0</td>\n",
              "      <td>8.288136</td>\n",
              "      <td>1.073446</td>\n",
              "      <td>496.0</td>\n",
              "      <td>2.802260</td>\n",
              "      <td>37.85</td>\n",
              "      <td>-122.24</td>\n",
              "      <td>3.521</td>\n",
              "    </tr>\n",
              "    <tr>\n",
              "      <th>3</th>\n",
              "      <td>5.6431</td>\n",
              "      <td>52.0</td>\n",
              "      <td>5.817352</td>\n",
              "      <td>1.073059</td>\n",
              "      <td>558.0</td>\n",
              "      <td>2.547945</td>\n",
              "      <td>37.85</td>\n",
              "      <td>-122.25</td>\n",
              "      <td>3.413</td>\n",
              "    </tr>\n",
              "    <tr>\n",
              "      <th>4</th>\n",
              "      <td>3.8462</td>\n",
              "      <td>52.0</td>\n",
              "      <td>6.281853</td>\n",
              "      <td>1.081081</td>\n",
              "      <td>565.0</td>\n",
              "      <td>2.181467</td>\n",
              "      <td>37.85</td>\n",
              "      <td>-122.25</td>\n",
              "      <td>3.422</td>\n",
              "    </tr>\n",
              "  </tbody>\n",
              "</table>\n",
              "</div>"
            ],
            "text/plain": [
              "   MedInc  HouseAge  AveRooms  AveBedrms  Population  AveOccup  Latitude  \\\n",
              "0  8.3252      41.0  6.984127   1.023810       322.0  2.555556     37.88   \n",
              "1  8.3014      21.0  6.238137   0.971880      2401.0  2.109842     37.86   \n",
              "2  7.2574      52.0  8.288136   1.073446       496.0  2.802260     37.85   \n",
              "3  5.6431      52.0  5.817352   1.073059       558.0  2.547945     37.85   \n",
              "4  3.8462      52.0  6.281853   1.081081       565.0  2.181467     37.85   \n",
              "\n",
              "   Longitude  target  \n",
              "0    -122.23   4.526  \n",
              "1    -122.22   3.585  \n",
              "2    -122.24   3.521  \n",
              "3    -122.25   3.413  \n",
              "4    -122.25   3.422  "
            ]
          },
          "execution_count": 6,
          "metadata": {},
          "output_type": "execute_result"
        }
      ],
      "source": [
        "df = pd.read_feather('../data/03_model_input/california_housing_clean.ftr')\n",
        "df.head()"
      ]
    },
    {
      "cell_type": "markdown",
      "id": "079cd80d",
      "metadata": {},
      "source": [
        "Creamos una matriz de coordenadas (lat, lon):"
      ]
    },
    {
      "cell_type": "code",
      "execution_count": 7,
      "id": "5381bb95",
      "metadata": {
        "id": "5381bb95"
      },
      "outputs": [],
      "source": [
        "coords = df[['Latitude', 'Longitude']].to_numpy()"
      ]
    },
    {
      "cell_type": "markdown",
      "id": "b7531d5f",
      "metadata": {
        "colab": {
          "base_uri": "https://localhost:8080/"
        },
        "id": "b7531d5f",
        "outputId": "1c7cb596-f35f-43ef-d61e-5bd8d3d18e70"
      },
      "source": [
        "Calculamos la matriz de distancias en grados"
      ]
    },
    {
      "cell_type": "code",
      "execution_count": 8,
      "id": "f48c1657",
      "metadata": {},
      "outputs": [
        {
          "data": {
            "text/plain": [
              "array([[0.        , 0.02236068, 0.03162278, ..., 1.85002703, 1.79738699,\n",
              "        1.78891028],\n",
              "       [0.02236068, 0.        , 0.02236068, ..., 1.86142419, 1.80966848,\n",
              "        1.80013888],\n",
              "       [0.03162278, 0.02236068, 0.        , ..., 1.88063819, 1.82833257,\n",
              "        1.81945047],\n",
              "       ...,\n",
              "       [1.85002703, 1.86142419, 1.88063819, ..., 0.        , 0.1       ,\n",
              "        0.06324555],\n",
              "       [1.79738699, 1.80966848, 1.82833257, ..., 0.1       , 0.        ,\n",
              "        0.1       ],\n",
              "       [1.78891028, 1.80013888, 1.81945047, ..., 0.06324555, 0.1       ,\n",
              "        0.        ]], shape=(19128, 19128))"
            ]
          },
          "execution_count": 8,
          "metadata": {},
          "output_type": "execute_result"
        }
      ],
      "source": [
        "distancias = cdist(coords, coords, metric='euclidean')\n",
        "distancias"
      ]
    },
    {
      "cell_type": "markdown",
      "id": "b4133c09",
      "metadata": {
        "colab": {
          "base_uri": "https://localhost:8080/"
        },
        "id": "b4133c09",
        "outputId": "a1451d0e-96f8-45f9-e6a8-9b97005718ba"
      },
      "source": [
        "Sumamos las viviendas de todos los distritos a menos de 500 metros"
      ]
    },
    {
      "cell_type": "code",
      "execution_count": null,
      "id": "d37c6257",
      "metadata": {},
      "outputs": [],
      "source": [
        "matrix_cumulos_500m = distancias < 500 / 100000  # Aproximación de 500 metros a 0.005 grados\n",
        "matrix_cumulos_500m"
      ]
    },
    {
      "cell_type": "code",
      "execution_count": null,
      "id": "s6MDz5hH9NCQ",
      "metadata": {
        "colab": {
          "base_uri": "https://localhost:8080/"
        },
        "id": "s6MDz5hH9NCQ",
        "outputId": "a71e38aa-18d5-4171-cc4d-8e3252b84058"
      },
      "outputs": [
        {
          "data": {
            "text/plain": [
              "array([[4.526, 0.   , 0.   , ..., 0.   , 0.   , 0.   ],\n",
              "       [0.   , 3.585, 0.   , ..., 0.   , 0.   , 0.   ],\n",
              "       [0.   , 0.   , 3.521, ..., 0.   , 0.   , 0.   ],\n",
              "       ...,\n",
              "       [0.   , 0.   , 0.   , ..., 0.923, 0.   , 0.   ],\n",
              "       [0.   , 0.   , 0.   , ..., 0.   , 0.847, 0.   ],\n",
              "       [0.   , 0.   , 0.   , ..., 0.   , 0.   , 0.894]])"
            ]
          },
          "execution_count": 7,
          "metadata": {},
          "output_type": "execute_result"
        }
      ],
      "source": [
        "matrix_capitales = matrix_cumulos_500m * df['target'].values[np.newaxis, :]\n",
        "matrix_capitales"
      ]
    },
    {
      "cell_type": "code",
      "execution_count": null,
      "id": "owXrS5uBAXjh",
      "metadata": {
        "id": "owXrS5uBAXjh"
      },
      "outputs": [],
      "source": [
        "capital_concentrado = matrix_capitales.sum(axis=1)"
      ]
    },
    {
      "cell_type": "markdown",
      "id": "f9e17fe8",
      "metadata": {},
      "source": [
        "Encontramos el índice del punto con mayor concentración"
      ]
    },
    {
      "cell_type": "code",
      "execution_count": null,
      "id": "4c80c7d5",
      "metadata": {
        "colab": {
          "base_uri": "https://localhost:8080/",
          "height": 366
        },
        "id": "4c80c7d5",
        "outputId": "9432a651-9168-4d27-ea5c-9a6bafe8063d"
      },
      "outputs": [
        {
          "data": {
            "text/html": [
              "<div>\n",
              "<style scoped>\n",
              "    .dataframe tbody tr th:only-of-type {\n",
              "        vertical-align: middle;\n",
              "    }\n",
              "\n",
              "    .dataframe tbody tr th {\n",
              "        vertical-align: top;\n",
              "    }\n",
              "\n",
              "    .dataframe thead th {\n",
              "        text-align: right;\n",
              "    }\n",
              "</style>\n",
              "<table border=\"1\" class=\"dataframe\">\n",
              "  <thead>\n",
              "    <tr style=\"text-align: right;\">\n",
              "      <th></th>\n",
              "      <th>14569</th>\n",
              "    </tr>\n",
              "  </thead>\n",
              "  <tbody>\n",
              "    <tr>\n",
              "      <th>MedInc</th>\n",
              "      <td>2.856900</td>\n",
              "    </tr>\n",
              "    <tr>\n",
              "      <th>HouseAge</th>\n",
              "      <td>52.000000</td>\n",
              "    </tr>\n",
              "    <tr>\n",
              "      <th>AveRooms</th>\n",
              "      <td>4.703316</td>\n",
              "    </tr>\n",
              "    <tr>\n",
              "      <th>AveBedrms</th>\n",
              "      <td>1.146597</td>\n",
              "    </tr>\n",
              "    <tr>\n",
              "      <th>Population</th>\n",
              "      <td>1243.000000</td>\n",
              "    </tr>\n",
              "    <tr>\n",
              "      <th>AveOccup</th>\n",
              "      <td>2.169284</td>\n",
              "    </tr>\n",
              "    <tr>\n",
              "      <th>Latitude</th>\n",
              "      <td>37.780000</td>\n",
              "    </tr>\n",
              "    <tr>\n",
              "      <th>Longitude</th>\n",
              "      <td>-122.440000</td>\n",
              "    </tr>\n",
              "    <tr>\n",
              "      <th>target</th>\n",
              "      <td>3.722000</td>\n",
              "    </tr>\n",
              "  </tbody>\n",
              "</table>\n",
              "</div><br><label><b>dtype:</b> float64</label>"
            ],
            "text/plain": [
              "MedInc           2.856900\n",
              "HouseAge        52.000000\n",
              "AveRooms         4.703316\n",
              "AveBedrms        1.146597\n",
              "Population    1243.000000\n",
              "AveOccup         2.169284\n",
              "Latitude        37.780000\n",
              "Longitude     -122.440000\n",
              "target           3.722000\n",
              "Name: 14569, dtype: float64"
            ]
          },
          "execution_count": 11,
          "metadata": {},
          "output_type": "execute_result"
        }
      ],
      "source": [
        "indice_max = np.argmax(capital_concentrado)\n",
        "punto_central = df.iloc[indice_max]\n",
        "punto_central"
      ]
    },
    {
      "cell_type": "markdown",
      "id": "CHtLqWtn_HSS",
      "metadata": {
        "id": "CHtLqWtn_HSS"
      },
      "source": [
        "Coordenadas del punto más denso en contador de viviendas"
      ]
    },
    {
      "cell_type": "code",
      "execution_count": null,
      "id": "69715f13",
      "metadata": {
        "colab": {
          "base_uri": "https://localhost:8080/"
        },
        "id": "69715f13",
        "outputId": "2657c507-00b0-4a0c-abdf-8f0554604662"
      },
      "outputs": [
        {
          "name": "stdout",
          "output_type": "stream",
          "text": [
            "Coordenadas del punto con mayor capital concentrado:\n",
            "Latitud: 37.78000, Longitud: -122.44000\n",
            "Capital total a menos de 500 m: $39\n",
            "Número de viviendas cercanas: 11\n",
            "Valor medio por distrito cercano: $4\n"
          ]
        }
      ],
      "source": [
        "print(f'Latitud: {punto_central['Latitude']}, Longitud: {punto_central['Longitude']}')\n",
        "print(f'Capital total radio 500 m: ${capital_concentrado[indice_max]:,.0f}')\n",
        "print(f'Número de viviendas del cúmulo: {matrix_cumulos_500m[indice_max].sum()}')"
      ]
    }
  ],
  "metadata": {
    "colab": {
      "provenance": []
    },
    "kernelspec": {
      "display_name": "paco",
      "language": "python",
      "name": "python3"
    },
    "language_info": {
      "codemirror_mode": {
        "name": "ipython",
        "version": 3
      },
      "file_extension": ".py",
      "mimetype": "text/x-python",
      "name": "python",
      "nbconvert_exporter": "python",
      "pygments_lexer": "ipython3",
      "version": "3.12.3"
    }
  },
  "nbformat": 4,
  "nbformat_minor": 5
}
