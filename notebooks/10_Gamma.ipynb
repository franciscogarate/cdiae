{
 "cells": [
  {
   "cell_type": "markdown",
   "id": "c8b8c37d",
   "metadata": {},
   "source": [
    "Ejercicio obtenido de ``Economic Scenario Generators. A Practical Guide (pags 26-28)`` *(Society of actuaries, 2016)*"
   ]
  },
  {
   "cell_type": "markdown",
   "id": "d35e5d23",
   "metadata": {},
   "source": [
    "Supongamos que para un evento dado, el tamaño de la distribución de pérdidas (gravedad) de nuestra línea de negocio se describe mejor mediante una distribución gamma de **$\\alpha$ = 7 y $\\lambda$ = 0.0025.**\n",
    "\n",
    "\n",
    "La distribución gamma ($\\Gamma$ como un escalar) con parámetros forma = $\\lambda$ y escala = $\\alpha$ tiene como función de densidad:\n",
    "$f(x) = \\lambda e^{-\\lambda x} \\frac{(\\lambda x)^{\\alpha-1}}{\\Gamma(\\alpha)}$\n",
    "\n",
    "El valor esperado (media) y la varianza de una variable aleatoria x de distribución gamma son:\n",
    "${E(x)} = \\alpha \\theta = \\alpha / \\lambda $  y $Var(x) = \\alpha \\theta^2 = \\alpha / \\lambda^2$\n",
    "Se pide:\n",
    "- Calcular la media y la desviación estándar de la siniestralidad total\n",
    "- Calcular la siniestralidad esperada en los siguientes percentiles: 90th, 95th, 99th, 99.6th y 99.8th \n",
    "- Aplicar 10.000 simulaciones aleatorias con numpy (np.random.gamma) y calcular los anteriores percentiles."
   ]
  },
  {
   "cell_type": "markdown",
   "id": "de278698",
   "metadata": {},
   "source": [
    "## 1. Calcular la media y la desviación estándar de la siniestralidad total"
   ]
  },
  {
   "cell_type": "code",
   "execution_count": 11,
   "id": "6a5b6415",
   "metadata": {},
   "outputs": [],
   "source": [
    "import numpy as np\n",
    "import scipy.stats as st\n",
    "import matplotlib.pyplot as plt"
   ]
  },
  {
   "cell_type": "markdown",
   "id": "32ffb9af",
   "metadata": {},
   "source": [
    "Definimos los parámetros de la distribución Gamma"
   ]
  },
  {
   "cell_type": "code",
   "execution_count": 12,
   "id": "a9f1b907",
   "metadata": {},
   "outputs": [],
   "source": [
    "alpha = 7.\n",
    "lamdba = 0.0025\n",
    "theta = 1/lamdba"
   ]
  },
  {
   "cell_type": "markdown",
   "id": "9db1512b",
   "metadata": {},
   "source": [
    "### Opción 1\n",
    "Calculamos la media, varianza y desviación típica de forma manual"
   ]
  },
  {
   "cell_type": "code",
   "execution_count": 13,
   "id": "356fbae1",
   "metadata": {},
   "outputs": [
    {
     "name": "stdout",
     "output_type": "stream",
     "text": [
      "2800.0 1058.3005244258363\n"
     ]
    }
   ],
   "source": [
    "mean = alpha / lamdba\n",
    "var = alpha / (lamdba ** 2)\n",
    "std = np.sqrt(var)\n",
    "print(mean, std)"
   ]
  },
  {
   "cell_type": "markdown",
   "id": "974e0eca",
   "metadata": {},
   "source": [
    "### Opción 2\n",
    "Verificamos los mismos valores usando las funciones de scipy.stats"
   ]
  },
  {
   "cell_type": "code",
   "execution_count": 14,
   "id": "d4ab13ac",
   "metadata": {},
   "outputs": [
    {
     "name": "stdout",
     "output_type": "stream",
     "text": [
      "2800.0 1058.3005244258363\n"
     ]
    }
   ],
   "source": [
    "print(st.gamma.mean(a=alpha, scale=1/lamdba), st.gamma.std(a=alpha, scale=1/lamdba))"
   ]
  },
  {
   "cell_type": "markdown",
   "id": "ec76927f",
   "metadata": {},
   "source": [
    "### Opción 3\n",
    "Creamos el objeto distribución Gamma con los parámetros definidos"
   ]
  },
  {
   "cell_type": "code",
   "execution_count": 15,
   "id": "eca76b94",
   "metadata": {},
   "outputs": [
    {
     "name": "stdout",
     "output_type": "stream",
     "text": [
      "2800.0 1058.3005244258363\n"
     ]
    }
   ],
   "source": [
    "siniestralidad = st.gamma(a=alpha, scale=1/lamdba)\n",
    "print(siniestralidad.mean(), siniestralidad.std())"
   ]
  },
  {
   "cell_type": "markdown",
   "id": "3d97d021",
   "metadata": {},
   "source": [
    "### Opción 4\n",
    "Obtenemos los momentos media y varianza directamente del método .stats()"
   ]
  },
  {
   "cell_type": "code",
   "execution_count": 16,
   "id": "a48e8243",
   "metadata": {},
   "outputs": [
    {
     "name": "stdout",
     "output_type": "stream",
     "text": [
      "2800.0 1058.3005244258363\n"
     ]
    }
   ],
   "source": [
    "m, v = siniestralidad.stats('mv')\n",
    "print(m,np.sqrt(v))"
   ]
  },
  {
   "cell_type": "markdown",
   "id": "7d249f10",
   "metadata": {},
   "source": [
    "## 2. Calculos de percentiles:\n",
    "Definimos una lista de percentiles que queremos analizar"
   ]
  },
  {
   "cell_type": "code",
   "execution_count": 17,
   "id": "36e34522",
   "metadata": {},
   "outputs": [],
   "source": [
    "percentiles = (0.5, 0.9, 0.95, 0.99, 0.996, 0.998)"
   ]
  },
  {
   "cell_type": "markdown",
   "id": "a49d7033",
   "metadata": {},
   "source": [
    "Calculamos los percentiles teóricos según la distribución Gamma"
   ]
  },
  {
   "cell_type": "code",
   "execution_count": 18,
   "id": "aafb0ae9",
   "metadata": {},
   "outputs": [
    {
     "name": "stdout",
     "output_type": "stream",
     "text": [
      "El percentil 0.500 teorico es 2667.85\n",
      "El percentil 0.900 teorico es 4212.83\n",
      "El percentil 0.950 teorico es 4736.96\n",
      "El percentil 0.990 teorico es 5828.25\n",
      "El percentil 0.996 teorico es 6400.92\n",
      "El percentil 0.998 teorico es 6818.26\n"
     ]
    }
   ],
   "source": [
    "for i in percentiles:\n",
    "\tprint(f'El percentil {i:.3f} teorico es {st.gamma.ppf(i, a=alpha, scale=1/lamdba):.2f}')"
   ]
  },
  {
   "cell_type": "markdown",
   "id": "58372b74",
   "metadata": {},
   "source": [
    "## 3. Aplicar 10.000 simulaciones aleatorias y calcular los anteriores percentiles.\n",
    "Simulamos 10.000 valores aleatorios de la distribución Gamma"
   ]
  },
  {
   "cell_type": "code",
   "execution_count": 19,
   "id": "7902e461",
   "metadata": {},
   "outputs": [
    {
     "name": "stdout",
     "output_type": "stream",
     "text": [
      "El percentil 0.500 de la simulacion es 2683.98\n",
      "El percentil 0.900 de la simulacion es 4223.64\n",
      "El percentil 0.950 de la simulacion es 4777.69\n",
      "El percentil 0.990 de la simulacion es 5838.56\n",
      "El percentil 0.996 de la simulacion es 6306.76\n",
      "El percentil 0.998 de la simulacion es 6749.76\n"
     ]
    }
   ],
   "source": [
    "s = np.random.gamma(alpha, theta, size=10000)\n",
    "for i in percentiles:\n",
    "\t# los percentiles en np.percentile van de 0 a 100\n",
    "\tprint(f'El percentil {i:.3f} de la simulacion es {np.percentile(s, i*100):.2f}')"
   ]
  },
  {
   "cell_type": "markdown",
   "id": "df909ca9",
   "metadata": {},
   "source": [
    "Dibujamos el histograma de los valores simulados junto a la densidad teórica"
   ]
  },
  {
   "cell_type": "code",
   "execution_count": 20,
   "id": "20053c41",
   "metadata": {},
   "outputs": [
    {
     "data": {
      "image/png": "[encoded data removed]",
      "text/plain": [
       "<Figure size 640x480 with 1 Axes>"
      ]
     },
     "metadata": {},
     "output_type": "display_data"
    }
   ],
   "source": [
    "plt.hist(s, 50, density=True)\n",
    "x = np.linspace (0, 9000, 200) \n",
    "y = st.gamma.pdf(x, a=alpha, scale=1/lamdba)\n",
    "plt.plot(x, y)\n",
    "plt.show()"
   ]
  }
 ],
 "metadata": {
  "jupytext": {
   "cell_metadata_filter": "-all",
   "main_language": "python",
   "notebook_metadata_filter": "-all"
  },
  "kernelspec": {
   "display_name": "env",
   "language": "python",
   "name": "python3"
  },
  "language_info": {
   "codemirror_mode": {
    "name": "ipython",
    "version": 3
   },
   "file_extension": ".py",
   "mimetype": "text/x-python",
   "name": "python",
   "nbconvert_exporter": "python",
   "pygments_lexer": "ipython3",
   "version": "3.12.3"
  }
 },
 "nbformat": 4,
 "nbformat_minor": 5
}
