{
 "cells": [
  {
   "cell_type": "code",
   "execution_count": 48,
   "id": "b17315e3",
   "metadata": {},
   "outputs": [],
   "source": [
    "import pandas as pd\n",
    "import numpy as np\n",
    "import statsmodels.api as sm\n",
    "import statsmodels.formula.api as smf\n",
    "import statsmodels.genmod.generalized_linear_model as glm\n",
    "from sklearn.metrics import mean_squared_error"
   ]
  },
  {
   "cell_type": "code",
   "execution_count": 49,
   "id": "0b995197",
   "metadata": {},
   "outputs": [
    {
     "data": {
      "text/html": [
       "<div>\n",
       "<style scoped>\n",
       "    .dataframe tbody tr th:only-of-type {\n",
       "        vertical-align: middle;\n",
       "    }\n",
       "\n",
       "    .dataframe tbody tr th {\n",
       "        vertical-align: top;\n",
       "    }\n",
       "\n",
       "    .dataframe thead th {\n",
       "        text-align: right;\n",
       "    }\n",
       "</style>\n",
       "<table border=\"1\" class=\"dataframe\">\n",
       "  <thead>\n",
       "    <tr style=\"text-align: right;\">\n",
       "      <th></th>\n",
       "      <th>MedInc</th>\n",
       "      <th>HouseAge</th>\n",
       "      <th>AveRooms</th>\n",
       "      <th>AveBedrms</th>\n",
       "      <th>Population</th>\n",
       "      <th>AveOccup</th>\n",
       "      <th>Latitude</th>\n",
       "      <th>Longitude</th>\n",
       "      <th>target</th>\n",
       "    </tr>\n",
       "  </thead>\n",
       "  <tbody>\n",
       "    <tr>\n",
       "      <th>0</th>\n",
       "      <td>7.2574</td>\n",
       "      <td>52.0</td>\n",
       "      <td>8.288136</td>\n",
       "      <td>1.073446</td>\n",
       "      <td>496.0</td>\n",
       "      <td>2.802260</td>\n",
       "      <td>37.85</td>\n",
       "      <td>-122.24</td>\n",
       "      <td>3.521</td>\n",
       "    </tr>\n",
       "    <tr>\n",
       "      <th>1</th>\n",
       "      <td>5.6431</td>\n",
       "      <td>52.0</td>\n",
       "      <td>5.817352</td>\n",
       "      <td>1.073059</td>\n",
       "      <td>558.0</td>\n",
       "      <td>2.547945</td>\n",
       "      <td>37.85</td>\n",
       "      <td>-122.25</td>\n",
       "      <td>3.413</td>\n",
       "    </tr>\n",
       "    <tr>\n",
       "      <th>2</th>\n",
       "      <td>3.8462</td>\n",
       "      <td>52.0</td>\n",
       "      <td>6.281853</td>\n",
       "      <td>1.081081</td>\n",
       "      <td>565.0</td>\n",
       "      <td>2.181467</td>\n",
       "      <td>37.85</td>\n",
       "      <td>-122.25</td>\n",
       "      <td>3.422</td>\n",
       "    </tr>\n",
       "    <tr>\n",
       "      <th>3</th>\n",
       "      <td>4.0368</td>\n",
       "      <td>52.0</td>\n",
       "      <td>4.761658</td>\n",
       "      <td>1.103627</td>\n",
       "      <td>413.0</td>\n",
       "      <td>2.139896</td>\n",
       "      <td>37.85</td>\n",
       "      <td>-122.25</td>\n",
       "      <td>2.697</td>\n",
       "    </tr>\n",
       "    <tr>\n",
       "      <th>4</th>\n",
       "      <td>3.6591</td>\n",
       "      <td>52.0</td>\n",
       "      <td>4.931907</td>\n",
       "      <td>0.951362</td>\n",
       "      <td>1094.0</td>\n",
       "      <td>2.128405</td>\n",
       "      <td>37.84</td>\n",
       "      <td>-122.25</td>\n",
       "      <td>2.992</td>\n",
       "    </tr>\n",
       "  </tbody>\n",
       "</table>\n",
       "</div>"
      ],
      "text/plain": [
       "   MedInc  HouseAge  AveRooms  AveBedrms  Population  AveOccup  Latitude  \\\n",
       "0  7.2574      52.0  8.288136   1.073446       496.0  2.802260     37.85   \n",
       "1  5.6431      52.0  5.817352   1.073059       558.0  2.547945     37.85   \n",
       "2  3.8462      52.0  6.281853   1.081081       565.0  2.181467     37.85   \n",
       "3  4.0368      52.0  4.761658   1.103627       413.0  2.139896     37.85   \n",
       "4  3.6591      52.0  4.931907   0.951362      1094.0  2.128405     37.84   \n",
       "\n",
       "   Longitude  target  \n",
       "0    -122.24   3.521  \n",
       "1    -122.25   3.413  \n",
       "2    -122.25   3.422  \n",
       "3    -122.25   2.697  \n",
       "4    -122.25   2.992  "
      ]
     },
     "execution_count": 49,
     "metadata": {},
     "output_type": "execute_result"
    }
   ],
   "source": [
    "df = pd.read_feather('../data/03_model_input/california_housing_clean.ftr')\n",
    "df.head()"
   ]
  },
  {
   "cell_type": "markdown",
   "id": "dd61d8b1",
   "metadata": {},
   "source": [
    "Seleccionamos las variables relevantes para el modelo (las cuales hemos reducido a 6 en las tareas de analisis bivariantes y de componentes principales anteriores)"
   ]
  },
  {
   "cell_type": "code",
   "execution_count": 50,
   "id": "8b444d98",
   "metadata": {},
   "outputs": [],
   "source": [
    "df_model = df[['Longitude','MedInc','Population','AveOccup','AveBedrms','target']]"
   ]
  },
  {
   "cell_type": "code",
   "execution_count": 51,
   "id": "24b8b8ff",
   "metadata": {},
   "outputs": [
    {
     "data": {
      "text/html": [
       "<div>\n",
       "<style scoped>\n",
       "    .dataframe tbody tr th:only-of-type {\n",
       "        vertical-align: middle;\n",
       "    }\n",
       "\n",
       "    .dataframe tbody tr th {\n",
       "        vertical-align: top;\n",
       "    }\n",
       "\n",
       "    .dataframe thead th {\n",
       "        text-align: right;\n",
       "    }\n",
       "</style>\n",
       "<table border=\"1\" class=\"dataframe\">\n",
       "  <thead>\n",
       "    <tr style=\"text-align: right;\">\n",
       "      <th></th>\n",
       "      <th>Longitude</th>\n",
       "      <th>MedInc</th>\n",
       "      <th>Population</th>\n",
       "      <th>AveOccup</th>\n",
       "      <th>AveBedrms</th>\n",
       "      <th>target</th>\n",
       "    </tr>\n",
       "  </thead>\n",
       "  <tbody>\n",
       "    <tr>\n",
       "      <th>count</th>\n",
       "      <td>16393.000000</td>\n",
       "      <td>16393.000000</td>\n",
       "      <td>16393.000000</td>\n",
       "      <td>16393.000000</td>\n",
       "      <td>16393.000000</td>\n",
       "      <td>16393.000000</td>\n",
       "    </tr>\n",
       "    <tr>\n",
       "      <th>mean</th>\n",
       "      <td>-119.627363</td>\n",
       "      <td>3.664875</td>\n",
       "      <td>1270.523699</td>\n",
       "      <td>2.862434</td>\n",
       "      <td>1.047261</td>\n",
       "      <td>1.942280</td>\n",
       "    </tr>\n",
       "    <tr>\n",
       "      <th>std</th>\n",
       "      <td>1.995430</td>\n",
       "      <td>1.448800</td>\n",
       "      <td>627.220656</td>\n",
       "      <td>0.625743</td>\n",
       "      <td>0.066532</td>\n",
       "      <td>0.964867</td>\n",
       "    </tr>\n",
       "    <tr>\n",
       "      <th>min</th>\n",
       "      <td>-124.350000</td>\n",
       "      <td>0.536000</td>\n",
       "      <td>5.000000</td>\n",
       "      <td>1.161290</td>\n",
       "      <td>0.866013</td>\n",
       "      <td>0.149990</td>\n",
       "    </tr>\n",
       "    <tr>\n",
       "      <th>25%</th>\n",
       "      <td>-121.820000</td>\n",
       "      <td>2.563900</td>\n",
       "      <td>812.000000</td>\n",
       "      <td>2.434066</td>\n",
       "      <td>1.002770</td>\n",
       "      <td>1.188000</td>\n",
       "    </tr>\n",
       "    <tr>\n",
       "      <th>50%</th>\n",
       "      <td>-118.600000</td>\n",
       "      <td>3.500000</td>\n",
       "      <td>1158.000000</td>\n",
       "      <td>2.811881</td>\n",
       "      <td>1.043807</td>\n",
       "      <td>1.781000</td>\n",
       "    </tr>\n",
       "    <tr>\n",
       "      <th>75%</th>\n",
       "      <td>-118.030000</td>\n",
       "      <td>4.593800</td>\n",
       "      <td>1635.000000</td>\n",
       "      <td>3.243553</td>\n",
       "      <td>1.088685</td>\n",
       "      <td>2.509000</td>\n",
       "    </tr>\n",
       "    <tr>\n",
       "      <th>max</th>\n",
       "      <td>-114.570000</td>\n",
       "      <td>8.011300</td>\n",
       "      <td>3132.000000</td>\n",
       "      <td>4.560748</td>\n",
       "      <td>1.239521</td>\n",
       "      <td>5.000000</td>\n",
       "    </tr>\n",
       "  </tbody>\n",
       "</table>\n",
       "</div>"
      ],
      "text/plain": [
       "          Longitude        MedInc    Population      AveOccup     AveBedrms  \\\n",
       "count  16393.000000  16393.000000  16393.000000  16393.000000  16393.000000   \n",
       "mean    -119.627363      3.664875   1270.523699      2.862434      1.047261   \n",
       "std        1.995430      1.448800    627.220656      0.625743      0.066532   \n",
       "min     -124.350000      0.536000      5.000000      1.161290      0.866013   \n",
       "25%     -121.820000      2.563900    812.000000      2.434066      1.002770   \n",
       "50%     -118.600000      3.500000   1158.000000      2.811881      1.043807   \n",
       "75%     -118.030000      4.593800   1635.000000      3.243553      1.088685   \n",
       "max     -114.570000      8.011300   3132.000000      4.560748      1.239521   \n",
       "\n",
       "             target  \n",
       "count  16393.000000  \n",
       "mean       1.942280  \n",
       "std        0.964867  \n",
       "min        0.149990  \n",
       "25%        1.188000  \n",
       "50%        1.781000  \n",
       "75%        2.509000  \n",
       "max        5.000000  "
      ]
     },
     "execution_count": 51,
     "metadata": {},
     "output_type": "execute_result"
    }
   ],
   "source": [
    "df_model.describe()"
   ]
  },
  {
   "cell_type": "markdown",
   "id": "8216726a",
   "metadata": {},
   "source": [
    "Especificamos la fórmula del GLM"
   ]
  },
  {
   "cell_type": "code",
   "execution_count": 52,
   "id": "477718fe",
   "metadata": {},
   "outputs": [],
   "source": [
    "formula = 'target ~ Longitude + MedInc + Population + AveOccup + AveBedrms'"
   ]
  },
  {
   "cell_type": "markdown",
   "id": "368f074c",
   "metadata": {},
   "source": [
    "Ajustamos GLM con familia Poisson"
   ]
  },
  {
   "cell_type": "code",
   "execution_count": 53,
   "id": "7acb81dd",
   "metadata": {},
   "outputs": [],
   "source": [
    "model = smf.glm(formula=formula, data=df_model, family=sm.families.Poisson())\n",
    "results = model.fit()"
   ]
  },
  {
   "cell_type": "markdown",
   "id": "6bfc3da3",
   "metadata": {},
   "source": [
    "Resumen del modelo"
   ]
  },
  {
   "cell_type": "code",
   "execution_count": 54,
   "id": "81b1ff06",
   "metadata": {},
   "outputs": [
    {
     "name": "stdout",
     "output_type": "stream",
     "text": [
      "                 Generalized Linear Model Regression Results                  \n",
      "==============================================================================\n",
      "Dep. Variable:                 target   No. Observations:                16393\n",
      "Model:                            GLM   Df Residuals:                    16387\n",
      "Model Family:                 Poisson   Df Model:                            5\n",
      "Link Function:                    Log   Scale:                          1.0000\n",
      "Method:                          IRLS   Log-Likelihood:                -22350.\n",
      "Date:                Sun, 12 Oct 2025   Deviance:                       4013.5\n",
      "Time:                        17:20:39   Pearson chi2:                 4.19e+03\n",
      "No. Iterations:                     4   Pseudo R-squ. (CS):             0.1992\n",
      "Covariance Type:            nonrobust                                         \n",
      "==============================================================================\n",
      "                 coef    std err          z      P>|z|      [0.025      0.975]\n",
      "------------------------------------------------------------------------------\n",
      "Intercept      0.4671      0.359      1.302      0.193      -0.236       1.170\n",
      "Longitude      0.0017      0.003      0.603      0.547      -0.004       0.007\n",
      "MedInc         0.2061      0.004     54.489      0.000       0.199       0.214\n",
      "Population  4.122e-05   9.16e-06      4.502      0.000    2.33e-05    5.92e-05\n",
      "AveOccup      -0.2520      0.010    -25.049      0.000      -0.272      -0.232\n",
      "AveBedrms      0.2452      0.090      2.727      0.006       0.069       0.421\n",
      "==============================================================================\n"
     ]
    }
   ],
   "source": [
    "print(results.summary())"
   ]
  },
  {
   "cell_type": "markdown",
   "id": "4cade5e7",
   "metadata": {},
   "source": [
    "Predicciones sobre el conjunto completo:"
   ]
  },
  {
   "cell_type": "code",
   "execution_count": 55,
   "id": "53fbb432",
   "metadata": {},
   "outputs": [
    {
     "data": {
      "text/plain": [
       "0        3.790188\n",
       "1        2.904310\n",
       "2        2.204314\n",
       "3        2.315081\n",
       "4        2.128090\n",
       "           ...   \n",
       "16388    1.798996\n",
       "16389    1.284010\n",
       "16390    1.406658\n",
       "16391    1.534604\n",
       "16392    1.546046\n",
       "Length: 16393, dtype: float64"
      ]
     },
     "execution_count": 55,
     "metadata": {},
     "output_type": "execute_result"
    }
   ],
   "source": [
    "predictions = results.predict(df_model)\n",
    "predictions "
   ]
  },
  {
   "cell_type": "markdown",
   "id": "47f51a62",
   "metadata": {},
   "source": [
    "Calculamos el RMSE (este indicador sirve para compararse con otras regresiones)"
   ]
  },
  {
   "cell_type": "code",
   "execution_count": 56,
   "id": "d2f1dbf5",
   "metadata": {},
   "outputs": [
    {
     "data": {
      "text/plain": [
       "np.float64(0.6967117750450845)"
      ]
     },
     "execution_count": 56,
     "metadata": {},
     "output_type": "execute_result"
    }
   ],
   "source": [
    "rmse = np.sqrt(mean_squared_error(df_model['target'], predictions))\n",
    "rmse"
   ]
  },
  {
   "cell_type": "code",
   "execution_count": 57,
   "id": "b1730a1e",
   "metadata": {},
   "outputs": [
    {
     "data": {
      "text/html": [
       "<div>\n",
       "<style scoped>\n",
       "    .dataframe tbody tr th:only-of-type {\n",
       "        vertical-align: middle;\n",
       "    }\n",
       "\n",
       "    .dataframe tbody tr th {\n",
       "        vertical-align: top;\n",
       "    }\n",
       "\n",
       "    .dataframe thead th {\n",
       "        text-align: right;\n",
       "    }\n",
       "</style>\n",
       "<table border=\"1\" class=\"dataframe\">\n",
       "  <thead>\n",
       "    <tr style=\"text-align: right;\">\n",
       "      <th></th>\n",
       "      <th>MedInc</th>\n",
       "      <th>HouseAge</th>\n",
       "      <th>AveRooms</th>\n",
       "      <th>AveBedrms</th>\n",
       "      <th>Population</th>\n",
       "      <th>AveOccup</th>\n",
       "      <th>Latitude</th>\n",
       "      <th>Longitude</th>\n",
       "      <th>target</th>\n",
       "      <th>Estimación</th>\n",
       "      <th>Error</th>\n",
       "    </tr>\n",
       "  </thead>\n",
       "  <tbody>\n",
       "    <tr>\n",
       "      <th>0</th>\n",
       "      <td>7.2574</td>\n",
       "      <td>52.0</td>\n",
       "      <td>8.288136</td>\n",
       "      <td>1.073446</td>\n",
       "      <td>496.0</td>\n",
       "      <td>2.802260</td>\n",
       "      <td>37.85</td>\n",
       "      <td>-122.24</td>\n",
       "      <td>3.521</td>\n",
       "      <td>3.790</td>\n",
       "      <td>-0.269</td>\n",
       "    </tr>\n",
       "    <tr>\n",
       "      <th>1</th>\n",
       "      <td>5.6431</td>\n",
       "      <td>52.0</td>\n",
       "      <td>5.817352</td>\n",
       "      <td>1.073059</td>\n",
       "      <td>558.0</td>\n",
       "      <td>2.547945</td>\n",
       "      <td>37.85</td>\n",
       "      <td>-122.25</td>\n",
       "      <td>3.413</td>\n",
       "      <td>2.904</td>\n",
       "      <td>0.509</td>\n",
       "    </tr>\n",
       "    <tr>\n",
       "      <th>2</th>\n",
       "      <td>3.8462</td>\n",
       "      <td>52.0</td>\n",
       "      <td>6.281853</td>\n",
       "      <td>1.081081</td>\n",
       "      <td>565.0</td>\n",
       "      <td>2.181467</td>\n",
       "      <td>37.85</td>\n",
       "      <td>-122.25</td>\n",
       "      <td>3.422</td>\n",
       "      <td>2.204</td>\n",
       "      <td>1.218</td>\n",
       "    </tr>\n",
       "    <tr>\n",
       "      <th>3</th>\n",
       "      <td>4.0368</td>\n",
       "      <td>52.0</td>\n",
       "      <td>4.761658</td>\n",
       "      <td>1.103627</td>\n",
       "      <td>413.0</td>\n",
       "      <td>2.139896</td>\n",
       "      <td>37.85</td>\n",
       "      <td>-122.25</td>\n",
       "      <td>2.697</td>\n",
       "      <td>2.315</td>\n",
       "      <td>0.382</td>\n",
       "    </tr>\n",
       "    <tr>\n",
       "      <th>4</th>\n",
       "      <td>3.6591</td>\n",
       "      <td>52.0</td>\n",
       "      <td>4.931907</td>\n",
       "      <td>0.951362</td>\n",
       "      <td>1094.0</td>\n",
       "      <td>2.128405</td>\n",
       "      <td>37.84</td>\n",
       "      <td>-122.25</td>\n",
       "      <td>2.992</td>\n",
       "      <td>2.128</td>\n",
       "      <td>0.864</td>\n",
       "    </tr>\n",
       "  </tbody>\n",
       "</table>\n",
       "</div>"
      ],
      "text/plain": [
       "   MedInc  HouseAge  AveRooms  AveBedrms  Population  AveOccup  Latitude  \\\n",
       "0  7.2574      52.0  8.288136   1.073446       496.0  2.802260     37.85   \n",
       "1  5.6431      52.0  5.817352   1.073059       558.0  2.547945     37.85   \n",
       "2  3.8462      52.0  6.281853   1.081081       565.0  2.181467     37.85   \n",
       "3  4.0368      52.0  4.761658   1.103627       413.0  2.139896     37.85   \n",
       "4  3.6591      52.0  4.931907   0.951362      1094.0  2.128405     37.84   \n",
       "\n",
       "   Longitude  target  Estimación  Error  \n",
       "0    -122.24   3.521       3.790 -0.269  \n",
       "1    -122.25   3.413       2.904  0.509  \n",
       "2    -122.25   3.422       2.204  1.218  \n",
       "3    -122.25   2.697       2.315  0.382  \n",
       "4    -122.25   2.992       2.128  0.864  "
      ]
     },
     "execution_count": 57,
     "metadata": {},
     "output_type": "execute_result"
    }
   ],
   "source": [
    "df['Estimación'] = results.predict(df)\n",
    "df['Estimación'] = df['Estimación'].round(3)\n",
    "df['Error'] = df['target'] - df['Estimación']\n",
    "df.head()"
   ]
  },
  {
   "cell_type": "markdown",
   "id": "3d713820",
   "metadata": {},
   "source": [
    "Calculamos otros estadisticos:"
   ]
  },
  {
   "cell_type": "code",
   "execution_count": 58,
   "id": "c840b2da",
   "metadata": {},
   "outputs": [
    {
     "name": "stdout",
     "output_type": "stream",
     "text": [
      "RMSE: 0.6967\n",
      "AIC: 44711.72\n",
      "BIC: 44757.95\n"
     ]
    }
   ],
   "source": [
    "print(f'RMSE: {rmse:.4f}')\n",
    "print(f'AIC: {results.aic:.2f}')\n",
    "print(f'BIC: {results.bic_llf:.2f}')"
   ]
  },
  {
   "cell_type": "markdown",
   "id": "5448658a",
   "metadata": {},
   "source": [
    "### Interpretacion de coeficientes\n",
    "Coeficientes del modelo (escala logaritmica):"
   ]
  },
  {
   "cell_type": "code",
   "execution_count": 61,
   "id": "ccb18d26",
   "metadata": {},
   "outputs": [
    {
     "name": "stdout",
     "output_type": "stream",
     "text": [
      "Longitude      :   0.0017 (cambio:  +0.17%)\n",
      "MedInc         :   0.2061 (cambio: +22.89%)\n",
      "Population     :   0.0000 (cambio:  +0.00%)\n",
      "AveOccup       :  -0.2520 (cambio: -22.28%)\n",
      "AveBedrms      :   0.2452 (cambio: +27.79%)\n"
     ]
    }
   ],
   "source": [
    "for variable, coef in results.params.items():\n",
    "    if variable != 'Intercept':\n",
    "        efecto_pct = (np.exp(coef) - 1) * 100\n",
    "        print(f\"{variable:15s}: {coef:8.4f} (cambio: {efecto_pct:+6.2f}%)\")"
   ]
  }
 ],
 "metadata": {
  "jupytext": {
   "cell_metadata_filter": "-all",
   "main_language": "python",
   "notebook_metadata_filter": "-all"
  },
  "kernelspec": {
   "display_name": "env",
   "language": "python",
   "name": "python3"
  },
  "language_info": {
   "codemirror_mode": {
    "name": "ipython",
    "version": 3
   },
   "file_extension": ".py",
   "mimetype": "text/x-python",
   "name": "python",
   "nbconvert_exporter": "python",
   "pygments_lexer": "ipython3",
   "version": "3.12.3"
  }
 },
 "nbformat": 4,
 "nbformat_minor": 5
}
