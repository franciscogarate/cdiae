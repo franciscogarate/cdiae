{
  "cells": [
    {
      "cell_type": "markdown",
      "metadata": {
        "id": "view-in-github",
        "colab_type": "text"
      },
      "source": [
        "<a href=\"https://colab.research.google.com/github/franciscogarate/cdiae/blob/main/notebooks/12_Edades_MetaCortex.ipynb\" target=\"_parent\"><img src=\"https://colab.research.google.com/assets/colab-badge.svg\" alt=\"Open In Colab\"/></a>"
      ]
    },
    {
      "cell_type": "markdown",
      "source": [
        "# Cálculo de edades en un dataframe"
      ],
      "metadata": {
        "id": "2pNmMlHsKfFc"
      },
      "id": "2pNmMlHsKfFc"
    },
    {
      "cell_type": "code",
      "execution_count": null,
      "id": "5a563a9d",
      "metadata": {
        "id": "5a563a9d"
      },
      "outputs": [],
      "source": [
        "import numpy as np\n",
        "import pandas as pd\n",
        "from datetime import datetime, date"
      ]
    },
    {
      "cell_type": "code",
      "source": [
        "!git clone https://github.com/franciscogarate/cdiae"
      ],
      "metadata": {
        "id": "5w6bD0tqKYxf"
      },
      "id": "5w6bD0tqKYxf",
      "execution_count": null,
      "outputs": []
    },
    {
      "cell_type": "code",
      "execution_count": null,
      "id": "d21d99dc",
      "metadata": {
        "id": "d21d99dc"
      },
      "outputs": [],
      "source": [
        "df = pd.read_feather('cdiae/data/03_model_input/empleados_metacortex_clean.ftr')\n",
        "df.head()"
      ]
    },
    {
      "cell_type": "code",
      "execution_count": null,
      "id": "4e76e5ca",
      "metadata": {
        "id": "4e76e5ca"
      },
      "outputs": [],
      "source": [
        "df.info()"
      ]
    },
    {
      "cell_type": "code",
      "source": [
        "fval = pd.to_datetime('2024-12-31')"
      ],
      "metadata": {
        "id": "wD45bQOyKwFs"
      },
      "id": "wD45bQOyKwFs",
      "execution_count": null,
      "outputs": []
    },
    {
      "cell_type": "code",
      "execution_count": null,
      "id": "bf6e1d51",
      "metadata": {
        "id": "bf6e1d51"
      },
      "outputs": [],
      "source": [
        "def EdAct(fechanac, fval):\n",
        "    if not isinstance(fechanac, datetime):\n",
        "        fechanac = pd.to_datetime(str(fechanac))\n",
        "    if not isinstance(fval, datetime):\n",
        "        fval = pd.to_datetime(str(fval))\n",
        "\n",
        "    return round((fval - fechanac).days / 365.2425)"
      ]
    },
    {
      "cell_type": "code",
      "execution_count": null,
      "id": "4ad597fb",
      "metadata": {
        "id": "4ad597fb"
      },
      "outputs": [],
      "source": [
        "df['edad_actuarial'] = df['FNacim'].apply(lambda x: EdAct(x, fval))\n",
        "df.head()\n"
      ]
    },
    {
      "cell_type": "code",
      "source": [
        "def EdCumplida(fechanac, fval):\n",
        "\tif not isinstance(fechanac, datetime):\n",
        "\t\tfechanac = pd.to_datetime(str(fechanac))\n",
        "\tif not isinstance(fval, datetime):\n",
        "\t\tfval = pd.to_datetime(str(fval))\n",
        "\n",
        "\tedad = fval.year - fechanac.year - ((fval.month, fval.day) < (fechanac.month, fechanac.day))\n",
        "\treturn np.maximum(edad, 0)"
      ],
      "metadata": {
        "id": "P5Esv-AKK1DY"
      },
      "id": "P5Esv-AKK1DY",
      "execution_count": null,
      "outputs": []
    },
    {
      "cell_type": "code",
      "source": [
        "df['edad_cumplida'] = df['FNacim'].apply(lambda x: EdCumplida(x, fval))\n",
        "df.head()\n"
      ],
      "metadata": {
        "id": "3-96vwfGK5ie"
      },
      "id": "3-96vwfGK5ie",
      "execution_count": null,
      "outputs": []
    }
  ],
  "metadata": {
    "kernelspec": {
      "display_name": "env",
      "language": "python",
      "name": "python3"
    },
    "language_info": {
      "codemirror_mode": {
        "name": "ipython",
        "version": 3
      },
      "file_extension": ".py",
      "mimetype": "text/x-python",
      "name": "python",
      "nbconvert_exporter": "python",
      "pygments_lexer": "ipython3",
      "version": "3.12.3"
    },
    "colab": {
      "provenance": [],
      "include_colab_link": true
    }
  },
  "nbformat": 4,
  "nbformat_minor": 5
}