{
  "cells": [
    {
      "cell_type": "markdown",
      "metadata": {
        "id": "view-in-github",
        "colab_type": "text"
      },
      "source": [
        "<a href=\"https://colab.research.google.com/github/franciscogarate/cdiae/blob/main/notebooks/16_Chainladder.ipynb\" target=\"_parent\"><img src=\"https://colab.research.google.com/assets/colab-badge.svg\" alt=\"Open In Colab\"/></a>"
      ]
    },
    {
      "cell_type": "markdown",
      "source": [
        "# Chainladder clásico con pandas y numpy"
      ],
      "metadata": {
        "id": "cMCohsYAow9B"
      },
      "id": "cMCohsYAow9B"
    },
    {
      "cell_type": "code",
      "execution_count": null,
      "id": "7c30cb54",
      "metadata": {
        "id": "7c30cb54"
      },
      "outputs": [],
      "source": [
        "import pandas as pd\n",
        "import numpy as np"
      ]
    },
    {
      "cell_type": "code",
      "source": [
        "!git clone https://github.com/franciscogarate/cdiae"
      ],
      "metadata": {
        "id": "yGgMXLPQo9sR"
      },
      "id": "yGgMXLPQo9sR",
      "execution_count": null,
      "outputs": []
    },
    {
      "cell_type": "code",
      "execution_count": null,
      "id": "11ed12d8",
      "metadata": {
        "id": "11ed12d8"
      },
      "outputs": [],
      "source": [
        "df = pd.read_csv('cdiae/data/01_raw/data_claims.csv', sep=';')\n",
        "df.head()"
      ]
    },
    {
      "cell_type": "markdown",
      "source": [
        "Una vez importados y formateados los datos de fecha, podemos crear nuevos campos con el año del siniestro y el año del pago (es decir, Accident_Year) o, en este caso, modificar los existentes:"
      ],
      "metadata": {
        "id": "DBSkSQOSpQy_"
      },
      "id": "DBSkSQOSpQy_"
    },
    {
      "cell_type": "code",
      "execution_count": null,
      "id": "5022b01f",
      "metadata": {
        "id": "5022b01f"
      },
      "outputs": [],
      "source": [
        "df['Accident_Date'] = pd.to_datetime(df['Accident_Date'])\n",
        "df['Payment_Date'] = pd.to_datetime(df['Payment_Date'])"
      ]
    },
    {
      "cell_type": "code",
      "execution_count": null,
      "id": "59419078",
      "metadata": {
        "id": "59419078"
      },
      "outputs": [],
      "source": [
        "df['Accident_Date'] = df['Accident_Date'].dt.to_period(freq='Y')\n",
        "df['Payment_Date'] = df['Payment_Date'].dt.to_period(freq='Y')"
      ]
    },
    {
      "cell_type": "markdown",
      "source": [
        "Calculamos un nuevo campo llamado ’Dev’ con el periodo de tiempo (o desarrollo) como la diferencia entre las dos fechas (en tipo entero):"
      ],
      "metadata": {
        "id": "jLhU16MdpaCp"
      },
      "id": "jLhU16MdpaCp"
    },
    {
      "cell_type": "code",
      "execution_count": null,
      "id": "1f3ec255",
      "metadata": {
        "id": "1f3ec255"
      },
      "outputs": [],
      "source": [
        "df['Dev'] = df['Payment_Date'].astype(int) - df['Accident_Date'].astype(int)"
      ]
    },
    {
      "cell_type": "markdown",
      "source": [
        "Agrupamos por año de siniestro y año de desarrollo usando groupby(), y sumamos los importes de los siniestros:"
      ],
      "metadata": {
        "id": "sK8cbtL9pfn1"
      },
      "id": "sK8cbtL9pfn1"
    },
    {
      "cell_type": "code",
      "source": [
        "df_agg = df.groupby(['Accident_Date','Dev']).agg({'Indemnity':'sum'}).reset_index()"
      ],
      "metadata": {
        "id": "ym12ruKkpjuy"
      },
      "id": "ym12ruKkpjuy",
      "execution_count": null,
      "outputs": []
    },
    {
      "cell_type": "markdown",
      "source": [
        "Una vez agrupados, guardamos los datos en una tabla bidimensional (pivot table) basada en estas dos variables:"
      ],
      "metadata": {
        "id": "R-Ir2HDipnP9"
      },
      "id": "R-Ir2HDipnP9"
    },
    {
      "cell_type": "code",
      "execution_count": null,
      "id": "0f60fc5f",
      "metadata": {
        "id": "0f60fc5f"
      },
      "outputs": [],
      "source": [
        "triangle = df_agg.pivot(index='Accident_Date', columns='Dev', values='Indemnity')\n",
        "triangle"
      ]
    },
    {
      "cell_type": "markdown",
      "source": [
        "El triángulo se calcula con los pagos acumulados a lo largo del tiempo. La función .cumsum() puede utilizarse para acumular los datos de un dataframe, aunque por defecto suma los datos de una columna, por lo que se debe especificar la suma por filas (axis=1)."
      ],
      "metadata": {
        "id": "qsUzTdcKpuE1"
      },
      "id": "qsUzTdcKpuE1"
    },
    {
      "cell_type": "code",
      "execution_count": null,
      "id": "pWYOSutdvK5a",
      "metadata": {
        "id": "pWYOSutdvK5a"
      },
      "outputs": [],
      "source": [
        "accumulate = triangle.cumsum(axis=1)\n",
        "accumulate"
      ]
    },
    {
      "cell_type": "markdown",
      "source": [
        "Se calculan los patrones de pago o factores de desarrollo: cuotas incrementales, link ratios o **factores de desarrollo de siniestros (LDFs)**, y las cuotas acumuladas, ratios finales o **factores de desarrollo acumulados (CDFs)**."
      ],
      "metadata": {
        "id": "C0bAOdrCp1yB"
      },
      "id": "C0bAOdrCp1yB"
    },
    {
      "cell_type": "code",
      "execution_count": null,
      "id": "b827a243",
      "metadata": {
        "id": "b827a243"
      },
      "outputs": [],
      "source": [
        "n = len(accumulate)-1"
      ]
    },
    {
      "cell_type": "code",
      "execution_count": null,
      "id": "a08ed695",
      "metadata": {
        "id": "a08ed695"
      },
      "outputs": [],
      "source": [
        "LDFs = np.ones(n)\n",
        "for i in range(n):\n",
        "\tSumDev = pd.Series(accumulate[i][:n-i]).sum(skipna=True)\n",
        "\tSumDevNext = pd.Series(accumulate[min(i+1,n)][:n-i]).sum(skipna=True)\n",
        "\tLDFs[i] = SumDevNext/SumDev"
      ]
    },
    {
      "cell_type": "code",
      "execution_count": null,
      "id": "0dfdb160",
      "metadata": {
        "id": "0dfdb160"
      },
      "outputs": [],
      "source": [
        "CDFs = np.ones(n+1) #fix last value as 1.\n",
        "for i in range(n):\n",
        "\tCDFs[i] = np.prod(LDFs[i:n])"
      ]
    },
    {
      "cell_type": "markdown",
      "source": [
        "Calcular el patrón de pagos con estos valores es sencillo. La función **.reciprocal()** devuelve el inverso del número (1/x). En la columna de tasas incrementales, los valores *NaN* se sustituyen por el valor de la columna de tasas acumuladas"
      ],
      "metadata": {
        "id": "Is5BeYhqqDSE"
      },
      "id": "Is5BeYhqqDSE"
    },
    {
      "cell_type": "code",
      "execution_count": null,
      "id": "77762243",
      "metadata": {
        "id": "77762243"
      },
      "outputs": [],
      "source": [
        "payment_pattern = pd.DataFrame(data=np.reciprocal(CDFs),columns=['Cum'])\n",
        "payment_pattern['Incr'] = payment_pattern['Cum'].diff().fillna(payment_pattern['Cum'])"
      ]
    },
    {
      "cell_type": "markdown",
      "source": [
        "Graficamos:"
      ],
      "metadata": {
        "id": "Q3BD9hzmqQQc"
      },
      "id": "Q3BD9hzmqQQc"
    },
    {
      "cell_type": "code",
      "execution_count": null,
      "id": "403c5ef2",
      "metadata": {
        "id": "403c5ef2"
      },
      "outputs": [],
      "source": [
        "import matplotlib.pyplot as plt\n",
        "payment_pattern.plot()\n",
        "plt.show()"
      ]
    },
    {
      "cell_type": "markdown",
      "source": [
        "Multiplicamos los pagos por los ratios de desarrollo finales (hasta el último valor) para obtener el valor del último pago, es decir, al restar los pagos actuales obtenemos el valor de la reserva necesaria."
      ],
      "metadata": {
        "id": "3uesgGLuqVm3"
      },
      "id": "3uesgGLuqVm3"
    },
    {
      "cell_type": "code",
      "execution_count": null,
      "id": "9fb01429",
      "metadata": {
        "id": "9fb01429"
      },
      "outputs": [],
      "source": [
        "diagonal = np.diag(np.flipud(accumulate))\n",
        "payments = pd.Series(data=diagonal)\n",
        "ultimate = np.dot(CDFs, payments)\n"
      ]
    },
    {
      "cell_type": "markdown",
      "source": [
        "Cálculo de la reserva:"
      ],
      "metadata": {
        "id": "6ZT1m6_gqflv"
      },
      "id": "6ZT1m6_gqflv"
    },
    {
      "cell_type": "code",
      "source": [
        "reserve = ultimate - np.sum(payments)\n",
        "print(f'Reserva: {reserve:,.2f}')"
      ],
      "metadata": {
        "id": "2v5haHhhqgZe"
      },
      "id": "2v5haHhhqgZe",
      "execution_count": null,
      "outputs": []
    }
  ],
  "metadata": {
    "colab": {
      "provenance": [],
      "include_colab_link": true
    },
    "jupytext": {
      "cell_metadata_filter": "-all",
      "main_language": "python",
      "notebook_metadata_filter": "-all"
    },
    "kernelspec": {
      "display_name": "env",
      "language": "python",
      "name": "python3"
    },
    "language_info": {
      "codemirror_mode": {
        "name": "ipython",
        "version": 3
      },
      "file_extension": ".py",
      "mimetype": "text/x-python",
      "name": "python",
      "nbconvert_exporter": "python",
      "pygments_lexer": "ipython3",
      "version": "3.12.3"
    }
  },
  "nbformat": 4,
  "nbformat_minor": 5
}