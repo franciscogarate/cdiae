{
  "cells": [
    {
      "cell_type": "code",
      "execution_count": 21,
      "id": "7c30cb54",
      "metadata": {
        "id": "7c30cb54"
      },
      "outputs": [],
      "source": [
        "import pandas as pd\n",
        "import numpy as np"
      ]
    },
    {
      "cell_type": "code",
      "execution_count": 22,
      "id": "11ed12d8",
      "metadata": {
        "id": "11ed12d8"
      },
      "outputs": [
        {
          "data": {
            "text/html": [
              "<div>\n",
              "<style scoped>\n",
              "    .dataframe tbody tr th:only-of-type {\n",
              "        vertical-align: middle;\n",
              "    }\n",
              "\n",
              "    .dataframe tbody tr th {\n",
              "        vertical-align: top;\n",
              "    }\n",
              "\n",
              "    .dataframe thead th {\n",
              "        text-align: right;\n",
              "    }\n",
              "</style>\n",
              "<table border=\"1\" class=\"dataframe\">\n",
              "  <thead>\n",
              "    <tr style=\"text-align: right;\">\n",
              "      <th></th>\n",
              "      <th>Claim_ID</th>\n",
              "      <th>Policy_ID</th>\n",
              "      <th>Accident_Date</th>\n",
              "      <th>Report_Date</th>\n",
              "      <th>Payment_Date</th>\n",
              "      <th>Indemnity</th>\n",
              "    </tr>\n",
              "  </thead>\n",
              "  <tbody>\n",
              "    <tr>\n",
              "      <th>0</th>\n",
              "      <td>1</td>\n",
              "      <td>31082</td>\n",
              "      <td>2016-09-12</td>\n",
              "      <td>2016-09-21</td>\n",
              "      <td>2017-07-03</td>\n",
              "      <td>83</td>\n",
              "    </tr>\n",
              "    <tr>\n",
              "      <th>1</th>\n",
              "      <td>2</td>\n",
              "      <td>61275</td>\n",
              "      <td>2017-11-20</td>\n",
              "      <td>2018-01-03</td>\n",
              "      <td>2018-02-02</td>\n",
              "      <td>71</td>\n",
              "    </tr>\n",
              "    <tr>\n",
              "      <th>2</th>\n",
              "      <td>3</td>\n",
              "      <td>72257</td>\n",
              "      <td>2013-06-10</td>\n",
              "      <td>2013-06-25</td>\n",
              "      <td>2013-07-15</td>\n",
              "      <td>115</td>\n",
              "    </tr>\n",
              "    <tr>\n",
              "      <th>3</th>\n",
              "      <td>4</td>\n",
              "      <td>73111</td>\n",
              "      <td>2013-09-17</td>\n",
              "      <td>2013-10-05</td>\n",
              "      <td>2018-09-20</td>\n",
              "      <td>67</td>\n",
              "    </tr>\n",
              "    <tr>\n",
              "      <th>4</th>\n",
              "      <td>5</td>\n",
              "      <td>84755</td>\n",
              "      <td>2017-06-30</td>\n",
              "      <td>2017-07-12</td>\n",
              "      <td>2017-09-30</td>\n",
              "      <td>122</td>\n",
              "    </tr>\n",
              "  </tbody>\n",
              "</table>\n",
              "</div>"
            ],
            "text/plain": [
              "   Claim_ID  Policy_ID Accident_Date Report_Date Payment_Date  Indemnity\n",
              "0         1      31082    2016-09-12  2016-09-21   2017-07-03         83\n",
              "1         2      61275    2017-11-20  2018-01-03   2018-02-02         71\n",
              "2         3      72257    2013-06-10  2013-06-25   2013-07-15        115\n",
              "3         4      73111    2013-09-17  2013-10-05   2018-09-20         67\n",
              "4         5      84755    2017-06-30  2017-07-12   2017-09-30        122"
            ]
          },
          "execution_count": 22,
          "metadata": {},
          "output_type": "execute_result"
        }
      ],
      "source": [
        "df = pd.read_csv('../data/01_raw/data_claims.csv',sep=';')\n",
        "df.head()"
      ]
    },
    {
      "cell_type": "code",
      "execution_count": 23,
      "id": "5022b01f",
      "metadata": {
        "id": "5022b01f"
      },
      "outputs": [],
      "source": [
        "df['Accident_Date'] = pd.to_datetime(df['Accident_Date'])\n",
        "df['Payment_Date'] = pd.to_datetime(df['Payment_Date'])"
      ]
    },
    {
      "cell_type": "code",
      "execution_count": 24,
      "id": "59419078",
      "metadata": {
        "id": "59419078"
      },
      "outputs": [],
      "source": [
        "df['Accident_Date'] = df['Accident_Date'].dt.to_period(freq='Y')\n",
        "df['Payment_Date'] = df['Payment_Date'].dt.to_period(freq='Y')"
      ]
    },
    {
      "cell_type": "code",
      "execution_count": 25,
      "id": "1f3ec255",
      "metadata": {
        "id": "1f3ec255"
      },
      "outputs": [],
      "source": [
        "df['Dev'] = df['Payment_Date'].astype(int) - df['Accident_Date'].astype(int)\n",
        "df_agg = df.groupby(['Accident_Date','Dev']).agg({'Indemnity':'sum'}).reset_index()"
      ]
    },
    {
      "cell_type": "code",
      "execution_count": 26,
      "id": "0f60fc5f",
      "metadata": {
        "colab": {
          "base_uri": "https://localhost:8080/",
          "height": 269
        },
        "id": "0f60fc5f",
        "outputId": "a0fe556c-f8a9-4f15-9590-8dd825fe23a3"
      },
      "outputs": [
        {
          "data": {
            "text/html": [
              "<div>\n",
              "<style scoped>\n",
              "    .dataframe tbody tr th:only-of-type {\n",
              "        vertical-align: middle;\n",
              "    }\n",
              "\n",
              "    .dataframe tbody tr th {\n",
              "        vertical-align: top;\n",
              "    }\n",
              "\n",
              "    .dataframe thead th {\n",
              "        text-align: right;\n",
              "    }\n",
              "</style>\n",
              "<table border=\"1\" class=\"dataframe\">\n",
              "  <thead>\n",
              "    <tr style=\"text-align: right;\">\n",
              "      <th>Dev</th>\n",
              "      <th>0</th>\n",
              "      <th>1</th>\n",
              "      <th>2</th>\n",
              "      <th>3</th>\n",
              "      <th>4</th>\n",
              "      <th>5</th>\n",
              "    </tr>\n",
              "    <tr>\n",
              "      <th>Accident_Date</th>\n",
              "      <th></th>\n",
              "      <th></th>\n",
              "      <th></th>\n",
              "      <th></th>\n",
              "      <th></th>\n",
              "      <th></th>\n",
              "    </tr>\n",
              "  </thead>\n",
              "  <tbody>\n",
              "    <tr>\n",
              "      <th>2013</th>\n",
              "      <td>118066.0</td>\n",
              "      <td>25877.0</td>\n",
              "      <td>12392.0</td>\n",
              "      <td>9743.0</td>\n",
              "      <td>8599.0</td>\n",
              "      <td>8977.0</td>\n",
              "    </tr>\n",
              "    <tr>\n",
              "      <th>2014</th>\n",
              "      <td>119961.0</td>\n",
              "      <td>26543.0</td>\n",
              "      <td>13813.0</td>\n",
              "      <td>11509.0</td>\n",
              "      <td>10339.0</td>\n",
              "      <td>NaN</td>\n",
              "    </tr>\n",
              "    <tr>\n",
              "      <th>2015</th>\n",
              "      <td>108140.0</td>\n",
              "      <td>27975.0</td>\n",
              "      <td>18551.0</td>\n",
              "      <td>14250.0</td>\n",
              "      <td>NaN</td>\n",
              "      <td>NaN</td>\n",
              "    </tr>\n",
              "    <tr>\n",
              "      <th>2016</th>\n",
              "      <td>107660.0</td>\n",
              "      <td>34826.0</td>\n",
              "      <td>19814.0</td>\n",
              "      <td>NaN</td>\n",
              "      <td>NaN</td>\n",
              "      <td>NaN</td>\n",
              "    </tr>\n",
              "    <tr>\n",
              "      <th>2017</th>\n",
              "      <td>112042.0</td>\n",
              "      <td>51641.0</td>\n",
              "      <td>NaN</td>\n",
              "      <td>NaN</td>\n",
              "      <td>NaN</td>\n",
              "      <td>NaN</td>\n",
              "    </tr>\n",
              "    <tr>\n",
              "      <th>2018</th>\n",
              "      <td>133511.0</td>\n",
              "      <td>NaN</td>\n",
              "      <td>NaN</td>\n",
              "      <td>NaN</td>\n",
              "      <td>NaN</td>\n",
              "      <td>NaN</td>\n",
              "    </tr>\n",
              "  </tbody>\n",
              "</table>\n",
              "</div>"
            ],
            "text/plain": [
              "Dev                   0        1        2        3        4       5\n",
              "Accident_Date                                                      \n",
              "2013           118066.0  25877.0  12392.0   9743.0   8599.0  8977.0\n",
              "2014           119961.0  26543.0  13813.0  11509.0  10339.0     NaN\n",
              "2015           108140.0  27975.0  18551.0  14250.0      NaN     NaN\n",
              "2016           107660.0  34826.0  19814.0      NaN      NaN     NaN\n",
              "2017           112042.0  51641.0      NaN      NaN      NaN     NaN\n",
              "2018           133511.0      NaN      NaN      NaN      NaN     NaN"
            ]
          },
          "execution_count": 26,
          "metadata": {},
          "output_type": "execute_result"
        }
      ],
      "source": [
        "triangle = df_agg.pivot(index='Accident_Date', columns='Dev', values='Indemnity')\n",
        "triangle"
      ]
    },
    {
      "cell_type": "code",
      "execution_count": 27,
      "id": "pWYOSutdvK5a",
      "metadata": {
        "colab": {
          "base_uri": "https://localhost:8080/",
          "height": 269
        },
        "id": "pWYOSutdvK5a",
        "outputId": "965b7ba3-c4f9-4ecc-dcbc-f4b1255110ba"
      },
      "outputs": [
        {
          "data": {
            "text/html": [
              "<div>\n",
              "<style scoped>\n",
              "    .dataframe tbody tr th:only-of-type {\n",
              "        vertical-align: middle;\n",
              "    }\n",
              "\n",
              "    .dataframe tbody tr th {\n",
              "        vertical-align: top;\n",
              "    }\n",
              "\n",
              "    .dataframe thead th {\n",
              "        text-align: right;\n",
              "    }\n",
              "</style>\n",
              "<table border=\"1\" class=\"dataframe\">\n",
              "  <thead>\n",
              "    <tr style=\"text-align: right;\">\n",
              "      <th>Dev</th>\n",
              "      <th>0</th>\n",
              "      <th>1</th>\n",
              "      <th>2</th>\n",
              "      <th>3</th>\n",
              "      <th>4</th>\n",
              "      <th>5</th>\n",
              "    </tr>\n",
              "    <tr>\n",
              "      <th>Accident_Date</th>\n",
              "      <th></th>\n",
              "      <th></th>\n",
              "      <th></th>\n",
              "      <th></th>\n",
              "      <th></th>\n",
              "      <th></th>\n",
              "    </tr>\n",
              "  </thead>\n",
              "  <tbody>\n",
              "    <tr>\n",
              "      <th>2013</th>\n",
              "      <td>118066.0</td>\n",
              "      <td>143943.0</td>\n",
              "      <td>156335.0</td>\n",
              "      <td>166078.0</td>\n",
              "      <td>174677.0</td>\n",
              "      <td>183654.0</td>\n",
              "    </tr>\n",
              "    <tr>\n",
              "      <th>2014</th>\n",
              "      <td>119961.0</td>\n",
              "      <td>146504.0</td>\n",
              "      <td>160317.0</td>\n",
              "      <td>171826.0</td>\n",
              "      <td>182165.0</td>\n",
              "      <td>NaN</td>\n",
              "    </tr>\n",
              "    <tr>\n",
              "      <th>2015</th>\n",
              "      <td>108140.0</td>\n",
              "      <td>136115.0</td>\n",
              "      <td>154666.0</td>\n",
              "      <td>168916.0</td>\n",
              "      <td>NaN</td>\n",
              "      <td>NaN</td>\n",
              "    </tr>\n",
              "    <tr>\n",
              "      <th>2016</th>\n",
              "      <td>107660.0</td>\n",
              "      <td>142486.0</td>\n",
              "      <td>162300.0</td>\n",
              "      <td>NaN</td>\n",
              "      <td>NaN</td>\n",
              "      <td>NaN</td>\n",
              "    </tr>\n",
              "    <tr>\n",
              "      <th>2017</th>\n",
              "      <td>112042.0</td>\n",
              "      <td>163683.0</td>\n",
              "      <td>NaN</td>\n",
              "      <td>NaN</td>\n",
              "      <td>NaN</td>\n",
              "      <td>NaN</td>\n",
              "    </tr>\n",
              "    <tr>\n",
              "      <th>2018</th>\n",
              "      <td>133511.0</td>\n",
              "      <td>NaN</td>\n",
              "      <td>NaN</td>\n",
              "      <td>NaN</td>\n",
              "      <td>NaN</td>\n",
              "      <td>NaN</td>\n",
              "    </tr>\n",
              "  </tbody>\n",
              "</table>\n",
              "</div>"
            ],
            "text/plain": [
              "Dev                   0         1         2         3         4         5\n",
              "Accident_Date                                                            \n",
              "2013           118066.0  143943.0  156335.0  166078.0  174677.0  183654.0\n",
              "2014           119961.0  146504.0  160317.0  171826.0  182165.0       NaN\n",
              "2015           108140.0  136115.0  154666.0  168916.0       NaN       NaN\n",
              "2016           107660.0  142486.0  162300.0       NaN       NaN       NaN\n",
              "2017           112042.0  163683.0       NaN       NaN       NaN       NaN\n",
              "2018           133511.0       NaN       NaN       NaN       NaN       NaN"
            ]
          },
          "execution_count": 27,
          "metadata": {},
          "output_type": "execute_result"
        }
      ],
      "source": [
        "accumulate = triangle.cumsum(axis=1)\n",
        "accumulate"
      ]
    },
    {
      "cell_type": "code",
      "execution_count": 28,
      "id": "b827a243",
      "metadata": {
        "id": "b827a243"
      },
      "outputs": [],
      "source": [
        "n = len(accumulate)-1"
      ]
    },
    {
      "cell_type": "code",
      "execution_count": 29,
      "id": "a08ed695",
      "metadata": {
        "id": "a08ed695"
      },
      "outputs": [],
      "source": [
        "LDFs = np.ones(n)\n",
        "for i in range(n):\n",
        "\tSumDev = pd.Series(accumulate[i][:n-i]).sum(skipna=True)\n",
        "\tSumDevNext = pd.Series(accumulate[min(i+1,n)][:n-i]).sum(skipna=True)\n",
        "\tLDFs[i] = SumDevNext/SumDev"
      ]
    },
    {
      "cell_type": "code",
      "execution_count": 30,
      "id": "0dfdb160",
      "metadata": {
        "id": "0dfdb160"
      },
      "outputs": [],
      "source": [
        "CDFs = np.ones(n+1) #fix last value as 1.\n",
        "for i in range(n):\n",
        "\tCDFs[i] = np.prod(LDFs[i:n])"
      ]
    },
    {
      "cell_type": "code",
      "execution_count": 31,
      "id": "77762243",
      "metadata": {
        "id": "77762243"
      },
      "outputs": [],
      "source": [
        "payment_pattern = pd.DataFrame(data=np.reciprocal(CDFs),columns=['Cum'])\n",
        "#First value of diff() is always NaN\n",
        "payment_pattern['Incr'] = payment_pattern['Cum'].diff().fillna(payment_pattern['Cum'])"
      ]
    },
    {
      "cell_type": "code",
      "execution_count": 32,
      "id": "403c5ef2",
      "metadata": {
        "colab": {
          "base_uri": "https://localhost:8080/",
          "height": 430
        },
        "id": "403c5ef2",
        "outputId": "99c1dd80-6f94-4202-8d0e-8eb31452820a"
      },
      "outputs": [
        {
          "data": {
            "image/png": "[encoded data removed]",
            "text/plain": [
              "<Figure size 640x480 with 1 Axes>"
            ]
          },
          "metadata": {},
          "output_type": "display_data"
        }
      ],
      "source": [
        "import matplotlib.pyplot as plt\n",
        "payment_pattern.plot()\n",
        "plt.show()"
      ]
    },
    {
      "cell_type": "code",
      "execution_count": 35,
      "id": "9fb01429",
      "metadata": {
        "colab": {
          "base_uri": "https://localhost:8080/"
        },
        "id": "9fb01429",
        "outputId": "8377a790-ab81-410b-a23f-92fe9128517a"
      },
      "outputs": [
        {
          "name": "stdout",
          "output_type": "stream",
          "text": [
            "209718.35\n"
          ]
        }
      ],
      "source": [
        "diagonal = np.diag(np.flipud(accumulate))\n",
        "payments = pd.Series(data=diagonal)\n",
        "ultimate = np.dot(CDFs, payments)\n",
        "reserve = ultimate - np.sum(payments)\n",
        "print(reserve.round(2))"
      ]
    }
  ],
  "metadata": {
    "colab": {
      "provenance": []
    },
    "jupytext": {
      "cell_metadata_filter": "-all",
      "main_language": "python",
      "notebook_metadata_filter": "-all"
    },
    "kernelspec": {
      "display_name": "env",
      "language": "python",
      "name": "python3"
    },
    "language_info": {
      "codemirror_mode": {
        "name": "ipython",
        "version": 3
      },
      "file_extension": ".py",
      "mimetype": "text/x-python",
      "name": "python",
      "nbconvert_exporter": "python",
      "pygments_lexer": "ipython3",
      "version": "3.12.3"
    }
  },
  "nbformat": 4,
  "nbformat_minor": 5
}
