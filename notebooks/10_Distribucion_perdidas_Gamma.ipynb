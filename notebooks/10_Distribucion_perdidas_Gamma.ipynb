{
  "cells": [
    {
      "cell_type": "markdown",
      "metadata": {
        "id": "view-in-github",
        "colab_type": "text"
      },
      "source": [
        "<a href=\"https://colab.research.google.com/github/franciscogarate/cdiae/blob/main/notebooks/10_Distribucion_perdidas_Gamma.ipynb\" target=\"_parent\"><img src=\"https://colab.research.google.com/assets/colab-badge.svg\" alt=\"Open In Colab\"/></a>"
      ]
    },
    {
      "cell_type": "markdown",
      "id": "d35e5d23",
      "metadata": {
        "id": "d35e5d23"
      },
      "source": [
        "# Distribución de pérdidas acorde a la distribución Gamma\n",
        "Supongamos que para un evento dado, el tamaño de la distribución de pérdidas (gravedad) de nuestra línea de negocio se describe mejor mediante una distribución gamma de **$\\alpha$ = 7 y $\\lambda$ = 0.0025.**\n",
        "\n",
        "\n",
        "La distribución gamma ($\\Gamma$ como un escalar) con parámetros forma = $\\lambda$ y escala = $\\alpha$ tiene como función de densidad:\n",
        "$f(x) = \\lambda e^{-\\lambda x} \\frac{(\\lambda x)^{\\alpha-1}}{\\Gamma(\\alpha)}$\n",
        "\n",
        "El valor esperado (media) y la varianza de una variable aleatoria x de distribución gamma son:\n",
        "${E(x)} = \\alpha \\theta = \\alpha / \\lambda $  y $Var(x) = \\alpha \\theta^2 = \\alpha / \\lambda^2$\n",
        "Se pide:\n",
        "- Calcular la media y la desviación estándar de la siniestralidad total\n",
        "- Calcular la siniestralidad esperada en los siguientes percentiles: 90th, 95th, 99th, 99.6th y 99.8th\n",
        "- Aplicar 10.000 simulaciones aleatorias con numpy (np.random.gamma) y calcular los anteriores percentiles."
      ]
    },
    {
      "cell_type": "markdown",
      "id": "c8b8c37d",
      "metadata": {
        "id": "c8b8c37d"
      },
      "source": [
        "Ejercicio obtenido de ``Economic Scenario Generators. A Practical Guide (pags 26-28)`` *(Society of actuaries, 2016)*"
      ]
    },
    {
      "cell_type": "markdown",
      "id": "de278698",
      "metadata": {
        "id": "de278698"
      },
      "source": [
        "## 1. Calcular la media y la desviación estándar de la siniestralidad total"
      ]
    },
    {
      "cell_type": "code",
      "execution_count": null,
      "id": "6a5b6415",
      "metadata": {
        "id": "6a5b6415"
      },
      "outputs": [],
      "source": [
        "import numpy as np\n",
        "import scipy.stats as st\n",
        "import matplotlib.pyplot as plt"
      ]
    },
    {
      "cell_type": "markdown",
      "id": "32ffb9af",
      "metadata": {
        "id": "32ffb9af"
      },
      "source": [
        "Definimos los parámetros de la distribución Gamma"
      ]
    },
    {
      "cell_type": "code",
      "execution_count": null,
      "id": "a9f1b907",
      "metadata": {
        "id": "a9f1b907"
      },
      "outputs": [],
      "source": [
        "alpha = 7.\n",
        "lamdba = 0.0025\n",
        "theta = 1/lamdba"
      ]
    },
    {
      "cell_type": "markdown",
      "id": "9db1512b",
      "metadata": {
        "id": "9db1512b"
      },
      "source": [
        "### Opción 1\n",
        "Calculamos la media, varianza y desviación típica de forma manual"
      ]
    },
    {
      "cell_type": "code",
      "execution_count": null,
      "id": "356fbae1",
      "metadata": {
        "id": "356fbae1"
      },
      "outputs": [],
      "source": [
        "mean = alpha / lamdba\n",
        "var = alpha / (lamdba ** 2)\n",
        "std = np.sqrt(var)\n",
        "print(mean, std)"
      ]
    },
    {
      "cell_type": "markdown",
      "id": "974e0eca",
      "metadata": {
        "id": "974e0eca"
      },
      "source": [
        "### Opción 2\n",
        "Verificamos los mismos valores usando las funciones de scipy.stats"
      ]
    },
    {
      "cell_type": "code",
      "execution_count": null,
      "id": "d4ab13ac",
      "metadata": {
        "id": "d4ab13ac"
      },
      "outputs": [],
      "source": [
        "print(st.gamma.mean(a=alpha, scale=1/lamdba), st.gamma.std(a=alpha, scale=1/lamdba))"
      ]
    },
    {
      "cell_type": "markdown",
      "id": "ec76927f",
      "metadata": {
        "id": "ec76927f"
      },
      "source": [
        "### Opción 3\n",
        "Creamos el objeto distribución Gamma con los parámetros definidos"
      ]
    },
    {
      "cell_type": "code",
      "execution_count": null,
      "id": "eca76b94",
      "metadata": {
        "id": "eca76b94"
      },
      "outputs": [],
      "source": [
        "siniestralidad = st.gamma(a=alpha, scale=1/lamdba)\n",
        "print(siniestralidad.mean(), siniestralidad.std())"
      ]
    },
    {
      "cell_type": "markdown",
      "id": "3d97d021",
      "metadata": {
        "id": "3d97d021"
      },
      "source": [
        "### Opción 4\n",
        "Obtenemos los momentos media y varianza directamente del método .stats()"
      ]
    },
    {
      "cell_type": "code",
      "execution_count": null,
      "id": "a48e8243",
      "metadata": {
        "id": "a48e8243"
      },
      "outputs": [],
      "source": [
        "m, v = siniestralidad.stats('mv')\n",
        "print(m,np.sqrt(v))"
      ]
    },
    {
      "cell_type": "markdown",
      "id": "7d249f10",
      "metadata": {
        "id": "7d249f10"
      },
      "source": [
        "## 2. Calculos de percentiles:\n",
        "Definimos una lista de percentiles que queremos analizar"
      ]
    },
    {
      "cell_type": "code",
      "execution_count": null,
      "id": "36e34522",
      "metadata": {
        "id": "36e34522"
      },
      "outputs": [],
      "source": [
        "percentiles = (0.5, 0.9, 0.95, 0.99, 0.996, 0.998)"
      ]
    },
    {
      "cell_type": "markdown",
      "id": "a49d7033",
      "metadata": {
        "id": "a49d7033"
      },
      "source": [
        "Calculamos los percentiles teóricos según la distribución Gamma"
      ]
    },
    {
      "cell_type": "code",
      "execution_count": null,
      "id": "aafb0ae9",
      "metadata": {
        "id": "aafb0ae9"
      },
      "outputs": [],
      "source": [
        "for i in percentiles:\n",
        "\tprint(f'El percentil {i:.3f} teorico es {st.gamma.ppf(i, a=alpha, scale=1/lamdba):.2f}')"
      ]
    },
    {
      "cell_type": "markdown",
      "id": "58372b74",
      "metadata": {
        "id": "58372b74"
      },
      "source": [
        "## 3. Aplicar 10.000 simulaciones aleatorias y calcular los anteriores percentiles.\n",
        "Simulamos 10.000 valores aleatorios de la distribución Gamma"
      ]
    },
    {
      "cell_type": "code",
      "execution_count": null,
      "id": "7902e461",
      "metadata": {
        "id": "7902e461"
      },
      "outputs": [],
      "source": [
        "s = np.random.gamma(alpha, theta, size=10000)\n",
        "for i in percentiles:\n",
        "\t# los percentiles en np.percentile van de 0 a 100\n",
        "\tprint(f'El percentil {i:.3f} de la simulacion es {np.percentile(s, i*100):.2f}')"
      ]
    },
    {
      "cell_type": "markdown",
      "id": "df909ca9",
      "metadata": {
        "id": "df909ca9"
      },
      "source": [
        "Dibujamos el histograma de los valores simulados junto a la densidad teórica"
      ]
    },
    {
      "cell_type": "code",
      "execution_count": null,
      "id": "20053c41",
      "metadata": {
        "id": "20053c41"
      },
      "outputs": [],
      "source": [
        "plt.hist(s, 50, density=True)\n",
        "x = np.linspace (0, 9000, 200)\n",
        "y = st.gamma.pdf(x, a=alpha, scale=1/lamdba)\n",
        "plt.plot(x, y)\n",
        "plt.show()"
      ]
    }
  ],
  "metadata": {
    "jupytext": {
      "cell_metadata_filter": "-all",
      "main_language": "python",
      "notebook_metadata_filter": "-all"
    },
    "kernelspec": {
      "display_name": "env",
      "language": "python",
      "name": "python3"
    },
    "language_info": {
      "codemirror_mode": {
        "name": "ipython",
        "version": 3
      },
      "file_extension": ".py",
      "mimetype": "text/x-python",
      "name": "python",
      "nbconvert_exporter": "python",
      "pygments_lexer": "ipython3",
      "version": "3.12.3"
    },
    "colab": {
      "provenance": [],
      "include_colab_link": true
    }
  },
  "nbformat": 4,
  "nbformat_minor": 5
}