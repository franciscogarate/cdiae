{
  "cells": [
    {
      "cell_type": "markdown",
      "metadata": {
        "id": "view-in-github",
        "colab_type": "text"
      },
      "source": [
        "<a href=\"https://colab.research.google.com/github/franciscogarate/cdiae/blob/main/notebooks/5_Concentracion_500m_California.ipynb\" target=\"_parent\"><img src=\"https://colab.research.google.com/assets/colab-badge.svg\" alt=\"Open In Colab\"/></a>"
      ]
    },
    {
      "cell_type": "markdown",
      "id": "e52cdf6b",
      "metadata": {
        "id": "e52cdf6b"
      },
      "source": [
        "# Cálculo del punto central con la mayor concentración geográfica"
      ]
    },
    {
      "cell_type": "code",
      "source": [
        "!git clone https://github.com/franciscogarate/cdiae"
      ],
      "metadata": {
        "id": "PbrT1NqBm9h_",
        "outputId": "9a92648b-1c64-4079-a25b-4d60974bd71a",
        "colab": {
          "base_uri": "https://localhost:8080/"
        }
      },
      "id": "PbrT1NqBm9h_",
      "execution_count": 1,
      "outputs": [
        {
          "output_type": "stream",
          "name": "stdout",
          "text": [
            "Cloning into 'cdiae'...\n",
            "remote: Enumerating objects: 94, done.\u001b[K\n",
            "remote: Counting objects: 100% (94/94), done.\u001b[K\n",
            "remote: Compressing objects: 100% (75/75), done.\u001b[K\n",
            "remote: Total 94 (delta 41), reused 60 (delta 19), pack-reused 0 (from 0)\u001b[K\n",
            "Receiving objects: 100% (94/94), 3.46 MiB | 10.57 MiB/s, done.\n",
            "Resolving deltas: 100% (41/41), done.\n"
          ]
        }
      ]
    },
    {
      "cell_type": "code",
      "execution_count": 2,
      "id": "4d112a3b",
      "metadata": {
        "id": "4d112a3b"
      },
      "outputs": [],
      "source": [
        "import pandas as pd\n",
        "import numpy as np\n",
        "from scipy.spatial.distance import cdist"
      ]
    },
    {
      "cell_type": "markdown",
      "id": "8ac0d615",
      "metadata": {
        "id": "8ac0d615"
      },
      "source": [
        "Cargamos los datos:"
      ]
    },
    {
      "cell_type": "code",
      "execution_count": 3,
      "id": "a1bb0302",
      "metadata": {
        "id": "a1bb0302",
        "outputId": "56f58d94-b879-4069-9296-e8a0e446dc56",
        "colab": {
          "base_uri": "https://localhost:8080/",
          "height": 204
        }
      },
      "outputs": [
        {
          "output_type": "execute_result",
          "data": {
            "text/plain": [
              "   MedInc  HouseAge  AveRooms  AveBedrms  Population  AveOccup  Latitude  \\\n",
              "0  7.2574      52.0  8.288136   1.073446       496.0  2.802260     37.85   \n",
              "1  5.6431      52.0  5.817352   1.073059       558.0  2.547945     37.85   \n",
              "2  3.8462      52.0  6.281853   1.081081       565.0  2.181467     37.85   \n",
              "3  4.0368      52.0  4.761658   1.103627       413.0  2.139896     37.85   \n",
              "4  3.6591      52.0  4.931907   0.951362      1094.0  2.128405     37.84   \n",
              "\n",
              "   Longitude  target  \n",
              "0    -122.24   3.521  \n",
              "1    -122.25   3.413  \n",
              "2    -122.25   3.422  \n",
              "3    -122.25   2.697  \n",
              "4    -122.25   2.992  "
            ],
            "text/html": [
              "\n",
              "  <div id=\"df-0c0e983a-42f9-4226-b0d2-82fad45e9658\" class=\"colab-df-container\">\n",
              "    <div>\n",
              "<style scoped>\n",
              "    .dataframe tbody tr th:only-of-type {\n",
              "        vertical-align: middle;\n",
              "    }\n",
              "\n",
              "    .dataframe tbody tr th {\n",
              "        vertical-align: top;\n",
              "    }\n",
              "\n",
              "    .dataframe thead th {\n",
              "        text-align: right;\n",
              "    }\n",
              "</style>\n",
              "<table border=\"1\" class=\"dataframe\">\n",
              "  <thead>\n",
              "    <tr style=\"text-align: right;\">\n",
              "      <th></th>\n",
              "      <th>MedInc</th>\n",
              "      <th>HouseAge</th>\n",
              "      <th>AveRooms</th>\n",
              "      <th>AveBedrms</th>\n",
              "      <th>Population</th>\n",
              "      <th>AveOccup</th>\n",
              "      <th>Latitude</th>\n",
              "      <th>Longitude</th>\n",
              "      <th>target</th>\n",
              "    </tr>\n",
              "  </thead>\n",
              "  <tbody>\n",
              "    <tr>\n",
              "      <th>0</th>\n",
              "      <td>7.2574</td>\n",
              "      <td>52.0</td>\n",
              "      <td>8.288136</td>\n",
              "      <td>1.073446</td>\n",
              "      <td>496.0</td>\n",
              "      <td>2.802260</td>\n",
              "      <td>37.85</td>\n",
              "      <td>-122.24</td>\n",
              "      <td>3.521</td>\n",
              "    </tr>\n",
              "    <tr>\n",
              "      <th>1</th>\n",
              "      <td>5.6431</td>\n",
              "      <td>52.0</td>\n",
              "      <td>5.817352</td>\n",
              "      <td>1.073059</td>\n",
              "      <td>558.0</td>\n",
              "      <td>2.547945</td>\n",
              "      <td>37.85</td>\n",
              "      <td>-122.25</td>\n",
              "      <td>3.413</td>\n",
              "    </tr>\n",
              "    <tr>\n",
              "      <th>2</th>\n",
              "      <td>3.8462</td>\n",
              "      <td>52.0</td>\n",
              "      <td>6.281853</td>\n",
              "      <td>1.081081</td>\n",
              "      <td>565.0</td>\n",
              "      <td>2.181467</td>\n",
              "      <td>37.85</td>\n",
              "      <td>-122.25</td>\n",
              "      <td>3.422</td>\n",
              "    </tr>\n",
              "    <tr>\n",
              "      <th>3</th>\n",
              "      <td>4.0368</td>\n",
              "      <td>52.0</td>\n",
              "      <td>4.761658</td>\n",
              "      <td>1.103627</td>\n",
              "      <td>413.0</td>\n",
              "      <td>2.139896</td>\n",
              "      <td>37.85</td>\n",
              "      <td>-122.25</td>\n",
              "      <td>2.697</td>\n",
              "    </tr>\n",
              "    <tr>\n",
              "      <th>4</th>\n",
              "      <td>3.6591</td>\n",
              "      <td>52.0</td>\n",
              "      <td>4.931907</td>\n",
              "      <td>0.951362</td>\n",
              "      <td>1094.0</td>\n",
              "      <td>2.128405</td>\n",
              "      <td>37.84</td>\n",
              "      <td>-122.25</td>\n",
              "      <td>2.992</td>\n",
              "    </tr>\n",
              "  </tbody>\n",
              "</table>\n",
              "</div>\n",
              "    <div class=\"colab-df-buttons\">\n",
              "\n",
              "  <div class=\"colab-df-container\">\n",
              "    <button class=\"colab-df-convert\" onclick=\"convertToInteractive('df-0c0e983a-42f9-4226-b0d2-82fad45e9658')\"\n",
              "            title=\"Convert this dataframe to an interactive table.\"\n",
              "            style=\"display:none;\">\n",
              "\n",
              "  <svg xmlns=\"http://www.w3.org/2000/svg\" height=\"24px\" viewBox=\"0 -960 960 960\">\n",
              "    <path d=\"M120-120v-720h720v720H120Zm60-500h600v-160H180v160Zm220 220h160v-160H400v160Zm0 220h160v-160H400v160ZM180-400h160v-160H180v160Zm440 0h160v-160H620v160ZM180-180h160v-160H180v160Zm440 0h160v-160H620v160Z\"/>\n",
              "  </svg>\n",
              "    </button>\n",
              "\n",
              "  <style>\n",
              "    .colab-df-container {\n",
              "      display:flex;\n",
              "      gap: 12px;\n",
              "    }\n",
              "\n",
              "    .colab-df-convert {\n",
              "      background-color: #E8F0FE;\n",
              "      border: none;\n",
              "      border-radius: 50%;\n",
              "      cursor: pointer;\n",
              "      display: none;\n",
              "      fill: #1967D2;\n",
              "      height: 32px;\n",
              "      padding: 0 0 0 0;\n",
              "      width: 32px;\n",
              "    }\n",
              "\n",
              "    .colab-df-convert:hover {\n",
              "      background-color: #E2EBFA;\n",
              "      box-shadow: 0px 1px 2px rgba(60, 64, 67, 0.3), 0px 1px 3px 1px rgba(60, 64, 67, 0.15);\n",
              "      fill: #174EA6;\n",
              "    }\n",
              "\n",
              "    .colab-df-buttons div {\n",
              "      margin-bottom: 4px;\n",
              "    }\n",
              "\n",
              "    [theme=dark] .colab-df-convert {\n",
              "      background-color: #3B4455;\n",
              "      fill: #D2E3FC;\n",
              "    }\n",
              "\n",
              "    [theme=dark] .colab-df-convert:hover {\n",
              "      background-color: #434B5C;\n",
              "      box-shadow: 0px 1px 3px 1px rgba(0, 0, 0, 0.15);\n",
              "      filter: drop-shadow(0px 1px 2px rgba(0, 0, 0, 0.3));\n",
              "      fill: #FFFFFF;\n",
              "    }\n",
              "  </style>\n",
              "\n",
              "    <script>\n",
              "      const buttonEl =\n",
              "        document.querySelector('#df-0c0e983a-42f9-4226-b0d2-82fad45e9658 button.colab-df-convert');\n",
              "      buttonEl.style.display =\n",
              "        google.colab.kernel.accessAllowed ? 'block' : 'none';\n",
              "\n",
              "      async function convertToInteractive(key) {\n",
              "        const element = document.querySelector('#df-0c0e983a-42f9-4226-b0d2-82fad45e9658');\n",
              "        const dataTable =\n",
              "          await google.colab.kernel.invokeFunction('convertToInteractive',\n",
              "                                                    [key], {});\n",
              "        if (!dataTable) return;\n",
              "\n",
              "        const docLinkHtml = 'Like what you see? Visit the ' +\n",
              "          '<a target=\"_blank\" href=https://colab.research.google.com/notebooks/data_table.ipynb>data table notebook</a>'\n",
              "          + ' to learn more about interactive tables.';\n",
              "        element.innerHTML = '';\n",
              "        dataTable['output_type'] = 'display_data';\n",
              "        await google.colab.output.renderOutput(dataTable, element);\n",
              "        const docLink = document.createElement('div');\n",
              "        docLink.innerHTML = docLinkHtml;\n",
              "        element.appendChild(docLink);\n",
              "      }\n",
              "    </script>\n",
              "  </div>\n",
              "\n",
              "\n",
              "    <div id=\"df-5906cb7f-3e3a-4bb4-8dc3-e3b6b0b6a3ed\">\n",
              "      <button class=\"colab-df-quickchart\" onclick=\"quickchart('df-5906cb7f-3e3a-4bb4-8dc3-e3b6b0b6a3ed')\"\n",
              "                title=\"Suggest charts\"\n",
              "                style=\"display:none;\">\n",
              "\n",
              "<svg xmlns=\"http://www.w3.org/2000/svg\" height=\"24px\"viewBox=\"0 0 24 24\"\n",
              "     width=\"24px\">\n",
              "    <g>\n",
              "        <path d=\"M19 3H5c-1.1 0-2 .9-2 2v14c0 1.1.9 2 2 2h14c1.1 0 2-.9 2-2V5c0-1.1-.9-2-2-2zM9 17H7v-7h2v7zm4 0h-2V7h2v10zm4 0h-2v-4h2v4z\"/>\n",
              "    </g>\n",
              "</svg>\n",
              "      </button>\n",
              "\n",
              "<style>\n",
              "  .colab-df-quickchart {\n",
              "      --bg-color: #E8F0FE;\n",
              "      --fill-color: #1967D2;\n",
              "      --hover-bg-color: #E2EBFA;\n",
              "      --hover-fill-color: #174EA6;\n",
              "      --disabled-fill-color: #AAA;\n",
              "      --disabled-bg-color: #DDD;\n",
              "  }\n",
              "\n",
              "  [theme=dark] .colab-df-quickchart {\n",
              "      --bg-color: #3B4455;\n",
              "      --fill-color: #D2E3FC;\n",
              "      --hover-bg-color: #434B5C;\n",
              "      --hover-fill-color: #FFFFFF;\n",
              "      --disabled-bg-color: #3B4455;\n",
              "      --disabled-fill-color: #666;\n",
              "  }\n",
              "\n",
              "  .colab-df-quickchart {\n",
              "    background-color: var(--bg-color);\n",
              "    border: none;\n",
              "    border-radius: 50%;\n",
              "    cursor: pointer;\n",
              "    display: none;\n",
              "    fill: var(--fill-color);\n",
              "    height: 32px;\n",
              "    padding: 0;\n",
              "    width: 32px;\n",
              "  }\n",
              "\n",
              "  .colab-df-quickchart:hover {\n",
              "    background-color: var(--hover-bg-color);\n",
              "    box-shadow: 0 1px 2px rgba(60, 64, 67, 0.3), 0 1px 3px 1px rgba(60, 64, 67, 0.15);\n",
              "    fill: var(--button-hover-fill-color);\n",
              "  }\n",
              "\n",
              "  .colab-df-quickchart-complete:disabled,\n",
              "  .colab-df-quickchart-complete:disabled:hover {\n",
              "    background-color: var(--disabled-bg-color);\n",
              "    fill: var(--disabled-fill-color);\n",
              "    box-shadow: none;\n",
              "  }\n",
              "\n",
              "  .colab-df-spinner {\n",
              "    border: 2px solid var(--fill-color);\n",
              "    border-color: transparent;\n",
              "    border-bottom-color: var(--fill-color);\n",
              "    animation:\n",
              "      spin 1s steps(1) infinite;\n",
              "  }\n",
              "\n",
              "  @keyframes spin {\n",
              "    0% {\n",
              "      border-color: transparent;\n",
              "      border-bottom-color: var(--fill-color);\n",
              "      border-left-color: var(--fill-color);\n",
              "    }\n",
              "    20% {\n",
              "      border-color: transparent;\n",
              "      border-left-color: var(--fill-color);\n",
              "      border-top-color: var(--fill-color);\n",
              "    }\n",
              "    30% {\n",
              "      border-color: transparent;\n",
              "      border-left-color: var(--fill-color);\n",
              "      border-top-color: var(--fill-color);\n",
              "      border-right-color: var(--fill-color);\n",
              "    }\n",
              "    40% {\n",
              "      border-color: transparent;\n",
              "      border-right-color: var(--fill-color);\n",
              "      border-top-color: var(--fill-color);\n",
              "    }\n",
              "    60% {\n",
              "      border-color: transparent;\n",
              "      border-right-color: var(--fill-color);\n",
              "    }\n",
              "    80% {\n",
              "      border-color: transparent;\n",
              "      border-right-color: var(--fill-color);\n",
              "      border-bottom-color: var(--fill-color);\n",
              "    }\n",
              "    90% {\n",
              "      border-color: transparent;\n",
              "      border-bottom-color: var(--fill-color);\n",
              "    }\n",
              "  }\n",
              "</style>\n",
              "\n",
              "      <script>\n",
              "        async function quickchart(key) {\n",
              "          const quickchartButtonEl =\n",
              "            document.querySelector('#' + key + ' button');\n",
              "          quickchartButtonEl.disabled = true;  // To prevent multiple clicks.\n",
              "          quickchartButtonEl.classList.add('colab-df-spinner');\n",
              "          try {\n",
              "            const charts = await google.colab.kernel.invokeFunction(\n",
              "                'suggestCharts', [key], {});\n",
              "          } catch (error) {\n",
              "            console.error('Error during call to suggestCharts:', error);\n",
              "          }\n",
              "          quickchartButtonEl.classList.remove('colab-df-spinner');\n",
              "          quickchartButtonEl.classList.add('colab-df-quickchart-complete');\n",
              "        }\n",
              "        (() => {\n",
              "          let quickchartButtonEl =\n",
              "            document.querySelector('#df-5906cb7f-3e3a-4bb4-8dc3-e3b6b0b6a3ed button');\n",
              "          quickchartButtonEl.style.display =\n",
              "            google.colab.kernel.accessAllowed ? 'block' : 'none';\n",
              "        })();\n",
              "      </script>\n",
              "    </div>\n",
              "\n",
              "    </div>\n",
              "  </div>\n"
            ],
            "application/vnd.google.colaboratory.intrinsic+json": {
              "type": "dataframe",
              "variable_name": "df",
              "summary": "{\n  \"name\": \"df\",\n  \"rows\": 16393,\n  \"fields\": [\n    {\n      \"column\": \"MedInc\",\n      \"properties\": {\n        \"dtype\": \"number\",\n        \"std\": 1.4487997783572961,\n        \"min\": 0.536,\n        \"max\": 8.0113,\n        \"num_unique_values\": 10519,\n        \"samples\": [\n          3.4835,\n          1.8589,\n          2.6759\n        ],\n        \"semantic_type\": \"\",\n        \"description\": \"\"\n      }\n    },\n    {\n      \"column\": \"HouseAge\",\n      \"properties\": {\n        \"dtype\": \"number\",\n        \"std\": 12.204684179206172,\n        \"min\": 1.0,\n        \"max\": 52.0,\n        \"num_unique_values\": 52,\n        \"samples\": [\n          10.0,\n          5.0,\n          12.0\n        ],\n        \"semantic_type\": \"\",\n        \"description\": \"\"\n      }\n    },\n    {\n      \"column\": \"AveRooms\",\n      \"properties\": {\n        \"dtype\": \"number\",\n        \"std\": 1.0447539479184247,\n        \"min\": 2.0327380952380953,\n        \"max\": 8.452914798206278,\n        \"num_unique_values\": 15483,\n        \"samples\": [\n          4.5353625783348255,\n          4.343692870201097,\n          6.570539419087137\n        ],\n        \"semantic_type\": \"\",\n        \"description\": \"\"\n      }\n    },\n    {\n      \"column\": \"AveBedrms\",\n      \"properties\": {\n        \"dtype\": \"number\",\n        \"std\": 0.06653190253259017,\n        \"min\": 0.8660130718954249,\n        \"max\": 1.2395209580838322,\n        \"num_unique_values\": 11319,\n        \"samples\": [\n          1.0031152647975077,\n          1.1507177033492824,\n          1.0574324324324325\n        ],\n        \"semantic_type\": \"\",\n        \"description\": \"\"\n      }\n    },\n    {\n      \"column\": \"Population\",\n      \"properties\": {\n        \"dtype\": \"number\",\n        \"std\": 627.220655879347,\n        \"min\": 5.0,\n        \"max\": 3132.0,\n        \"num_unique_values\": 2816,\n        \"samples\": [\n          740.0,\n          2002.0,\n          1014.0\n        ],\n        \"semantic_type\": \"\",\n        \"description\": \"\"\n      }\n    },\n    {\n      \"column\": \"AveOccup\",\n      \"properties\": {\n        \"dtype\": \"number\",\n        \"std\": 0.6257431181852395,\n        \"min\": 1.1612903225806452,\n        \"max\": 4.5607476635514015,\n        \"num_unique_values\": 15167,\n        \"samples\": [\n          2.875409836065574,\n          2.8686868686868685,\n          2.723112128146453\n        ],\n        \"semantic_type\": \"\",\n        \"description\": \"\"\n      }\n    },\n    {\n      \"column\": \"Latitude\",\n      \"properties\": {\n        \"dtype\": \"number\",\n        \"std\": 2.1395588163110886,\n        \"min\": 32.54,\n        \"max\": 41.95,\n        \"num_unique_values\": 819,\n        \"samples\": [\n          39.44,\n          34.18,\n          39.94\n        ],\n        \"semantic_type\": \"\",\n        \"description\": \"\"\n      }\n    },\n    {\n      \"column\": \"Longitude\",\n      \"properties\": {\n        \"dtype\": \"number\",\n        \"std\": 1.9954303319082691,\n        \"min\": -124.35,\n        \"max\": -114.57,\n        \"num_unique_values\": 753,\n        \"samples\": [\n          -122.82,\n          -116.41,\n          -122.83\n        ],\n        \"semantic_type\": \"\",\n        \"description\": \"\"\n      }\n    },\n    {\n      \"column\": \"target\",\n      \"properties\": {\n        \"dtype\": \"number\",\n        \"std\": 0.9648671160165302,\n        \"min\": 0.14999,\n        \"max\": 5.0,\n        \"num_unique_values\": 3682,\n        \"samples\": [\n          4.056,\n          1.562,\n          4.411\n        ],\n        \"semantic_type\": \"\",\n        \"description\": \"\"\n      }\n    }\n  ]\n}"
            }
          },
          "metadata": {},
          "execution_count": 3
        }
      ],
      "source": [
        "df = pd.read_feather('cdiae/data/03_model_input/california_housing_clean.ftr')\n",
        "df.head()"
      ]
    },
    {
      "cell_type": "markdown",
      "id": "079cd80d",
      "metadata": {
        "id": "079cd80d"
      },
      "source": [
        "Creamos una matriz de coordenadas (lat, lon):"
      ]
    },
    {
      "cell_type": "code",
      "execution_count": 4,
      "id": "5381bb95",
      "metadata": {
        "id": "5381bb95"
      },
      "outputs": [],
      "source": [
        "coords = df[['Latitude', 'Longitude']].to_numpy()"
      ]
    },
    {
      "cell_type": "markdown",
      "id": "b7531d5f",
      "metadata": {
        "id": "b7531d5f",
        "outputId": "1c7cb596-f35f-43ef-d61e-5bd8d3d18e70"
      },
      "source": [
        "Calculamos la matriz de distancias en grados"
      ]
    },
    {
      "cell_type": "code",
      "execution_count": 5,
      "id": "f48c1657",
      "metadata": {
        "id": "f48c1657",
        "outputId": "459bb614-6324-4e00-f80b-e1117a96f457",
        "colab": {
          "base_uri": "https://localhost:8080/"
        }
      },
      "outputs": [
        {
          "output_type": "execute_result",
          "data": {
            "text/plain": [
              "array([[0.        , 0.01      , 0.01      , ..., 1.88063819, 1.82833257,\n",
              "        1.81945047],\n",
              "       [0.01      , 0.        , 0.        , ..., 1.88608059, 1.83338485,\n",
              "        1.82496575],\n",
              "       [0.01      , 0.        , 0.        , ..., 1.88608059, 1.83338485,\n",
              "        1.82496575],\n",
              "       ...,\n",
              "       [1.88063819, 1.88608059, 1.88608059, ..., 0.        , 0.1       ,\n",
              "        0.06324555],\n",
              "       [1.82833257, 1.83338485, 1.83338485, ..., 0.1       , 0.        ,\n",
              "        0.1       ],\n",
              "       [1.81945047, 1.82496575, 1.82496575, ..., 0.06324555, 0.1       ,\n",
              "        0.        ]])"
            ]
          },
          "metadata": {},
          "execution_count": 5
        }
      ],
      "source": [
        "distancias = cdist(coords, coords, metric='euclidean')\n",
        "distancias"
      ]
    },
    {
      "cell_type": "markdown",
      "id": "b4133c09",
      "metadata": {
        "id": "b4133c09",
        "outputId": "a1451d0e-96f8-45f9-e6a8-9b97005718ba"
      },
      "source": [
        "Sumamos las viviendas de todos los distritos a menos de 500 metros"
      ]
    },
    {
      "cell_type": "code",
      "execution_count": 6,
      "id": "d37c6257",
      "metadata": {
        "id": "d37c6257",
        "outputId": "5baabbaf-4390-4dfe-b515-538cce0fec78",
        "colab": {
          "base_uri": "https://localhost:8080/"
        }
      },
      "outputs": [
        {
          "output_type": "execute_result",
          "data": {
            "text/plain": [
              "array([[ True, False, False, ..., False, False, False],\n",
              "       [False,  True,  True, ..., False, False, False],\n",
              "       [False,  True,  True, ..., False, False, False],\n",
              "       ...,\n",
              "       [False, False, False, ...,  True, False, False],\n",
              "       [False, False, False, ..., False,  True, False],\n",
              "       [False, False, False, ..., False, False,  True]])"
            ]
          },
          "metadata": {},
          "execution_count": 6
        }
      ],
      "source": [
        "matrix_cumulos_500m = distancias < 500 / 100000  # Aproximación de 500 metros a 0.005 grados\n",
        "matrix_cumulos_500m"
      ]
    },
    {
      "cell_type": "code",
      "execution_count": 7,
      "id": "s6MDz5hH9NCQ",
      "metadata": {
        "colab": {
          "base_uri": "https://localhost:8080/"
        },
        "id": "s6MDz5hH9NCQ",
        "outputId": "a947900b-37a7-4be0-883e-f8df5bdd5852"
      },
      "outputs": [
        {
          "output_type": "execute_result",
          "data": {
            "text/plain": [
              "array([[3.521, 0.   , 0.   , ..., 0.   , 0.   , 0.   ],\n",
              "       [0.   , 3.413, 3.422, ..., 0.   , 0.   , 0.   ],\n",
              "       [0.   , 3.413, 3.422, ..., 0.   , 0.   , 0.   ],\n",
              "       ...,\n",
              "       [0.   , 0.   , 0.   , ..., 0.923, 0.   , 0.   ],\n",
              "       [0.   , 0.   , 0.   , ..., 0.   , 0.847, 0.   ],\n",
              "       [0.   , 0.   , 0.   , ..., 0.   , 0.   , 0.894]])"
            ]
          },
          "metadata": {},
          "execution_count": 7
        }
      ],
      "source": [
        "matrix_capitales = matrix_cumulos_500m * df['target'].values[np.newaxis, :]\n",
        "matrix_capitales"
      ]
    },
    {
      "cell_type": "code",
      "execution_count": 8,
      "id": "owXrS5uBAXjh",
      "metadata": {
        "id": "owXrS5uBAXjh"
      },
      "outputs": [],
      "source": [
        "capital_concentrado = matrix_capitales.sum(axis=1)"
      ]
    },
    {
      "cell_type": "markdown",
      "id": "f9e17fe8",
      "metadata": {
        "id": "f9e17fe8"
      },
      "source": [
        "Encontramos el índice del punto con mayor concentración"
      ]
    },
    {
      "cell_type": "code",
      "execution_count": 9,
      "id": "4c80c7d5",
      "metadata": {
        "colab": {
          "base_uri": "https://localhost:8080/",
          "height": 362
        },
        "id": "4c80c7d5",
        "outputId": "4583e7db-1f1e-4203-9493-a76fc3481f05"
      },
      "outputs": [
        {
          "output_type": "execute_result",
          "data": {
            "text/plain": [
              "MedInc           2.856900\n",
              "HouseAge        52.000000\n",
              "AveRooms         4.703316\n",
              "AveBedrms        1.146597\n",
              "Population    1243.000000\n",
              "AveOccup         2.169284\n",
              "Latitude        37.780000\n",
              "Longitude     -122.440000\n",
              "target           3.722000\n",
              "Name: 12334, dtype: float64"
            ],
            "text/html": [
              "<div>\n",
              "<style scoped>\n",
              "    .dataframe tbody tr th:only-of-type {\n",
              "        vertical-align: middle;\n",
              "    }\n",
              "\n",
              "    .dataframe tbody tr th {\n",
              "        vertical-align: top;\n",
              "    }\n",
              "\n",
              "    .dataframe thead th {\n",
              "        text-align: right;\n",
              "    }\n",
              "</style>\n",
              "<table border=\"1\" class=\"dataframe\">\n",
              "  <thead>\n",
              "    <tr style=\"text-align: right;\">\n",
              "      <th></th>\n",
              "      <th>12334</th>\n",
              "    </tr>\n",
              "  </thead>\n",
              "  <tbody>\n",
              "    <tr>\n",
              "      <th>MedInc</th>\n",
              "      <td>2.856900</td>\n",
              "    </tr>\n",
              "    <tr>\n",
              "      <th>HouseAge</th>\n",
              "      <td>52.000000</td>\n",
              "    </tr>\n",
              "    <tr>\n",
              "      <th>AveRooms</th>\n",
              "      <td>4.703316</td>\n",
              "    </tr>\n",
              "    <tr>\n",
              "      <th>AveBedrms</th>\n",
              "      <td>1.146597</td>\n",
              "    </tr>\n",
              "    <tr>\n",
              "      <th>Population</th>\n",
              "      <td>1243.000000</td>\n",
              "    </tr>\n",
              "    <tr>\n",
              "      <th>AveOccup</th>\n",
              "      <td>2.169284</td>\n",
              "    </tr>\n",
              "    <tr>\n",
              "      <th>Latitude</th>\n",
              "      <td>37.780000</td>\n",
              "    </tr>\n",
              "    <tr>\n",
              "      <th>Longitude</th>\n",
              "      <td>-122.440000</td>\n",
              "    </tr>\n",
              "    <tr>\n",
              "      <th>target</th>\n",
              "      <td>3.722000</td>\n",
              "    </tr>\n",
              "  </tbody>\n",
              "</table>\n",
              "</div><br><label><b>dtype:</b> float64</label>"
            ]
          },
          "metadata": {},
          "execution_count": 9
        }
      ],
      "source": [
        "indice_max = np.argmax(capital_concentrado)\n",
        "punto_central = df.iloc[indice_max]\n",
        "punto_central"
      ]
    },
    {
      "cell_type": "markdown",
      "id": "CHtLqWtn_HSS",
      "metadata": {
        "id": "CHtLqWtn_HSS"
      },
      "source": [
        "Coordenadas del punto más denso en contador de viviendas"
      ]
    },
    {
      "cell_type": "code",
      "execution_count": 10,
      "id": "69715f13",
      "metadata": {
        "colab": {
          "base_uri": "https://localhost:8080/"
        },
        "id": "69715f13",
        "outputId": "7f9ed9d9-1820-4c23-80a0-1dd419c31f25"
      },
      "outputs": [
        {
          "output_type": "stream",
          "name": "stdout",
          "text": [
            "Latitud: 37.78, Longitud: -122.44\n",
            "Capital total radio 500 m: $39\n",
            "Número de viviendas del cúmulo: 11\n"
          ]
        }
      ],
      "source": [
        "print(f'Latitud: {punto_central['Latitude']}, Longitud: {punto_central['Longitude']}')\n",
        "print(f'Capital total radio 500 m: ${capital_concentrado[indice_max]:,.0f}')\n",
        "print(f'Número de viviendas del cúmulo: {matrix_cumulos_500m[indice_max].sum()}')"
      ]
    }
  ],
  "metadata": {
    "colab": {
      "provenance": [],
      "include_colab_link": true
    },
    "kernelspec": {
      "display_name": "env",
      "language": "python",
      "name": "python3"
    },
    "language_info": {
      "codemirror_mode": {
        "name": "ipython",
        "version": 3
      },
      "file_extension": ".py",
      "mimetype": "text/x-python",
      "name": "python",
      "nbconvert_exporter": "python",
      "pygments_lexer": "ipython3",
      "version": "3.12.3"
    }
  },
  "nbformat": 4,
  "nbformat_minor": 5
}