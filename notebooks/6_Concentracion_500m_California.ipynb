{
  "cells": [
    {
      "cell_type": "markdown",
      "metadata": {
        "id": "view-in-github",
        "colab_type": "text"
      },
      "source": [
        "<a href=\"https://colab.research.google.com/github/franciscogarate/cdiae/blob/main/notebooks/6_Concentracion_500m_California.ipynb\" target=\"_parent\"><img src=\"https://colab.research.google.com/assets/colab-badge.svg\" alt=\"Open In Colab\"/></a>"
      ]
    },
    {
      "cell_type": "markdown",
      "id": "e52cdf6b",
      "metadata": {
        "id": "e52cdf6b"
      },
      "source": [
        "# Cálculo del punto central con la mayor concentración geográfica"
      ]
    },
    {
      "cell_type": "code",
      "source": [
        "!git clone https://github.com/franciscogarate/cdiae"
      ],
      "metadata": {
        "id": "PbrT1NqBm9h_"
      },
      "id": "PbrT1NqBm9h_",
      "execution_count": null,
      "outputs": []
    },
    {
      "cell_type": "code",
      "execution_count": null,
      "id": "4d112a3b",
      "metadata": {
        "id": "4d112a3b"
      },
      "outputs": [],
      "source": [
        "import pandas as pd\n",
        "import numpy as np\n",
        "from scipy.spatial.distance import cdist"
      ]
    },
    {
      "cell_type": "markdown",
      "id": "8ac0d615",
      "metadata": {
        "id": "8ac0d615"
      },
      "source": [
        "Cargamos los datos:"
      ]
    },
    {
      "cell_type": "code",
      "execution_count": null,
      "id": "a1bb0302",
      "metadata": {
        "id": "a1bb0302"
      },
      "outputs": [],
      "source": [
        "df = pd.read_feather('cdiae/data/03_model_input/california_housing_clean.ftr')\n",
        "df.head()"
      ]
    },
    {
      "cell_type": "markdown",
      "id": "079cd80d",
      "metadata": {
        "id": "079cd80d"
      },
      "source": [
        "Creamos una matriz de coordenadas (lat, lon):"
      ]
    },
    {
      "cell_type": "code",
      "execution_count": null,
      "id": "5381bb95",
      "metadata": {
        "id": "5381bb95"
      },
      "outputs": [],
      "source": [
        "coords = df[['Latitude', 'Longitude']].to_numpy()"
      ]
    },
    {
      "cell_type": "markdown",
      "id": "b7531d5f",
      "metadata": {
        "id": "b7531d5f",
        "outputId": "1c7cb596-f35f-43ef-d61e-5bd8d3d18e70"
      },
      "source": [
        "Calculamos la matriz de distancias en grados"
      ]
    },
    {
      "cell_type": "code",
      "execution_count": null,
      "id": "f48c1657",
      "metadata": {
        "id": "f48c1657"
      },
      "outputs": [],
      "source": [
        "distancias = cdist(coords, coords, metric='euclidean')\n",
        "distancias"
      ]
    },
    {
      "cell_type": "markdown",
      "id": "b4133c09",
      "metadata": {
        "id": "b4133c09",
        "outputId": "a1451d0e-96f8-45f9-e6a8-9b97005718ba"
      },
      "source": [
        "Sumamos las viviendas de todos los distritos a menos de 500 metros"
      ]
    },
    {
      "cell_type": "code",
      "execution_count": null,
      "id": "d37c6257",
      "metadata": {
        "id": "d37c6257"
      },
      "outputs": [],
      "source": [
        "matrix_cumulos_500m = distancias < 500 / 100000  # Aproximación de 500 metros a 0.005 grados\n",
        "matrix_cumulos_500m"
      ]
    },
    {
      "cell_type": "code",
      "execution_count": null,
      "id": "s6MDz5hH9NCQ",
      "metadata": {
        "id": "s6MDz5hH9NCQ"
      },
      "outputs": [],
      "source": [
        "matrix_capitales = matrix_cumulos_500m * df['target'].values[np.newaxis, :]\n",
        "matrix_capitales"
      ]
    },
    {
      "cell_type": "code",
      "execution_count": null,
      "id": "owXrS5uBAXjh",
      "metadata": {
        "id": "owXrS5uBAXjh"
      },
      "outputs": [],
      "source": [
        "capital_concentrado = matrix_capitales.sum(axis=1)"
      ]
    },
    {
      "cell_type": "markdown",
      "id": "f9e17fe8",
      "metadata": {
        "id": "f9e17fe8"
      },
      "source": [
        "Encontramos el índice del punto con mayor concentración"
      ]
    },
    {
      "cell_type": "code",
      "execution_count": null,
      "id": "4c80c7d5",
      "metadata": {
        "id": "4c80c7d5"
      },
      "outputs": [],
      "source": [
        "indice_max = np.argmax(capital_concentrado)\n",
        "punto_central = df.iloc[indice_max]\n",
        "punto_central"
      ]
    },
    {
      "cell_type": "markdown",
      "id": "CHtLqWtn_HSS",
      "metadata": {
        "id": "CHtLqWtn_HSS"
      },
      "source": [
        "Coordenadas del punto más denso en contador de viviendas"
      ]
    },
    {
      "cell_type": "code",
      "execution_count": null,
      "id": "69715f13",
      "metadata": {
        "id": "69715f13"
      },
      "outputs": [],
      "source": [
        "print(f'Latitud: {punto_central['Latitude']}, Longitud: {punto_central['Longitude']}')\n",
        "print(f'Capital total radio 500 m: ${capital_concentrado[indice_max]:,.0f}')\n",
        "print(f'Número de viviendas del cúmulo: {matrix_cumulos_500m[indice_max].sum()}')"
      ]
    }
  ],
  "metadata": {
    "colab": {
      "provenance": [],
      "include_colab_link": true
    },
    "kernelspec": {
      "display_name": "env",
      "language": "python",
      "name": "python3"
    },
    "language_info": {
      "codemirror_mode": {
        "name": "ipython",
        "version": 3
      },
      "file_extension": ".py",
      "mimetype": "text/x-python",
      "name": "python",
      "nbconvert_exporter": "python",
      "pygments_lexer": "ipython3",
      "version": "3.12.3"
    }
  },
  "nbformat": 4,
  "nbformat_minor": 5
}