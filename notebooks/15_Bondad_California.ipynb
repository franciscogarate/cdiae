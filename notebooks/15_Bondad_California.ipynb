{
  "cells": [
    {
      "cell_type": "markdown",
      "metadata": {
        "id": "view-in-github",
        "colab_type": "text"
      },
      "source": [
        "<a href=\"https://colab.research.google.com/github/franciscogarate/cdiae/blob/main/notebooks/15_Bondad_California.ipynb\" target=\"_parent\"><img src=\"https://colab.research.google.com/assets/colab-badge.svg\" alt=\"Open In Colab\"/></a>"
      ]
    },
    {
      "cell_type": "markdown",
      "id": "528bcd65",
      "metadata": {
        "id": "528bcd65"
      },
      "source": [
        "# Modelos de ajuste a una distribución\n",
        "En este ejercicio\n",
        "- Realizaremos el histograma y ajuste a una distribución exponencial.\n",
        "- Calcularemos la bondad del ajuste basado en el test de Kolmogorov-Smirnov\n",
        "- Realizaremos la gráfica QQ-Plot frente a una distribución exponencial."
      ]
    },
    {
      "cell_type": "code",
      "execution_count": null,
      "id": "37f3ffbe",
      "metadata": {
        "id": "37f3ffbe"
      },
      "outputs": [],
      "source": [
        "import pandas as pd\n",
        "import matplotlib.pyplot as plt\n",
        "import scipy.stats as st\n",
        "import numpy as np"
      ]
    },
    {
      "cell_type": "markdown",
      "id": "4080f09c",
      "metadata": {
        "id": "4080f09c"
      },
      "source": [
        "Importamos la base de datos de precios de casas de California"
      ]
    },
    {
      "cell_type": "code",
      "source": [
        "!git clone https://github.com/franciscogarate/cdiae"
      ],
      "metadata": {
        "id": "7zEYPCUVnV2Y"
      },
      "id": "7zEYPCUVnV2Y",
      "execution_count": null,
      "outputs": []
    },
    {
      "cell_type": "code",
      "execution_count": null,
      "id": "b0c100ff",
      "metadata": {
        "id": "b0c100ff"
      },
      "outputs": [],
      "source": [
        "df = pd.read_feather('cdiae/data/03_model_input/california_housing_clean.ftr')\n",
        "datos = df.AveRooms.copy()"
      ]
    },
    {
      "cell_type": "markdown",
      "id": "2c86b934",
      "metadata": {
        "id": "2c86b934"
      },
      "source": [
        "Ajustamos una distribución lognormal a los datos"
      ]
    },
    {
      "cell_type": "code",
      "execution_count": null,
      "id": "14374664",
      "metadata": {
        "id": "14374664"
      },
      "outputs": [],
      "source": [
        "shape, loc, scale = st.lognorm.fit(datos)\n",
        "lognormal = st.lognorm(shape, loc=loc, scale=scale)"
      ]
    },
    {
      "cell_type": "markdown",
      "id": "2aeb758f",
      "metadata": {
        "id": "2aeb758f"
      },
      "source": [
        "Mostramos el histograma con el ajuste lognormal superpuesto"
      ]
    },
    {
      "cell_type": "code",
      "execution_count": null,
      "id": "f10b2181",
      "metadata": {
        "id": "f10b2181"
      },
      "outputs": [],
      "source": [
        "plt.hist(datos, bins=50, density=True, alpha=0.75)\n",
        "x = np.linspace(datos.min(), datos.max(), 50)\n",
        "y = st.lognorm.pdf(x, shape, loc=loc, scale=scale)\n",
        "plt.plot(x, y)\n",
        "plt.show()"
      ]
    },
    {
      "cell_type": "markdown",
      "id": "fa8ad0f7",
      "metadata": {
        "id": "fa8ad0f7"
      },
      "source": [
        "Comprobamos la bondad del ajuste con el test de Kolmogorov-Smirnov"
      ]
    },
    {
      "cell_type": "code",
      "execution_count": null,
      "id": "981c8786",
      "metadata": {
        "id": "981c8786"
      },
      "outputs": [],
      "source": [
        "kstest = st.kstest(datos, cdf='lognorm', args=(shape, loc, scale))\n",
        "print(kstest)"
      ]
    },
    {
      "cell_type": "markdown",
      "id": "896c59d7",
      "metadata": {
        "id": "896c59d7"
      },
      "source": [
        "Generamos el gráfico QQ-Plot para comparar los cuantiles observados y teóricos."
      ]
    },
    {
      "cell_type": "code",
      "execution_count": null,
      "id": "18a05d38",
      "metadata": {
        "id": "18a05d38"
      },
      "outputs": [],
      "source": [
        "st.probplot(datos, dist=st.lognorm, sparams=(shape, loc, scale), plot=plt)\n",
        "plt.show()"
      ]
    },
    {
      "cell_type": "markdown",
      "id": "08aa3060",
      "metadata": {
        "id": "08aa3060"
      },
      "source": [
        "Si bien observamos que el ajuste en los percentiles centrales es bueno, vemos que en los extremos la distribución lognormal no ajusta tan bien a los datos. En este caso, la conclusión es que los datos **se ajustan razonablemente bien**, no obstante se podría seguir buscando una distribución con mayor ajuste.\n"
      ]
    }
  ],
  "metadata": {
    "kernelspec": {
      "display_name": "env",
      "language": "python",
      "name": "python3"
    },
    "language_info": {
      "codemirror_mode": {
        "name": "ipython",
        "version": 3
      },
      "file_extension": ".py",
      "mimetype": "text/x-python",
      "name": "python",
      "nbconvert_exporter": "python",
      "pygments_lexer": "ipython3",
      "version": "3.12.3"
    },
    "colab": {
      "provenance": [],
      "include_colab_link": true
    }
  },
  "nbformat": 4,
  "nbformat_minor": 5
}