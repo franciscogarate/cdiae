{
  "cells": [
    {
      "cell_type": "markdown",
      "metadata": {
        "id": "view-in-github",
        "colab_type": "text"
      },
      "source": [
        "<a href=\"https://colab.research.google.com/github/franciscogarate/cdiae/blob/main/notebooks/4_limpieza_outliers_California.ipynb\" target=\"_parent\"><img src=\"https://colab.research.google.com/assets/colab-badge.svg\" alt=\"Open In Colab\"/></a>"
      ]
    },
    {
      "cell_type": "markdown",
      "id": "c87d8b23",
      "metadata": {
        "id": "c87d8b23"
      },
      "source": [
        "# Limpieza de *outliers* o valores atípicos\n",
        "\n",
        "La limpieza de *outliers* o valores atípicos es un proceso importante en el análisis de datos. Los *outliers* son valores que se desvían significativamente de los valores esperados o normales. Estos valores pueden ser el resultado de errores de medición, errores de transcripción, o simplemente valores que no son representativos de la población.\n",
        "\n",
        "Aunque se pierdan registros, es importante eliminar dichos *outliers* para obtener resultados más precisos.\n",
        "\n",
        "Muchas veces, el verdadero éxito de una estimación con modelos predictivos o *machine learning* es la tarea previa de limpieza de valores atípicos."
      ]
    },
    {
      "cell_type": "code",
      "source": [
        "!git clone https://github.com/franciscogarate/cdiae"
      ],
      "metadata": {
        "id": "CzmdQl0nmCJu"
      },
      "id": "CzmdQl0nmCJu",
      "execution_count": null,
      "outputs": []
    },
    {
      "cell_type": "code",
      "execution_count": null,
      "id": "1758d4d0",
      "metadata": {
        "id": "1758d4d0"
      },
      "outputs": [],
      "source": [
        "import pandas as pd\n",
        "import numpy as np\n",
        "import matplotlib.pyplot as plt\n",
        "import seaborn as sns\n",
        "from sklearn.datasets import fetch_california_housing\n",
        "from scipy import stats"
      ]
    },
    {
      "cell_type": "markdown",
      "id": "a5125a20",
      "metadata": {
        "id": "a5125a20"
      },
      "source": [
        "Aprovechamos que la propia librería scikit-learn dispone de datasets para su uso sin necesidad de importar ficheros. A tal efecto, cargamos el dataset de California Housing desde scikit-learn:"
      ]
    },
    {
      "cell_type": "code",
      "execution_count": null,
      "id": "dde6ceef",
      "metadata": {
        "id": "dde6ceef"
      },
      "outputs": [],
      "source": [
        "housing = fetch_california_housing()\n",
        "df = pd.DataFrame(housing.data, columns=housing.feature_names)\n",
        "df['target'] = housing.target                                           # Añadir variable objetivo (precio medio de la vivienda)\n",
        "df.head()"
      ]
    },
    {
      "cell_type": "markdown",
      "id": "34e3b4a4",
      "metadata": {
        "id": "34e3b4a4"
      },
      "source": [
        "Para conocer lo que representa cada columna, mostramos la descripción textual del dataset"
      ]
    },
    {
      "cell_type": "code",
      "execution_count": null,
      "id": "447f6e93",
      "metadata": {
        "id": "447f6e93"
      },
      "outputs": [],
      "source": [
        "print(housing.DESCR)"
      ]
    },
    {
      "cell_type": "code",
      "execution_count": null,
      "id": "03c352ba",
      "metadata": {
        "id": "03c352ba"
      },
      "outputs": [],
      "source": [
        "df.info()"
      ]
    },
    {
      "cell_type": "markdown",
      "id": "e6fbf187",
      "metadata": {
        "id": "e6fbf187"
      },
      "source": [
        "Estadísticas descriptivas iniciales: Realizamos un análisis exploratorio inicial con las principales estadísticas descriptivas, fijandonos especialmente en los valores máximos (por ejemplo, viviendas con 34 dormitorios cuando la la media es de 1.09 dormitorios por vivienda)"
      ]
    },
    {
      "cell_type": "code",
      "execution_count": null,
      "id": "3a7b3aed",
      "metadata": {
        "lines_to_next_cell": 1,
        "id": "3a7b3aed"
      },
      "outputs": [],
      "source": [
        "df.describe()"
      ]
    },
    {
      "cell_type": "markdown",
      "id": "c434fe86",
      "metadata": {
        "id": "c434fe86"
      },
      "source": [
        "Creamos una función para visualizar outliers columna a columna con boxplots (librería matplotlib)"
      ]
    },
    {
      "cell_type": "code",
      "execution_count": null,
      "id": "003841b8",
      "metadata": {
        "lines_to_next_cell": 1,
        "id": "003841b8"
      },
      "outputs": [],
      "source": [
        "def plot_outliers(df, title=\"\"):\n",
        "    fig, axes = plt.subplots(3, 3, figsize=(12, 9))    # Crear rejilla 3x3 de subgráficos\n",
        "    fig.suptitle(title, fontsize=16)\n",
        "\n",
        "    columns = df.columns\n",
        "    for i, col in enumerate(columns):\n",
        "        row = i // 3            # Calcular posición en la rejilla\n",
        "        col_idx = i % 3\n",
        "        axes[row, col_idx].boxplot(df[col])\n",
        "        axes[row, col_idx].set_title(col)\n",
        "        axes[row, col_idx].tick_params(axis='x', rotation=45)\n",
        "\n",
        "    plt.tight_layout()\n",
        "    plt.show()"
      ]
    },
    {
      "cell_type": "markdown",
      "id": "23102f34",
      "metadata": {
        "id": "23102f34"
      },
      "source": [
        "Visualizamos con la función anterior los outliers iniciales (antes de limpiar)"
      ]
    },
    {
      "cell_type": "code",
      "execution_count": null,
      "id": "3de3e0d2",
      "metadata": {
        "lines_to_next_cell": 1,
        "id": "3de3e0d2"
      },
      "outputs": [],
      "source": [
        "plot_outliers(df, 'Outliers antes de la Limpieza')"
      ]
    },
    {
      "cell_type": "markdown",
      "id": "9699f403",
      "metadata": {
        "id": "9699f403"
      },
      "source": [
        "Definimos las funciones de limpieza:\n",
        "- `detectar_outliers_iqr`: Detecta outliers usando el método `IQR` (rangos intercuartílicos)\n",
        "- `detectar_outliers_zscore`: Detecta outliers usando `Z-score` (máscara por umbrales)"
      ]
    },
    {
      "cell_type": "code",
      "execution_count": null,
      "id": "98cb612d",
      "metadata": {
        "lines_to_next_cell": 1,
        "id": "98cb612d"
      },
      "outputs": [],
      "source": [
        "def detectar_outliers_iqr(series, multiplier=1.5):\n",
        "    # Cuartiles y rango intercuartílico\n",
        "    Q1 = series.quantile(0.25)\n",
        "    Q3 = series.quantile(0.75)\n",
        "    IQR = Q3 - Q1\n",
        "    # Límites inferior y superior\n",
        "    limite_inf = Q1 - multiplier * IQR\n",
        "    limite_sup = Q3 + multiplier * IQR\n",
        "    # Máscara booleana de outliers\n",
        "    return (series < limite_inf) | (series > limite_sup)"
      ]
    },
    {
      "cell_type": "code",
      "execution_count": null,
      "id": "e3b21526",
      "metadata": {
        "lines_to_next_cell": 1,
        "id": "e3b21526"
      },
      "outputs": [],
      "source": [
        "def detectar_outliers_zscore(series, umbral=3):\n",
        "    # Cálculo de z-scores absolutos y máscara por umbral\n",
        "    z_scores = np.abs(stats.zscore(series))\n",
        "    return z_scores > umbral"
      ]
    },
    {
      "cell_type": "markdown",
      "id": "a8111226",
      "metadata": {
        "id": "a8111226"
      },
      "source": [
        "### Limpieza específica basada en lógica de negocio\n",
        "\n",
        "Copiamos del DataFrame para limpiar sin alterar el original"
      ]
    },
    {
      "cell_type": "code",
      "execution_count": null,
      "id": "21acf217",
      "metadata": {
        "id": "21acf217"
      },
      "outputs": [],
      "source": [
        "df_cleaned = df.copy()\n",
        "initial_rows = len(df_cleaned)"
      ]
    },
    {
      "cell_type": "markdown",
      "id": "c36a7ffe",
      "metadata": {
        "id": "c36a7ffe"
      },
      "source": [
        "Regla: definimos precios medios > $500k como outliers"
      ]
    },
    {
      "cell_type": "code",
      "execution_count": null,
      "id": "fdc46469",
      "metadata": {
        "id": "fdc46469"
      },
      "outputs": [],
      "source": [
        "outliers_target = df_cleaned['target'] > 5\n",
        "print(f\"Casas con precio > $500k: {outliers_target.sum()} registros\")"
      ]
    },
    {
      "cell_type": "markdown",
      "id": "aa30b178",
      "metadata": {
        "id": "aa30b178"
      },
      "source": [
        "Regla: promedio de habitaciones irreal (mayor que 30)"
      ]
    },
    {
      "cell_type": "code",
      "execution_count": null,
      "id": "33d18489",
      "metadata": {
        "id": "33d18489"
      },
      "outputs": [],
      "source": [
        "outliers_rooms = df_cleaned['AveRooms'] > 30\n",
        "print(f\"Casas con >100 habitaciones promedio: {outliers_rooms.sum()} registros\")"
      ]
    },
    {
      "cell_type": "markdown",
      "id": "cda5d6ec",
      "metadata": {
        "id": "cda5d6ec"
      },
      "source": [
        "Regla: promedio de dormitorios irreal (mayor que 10)"
      ]
    },
    {
      "cell_type": "code",
      "execution_count": null,
      "id": "d5de5254",
      "metadata": {
        "id": "d5de5254"
      },
      "outputs": [],
      "source": [
        "outliers_bedrms = df_cleaned['AveBedrms'] > 10\n",
        "print(f\"Casas con >10 dormitorios promedio: {outliers_bedrms.sum()} registros\")"
      ]
    },
    {
      "cell_type": "markdown",
      "id": "7f1e6437",
      "metadata": {
        "id": "7f1e6437"
      },
      "source": [
        "Regla: ocupación media muy alta > 50"
      ]
    },
    {
      "cell_type": "code",
      "execution_count": null,
      "id": "4a1cbd6a",
      "metadata": {
        "id": "4a1cbd6a"
      },
      "outputs": [],
      "source": [
        "outliers_occup = df_cleaned['AveOccup'] > 50\n",
        "print(f\"Bloques con ocupación >50 personas/casa: {outliers_occup.sum()} registros\")"
      ]
    },
    {
      "cell_type": "markdown",
      "id": "90f433f2",
      "metadata": {
        "id": "90f433f2"
      },
      "source": [
        "Regla: población extremadamente alta por bloque (Population >7.500)"
      ]
    },
    {
      "cell_type": "code",
      "execution_count": null,
      "id": "f306c39b",
      "metadata": {
        "id": "f306c39b"
      },
      "outputs": [],
      "source": [
        "outliers_pop = df_cleaned['Population'] > 7500\n",
        "print(f\"Bloques con población > 7.500: {outliers_pop.sum()} registros\")"
      ]
    },
    {
      "cell_type": "markdown",
      "id": "501e6bb9",
      "metadata": {
        "id": "501e6bb9"
      },
      "source": [
        "Regla: edad de la vivienda negativa o >100 años (HouseAge negativa o > 100 años)"
      ]
    },
    {
      "cell_type": "code",
      "execution_count": null,
      "id": "37163ae6",
      "metadata": {
        "id": "37163ae6"
      },
      "outputs": [],
      "source": [
        "outliers_age = (df_cleaned['HouseAge'] < 0) | (df_cleaned['HouseAge'] > 100)\n",
        "print(f\"Casas con edad <0 o >100 años: {outliers_age.sum()} registros\")"
      ]
    },
    {
      "cell_type": "markdown",
      "id": "d631d300",
      "metadata": {
        "lines_to_next_cell": 0,
        "id": "d631d300"
      },
      "source": [
        "### Combinación de máscaras de outliers por reglas de negocio"
      ]
    },
    {
      "cell_type": "code",
      "execution_count": null,
      "id": "6804cf19",
      "metadata": {
        "id": "6804cf19"
      },
      "outputs": [],
      "source": [
        "# Combinar todos los outliers lógicos\n",
        "logical_outliers = (outliers_target | outliers_rooms | outliers_bedrms |\n",
        "                   outliers_occup | outliers_pop | outliers_age)"
      ]
    },
    {
      "cell_type": "code",
      "execution_count": null,
      "id": "ba6b3c35",
      "metadata": {
        "id": "ba6b3c35"
      },
      "outputs": [],
      "source": [
        "# Conteo de outliers por lógica de negocio\n",
        "print(f\"\\nTotal de outliers por lógica de negocio: {logical_outliers.sum()}\")"
      ]
    },
    {
      "cell_type": "markdown",
      "id": "d6793998",
      "metadata": {
        "id": "d6793998"
      },
      "source": [
        "### Limpieza adicional con IQR"
      ]
    },
    {
      "cell_type": "code",
      "execution_count": null,
      "id": "1a138c40",
      "metadata": {
        "id": "1a138c40"
      },
      "outputs": [],
      "source": [
        "# DataFrame auxiliar para marcar outliers por IQR\n",
        "# Detectar outliers estadísticos en variables numéricas clave\n",
        "iqr_outliers = pd.DataFrame(index=df_cleaned.index)"
      ]
    },
    {
      "cell_type": "code",
      "execution_count": null,
      "id": "0054e981",
      "metadata": {
        "id": "0054e981"
      },
      "outputs": [],
      "source": [
        "# Marcar outliers por IQR para cada variable clave\n",
        "for col in ['MedInc', 'HouseAge', 'AveRooms', 'AveBedrms', 'Population', 'AveOccup']:\n",
        "    iqr_outliers[col] = detectar_outliers_iqr(df_cleaned[col])\n",
        "    print(f\"- {col}: {iqr_outliers[col].sum()} outliers detectados\")"
      ]
    },
    {
      "cell_type": "markdown",
      "id": "3d2688b0",
      "metadata": {
        "id": "3d2688b0"
      },
      "source": [
        "Marcar registros con >= x variables extremas"
      ]
    },
    {
      "cell_type": "code",
      "execution_count": null,
      "id": "77548829",
      "metadata": {
        "id": "77548829"
      },
      "outputs": [],
      "source": [
        "# Considerar outlier si es extremo en múltiples variables\n",
        "for i in range(4):\n",
        "    multiple_outliers = (iqr_outliers.sum(axis=1) >= i)\n",
        "    print(f'Registros con outliers en mas de {i} variables: {multiple_outliers.sum()}')"
      ]
    },
    {
      "cell_type": "markdown",
      "id": "24760992",
      "metadata": {
        "id": "24760992"
      },
      "source": [
        "En nuestro caso, consideramos que con 2 o más variables atipicas es un outlier que debe eliminarse. Dependiendo de los datos que se eliminen, podríamos subir el umbral."
      ]
    },
    {
      "cell_type": "code",
      "execution_count": null,
      "id": "08842420",
      "metadata": {
        "id": "08842420"
      },
      "outputs": [],
      "source": [
        "multiple_outliers = (iqr_outliers.sum(axis=1) >= 1)\n",
        "multiple_outliers.sum()"
      ]
    },
    {
      "cell_type": "markdown",
      "id": "9f7ecfbf",
      "metadata": {
        "id": "9f7ecfbf"
      },
      "source": [
        "### Aplicamos la limpieza\n",
        "Unimos outliers lógicos y estadísticos y filtramos"
      ]
    },
    {
      "cell_type": "code",
      "execution_count": null,
      "id": "3c339d8d",
      "metadata": {
        "id": "3c339d8d"
      },
      "outputs": [],
      "source": [
        "all_outliers = logical_outliers | multiple_outliers\n",
        "df_cleaned = df_cleaned[~all_outliers].reset_index(drop=True)"
      ]
    },
    {
      "cell_type": "code",
      "execution_count": null,
      "id": "b34f2bca",
      "metadata": {
        "id": "b34f2bca"
      },
      "outputs": [],
      "source": [
        "print(f'df original: {len(df)} y df_cleaned {len(df_cleaned)}')"
      ]
    },
    {
      "cell_type": "code",
      "execution_count": null,
      "id": "4c837f9e",
      "metadata": {
        "id": "4c837f9e"
      },
      "outputs": [],
      "source": [
        "print(f'Registros eliminados: {initial_rows - len(df_cleaned)}')\n",
        "print(f'Porcentaje eliminado: {((initial_rows - len(df_cleaned)) / initial_rows * 100):.2f}%')\n",
        "print(f'Dimensiones finales: {df_cleaned.shape}')"
      ]
    },
    {
      "cell_type": "markdown",
      "id": "2fc9b97e",
      "metadata": {
        "id": "2fc9b97e"
      },
      "source": [
        "### Comparación de las estadísticas antes y después"
      ]
    },
    {
      "cell_type": "code",
      "execution_count": null,
      "id": "6acb0835",
      "metadata": {
        "id": "6acb0835"
      },
      "outputs": [],
      "source": [
        "# Estadísticas del dataset original (variables seleccionadas)\n",
        "df[['target', 'AveRooms', 'AveBedrms', 'AveOccup', 'Population']].describe()"
      ]
    },
    {
      "cell_type": "code",
      "execution_count": null,
      "id": "e740e9a8",
      "metadata": {
        "id": "e740e9a8"
      },
      "outputs": [],
      "source": [
        "# Estadísticas del dataset limpio (mismas variables)\n",
        "df_cleaned[['target', 'AveRooms', 'AveBedrms', 'AveOccup', 'Population']].describe()"
      ]
    },
    {
      "cell_type": "markdown",
      "id": "82e8d9a2",
      "metadata": {
        "id": "82e8d9a2"
      },
      "source": [
        "### Visualización de outliers después de limpiar"
      ]
    },
    {
      "cell_type": "code",
      "execution_count": null,
      "id": "bc0a9ebb",
      "metadata": {
        "id": "bc0a9ebb"
      },
      "outputs": [],
      "source": [
        "plot_outliers(df_cleaned, \"Outliers Después de la Limpieza\")"
      ]
    },
    {
      "cell_type": "markdown",
      "id": "e5378c6b",
      "metadata": {
        "id": "e5378c6b"
      },
      "source": [
        "### Analizamos las correlaciones"
      ]
    },
    {
      "cell_type": "code",
      "execution_count": null,
      "id": "8ddb6b55",
      "metadata": {
        "id": "8ddb6b55"
      },
      "outputs": [],
      "source": [
        "correlation_matrix = df.corr()\n",
        "plt.figure(figsize=(8, 6))\n",
        "sns.heatmap(correlation_matrix, annot=True, cmap='coolwarm', center=0,\n",
        "            square=True, linewidths=0.5)\n",
        "plt.title(\"Matriz de Correlaciones - Dataset original\")\n",
        "plt.tight_layout()\n",
        "plt.show()"
      ]
    },
    {
      "cell_type": "markdown",
      "id": "1d4aa643",
      "metadata": {
        "id": "1d4aa643"
      },
      "source": [
        "En la siguiente matriz de correlaciones, se observa como ciertas variables han cambiado su correlación. Por ejemplo, el número de habitaciones ha pasado de un 15% a un 26%, y el promedio de ocupantes por vivienda en el área ha pasado a correlacionar de un -2.4% a un -28%."
      ]
    },
    {
      "cell_type": "code",
      "execution_count": null,
      "id": "13e7d73f",
      "metadata": {
        "id": "13e7d73f"
      },
      "outputs": [],
      "source": [
        "correlation_matrix = df_cleaned.corr()\n",
        "plt.figure(figsize=(8, 6))\n",
        "sns.heatmap(correlation_matrix, annot=True, cmap='coolwarm', center=0,\n",
        "            square=True, linewidths=0.5)\n",
        "plt.title(\"Matriz de Correlaciones - Dataset Limpio\")\n",
        "plt.tight_layout()\n",
        "plt.show()"
      ]
    },
    {
      "cell_type": "markdown",
      "id": "6c606978",
      "metadata": {
        "id": "6c606978"
      },
      "source": [
        "Guardamos dataset limpio en formato Feather, para utilizar en próximos ejemplos:"
      ]
    },
    {
      "cell_type": "code",
      "execution_count": null,
      "id": "8c8393ef",
      "metadata": {
        "id": "8c8393ef"
      },
      "outputs": [],
      "source": [
        "df_cleaned.to_feather('cdiae/data/03_model_input/california_housing_clean.ftr')"
      ]
    }
  ],
  "metadata": {
    "jupytext": {
      "cell_metadata_filter": "-all",
      "main_language": "python",
      "notebook_metadata_filter": "-all"
    },
    "kernelspec": {
      "display_name": "env",
      "language": "python",
      "name": "python3"
    },
    "language_info": {
      "codemirror_mode": {
        "name": "ipython",
        "version": 3
      },
      "file_extension": ".py",
      "mimetype": "text/x-python",
      "name": "python",
      "nbconvert_exporter": "python",
      "pygments_lexer": "ipython3",
      "version": "3.12.3"
    },
    "colab": {
      "provenance": [],
      "include_colab_link": true
    }
  },
  "nbformat": 4,
  "nbformat_minor": 5
}