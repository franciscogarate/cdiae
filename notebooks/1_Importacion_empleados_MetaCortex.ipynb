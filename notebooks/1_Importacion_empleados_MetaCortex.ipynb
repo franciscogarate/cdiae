{
  "cells": [
    {
      "cell_type": "markdown",
      "id": "8faf17c6",
      "metadata": {
        "id": "8faf17c6"
      },
      "source": [
        "# Importación de datos desde fichero CSV"
      ]
    },
    {
      "cell_type": "code",
      "source": [
        "!git clone https://github.com/franciscogarate/cdiae"
      ],
      "metadata": {
        "id": "Wc7fbjfsSw7O"
      },
      "id": "Wc7fbjfsSw7O",
      "execution_count": null,
      "outputs": []
    },
    {
      "cell_type": "code",
      "execution_count": null,
      "id": "b91c9f56",
      "metadata": {
        "id": "b91c9f56"
      },
      "outputs": [],
      "source": [
        "import pandas as pd"
      ]
    },
    {
      "cell_type": "markdown",
      "id": "9849d8ed",
      "metadata": {
        "id": "9849d8ed"
      },
      "source": [
        "Cargamos y visualizamos los datos"
      ]
    },
    {
      "cell_type": "code",
      "execution_count": null,
      "id": "941ae589",
      "metadata": {
        "id": "941ae589"
      },
      "outputs": [],
      "source": [
        "file = 'cdiae/data/01_raw/empleados_metacortex.csv'\n",
        "df = pd.read_csv(file)\n",
        "df"
      ]
    },
    {
      "cell_type": "markdown",
      "id": "abe38440",
      "metadata": {
        "id": "abe38440"
      },
      "source": [
        "Especificamos separador y fila de encabezados"
      ]
    },
    {
      "cell_type": "code",
      "execution_count": null,
      "id": "841a31ce",
      "metadata": {
        "id": "841a31ce"
      },
      "outputs": [],
      "source": [
        "df = pd.read_csv(\n",
        "        file,\n",
        "        sep=';',                    # Separador de campos\n",
        "        header=3,                   # Fila 4 contiene los encabezados (0-indexed, salta comentarios)\n",
        "        encoding='utf-8'\n",
        ")\n",
        "df"
      ]
    },
    {
      "cell_type": "markdown",
      "id": "7aad6d22",
      "metadata": {
        "id": "7aad6d22"
      },
      "source": [
        "Añadimos parámetros para omitir el pie de archivo y los comentarios en líneas"
      ]
    },
    {
      "cell_type": "code",
      "execution_count": null,
      "id": "9d306234",
      "metadata": {
        "id": "9d306234"
      },
      "outputs": [],
      "source": [
        "df = pd.read_csv(\n",
        "        file,\n",
        "        sep=';',                    # Separador de campos\n",
        "        header=3,                   # Fila 4 contiene los encabezados (0-indexed, salta comentarios)\n",
        "        encoding='utf-8',\n",
        "        skipfooter=1,               # Omite la última 1 fila (comentarios finales)\n",
        "        engine='python',            # Necesario para skipfooter\n",
        "        comment='%'\n",
        ")\n",
        "df"
      ]
    },
    {
      "cell_type": "markdown",
      "id": "d0f78d25",
      "metadata": {
        "id": "d0f78d25"
      },
      "source": [
        "Seleccionamos ciertas columnas relevantes"
      ]
    },
    {
      "cell_type": "code",
      "execution_count": null,
      "id": "643bc9cc",
      "metadata": {
        "id": "643bc9cc"
      },
      "outputs": [],
      "source": [
        "df = pd.read_csv(\n",
        "        file,\n",
        "        sep=';',                    # Separador de campos\n",
        "        header=3,                   # Fila 4 contiene los encabezados (0-indexed, salta comentarios)\n",
        "        encoding='utf-8',\n",
        "        skipfooter=1,               # Omite la última 1 fila (comentarios finales)\n",
        "        engine='python',            # Necesario para skipfooter\n",
        "        comment='%',\n",
        "        usecols=['fecha_nacimiento','fecha_alta','nombre','nif','codigo_postal','genero','departamento','activo','horas_semanales','bonus']\n",
        ")\n",
        "df"
      ]
    },
    {
      "cell_type": "markdown",
      "id": "51d3cfd5",
      "metadata": {
        "id": "51d3cfd5"
      },
      "source": [
        "Procesamos las fechas durante la lectura y ajuste fino posterior"
      ]
    },
    {
      "cell_type": "code",
      "execution_count": null,
      "id": "5aa31789",
      "metadata": {
        "id": "5aa31789"
      },
      "outputs": [],
      "source": [
        "df = pd.read_csv(\n",
        "        file,\n",
        "        sep=';',                    # Separador de campos\n",
        "        header=3,                   # Fila 4 contiene los encabezados (0-indexed, salta comentarios)\n",
        "        encoding='utf-8',           # Codificación de caracteres\n",
        "        skipfooter=1,               # Omite la última 1 fila (comentarios finales)\n",
        "        engine='python',            # Necesario para skipfooter\n",
        "        comment='%',                # Líneas que empiecen con % son comentarios\n",
        "        usecols=['fecha_nacimiento','fecha_alta','nombre','nif','codigo_postal','genero','departamento','activo','horas_semanales','bonus'],\n",
        "        parse_dates=['fecha_nacimiento', 'fecha_alta'],  # Convierte automáticamente a datetime\n",
        "        date_format='%Y-%m-%d'      # OJO: Formato único para todas las columnas de fecha\n",
        ")\n",
        "df"
      ]
    },
    {
      "cell_type": "markdown",
      "id": "da8bdd67",
      "metadata": {
        "id": "da8bdd67"
      },
      "source": [
        "Ajustamos el formato de columna con formato distinto (fecha_alta)"
      ]
    },
    {
      "cell_type": "code",
      "execution_count": null,
      "id": "eaf6ccec",
      "metadata": {
        "id": "eaf6ccec"
      },
      "outputs": [],
      "source": [
        "df['fecha_alta'] = pd.to_datetime(df['fecha_alta'], format='%Y/%m/%d')\n",
        "df.head()"
      ]
    },
    {
      "cell_type": "markdown",
      "id": "7f8610ed",
      "metadata": {
        "id": "7f8610ed"
      },
      "source": [
        "Lectura con tratamiento explícito de valores nulos"
      ]
    },
    {
      "cell_type": "code",
      "execution_count": null,
      "id": "5946365c",
      "metadata": {
        "id": "5946365c"
      },
      "outputs": [],
      "source": [
        "df = pd.read_csv(\n",
        "        file,\n",
        "        sep=';',                    # Separador de campos\n",
        "        header=3,                   # Fila 4 contiene los encabezados (0-indexed, salta comentarios)\n",
        "        encoding='utf-8',           # Codificación de caracteres\n",
        "        skipfooter=1,               # Omite la última 1 fila (comentarios finales)\n",
        "        engine='python',            # Necesario para skipfooter\n",
        "        comment='%',                # Líneas que empiecen con % son comentarios\n",
        "        usecols=['fecha_nacimiento','fecha_alta','nombre','nif','codigo_postal','genero','departamento','activo','horas_semanales','bonus'],\n",
        "        parse_dates=['fecha_nacimiento', 'fecha_alta'],  # Convierte automáticamente a datetime\n",
        "        date_format='%Y-%m-%d',      # OJO: Formato único para todas las columnas de fecha\n",
        "        na_values=['', 'N/A', 'null', 'NULL'],  # Define representaciones de NA\n",
        "        keep_default_na=True,        # Mantiene NAs por defecto de pandas\n",
        ")\n",
        "df['fecha_alta'] = pd.to_datetime(df['fecha_alta'], format='%Y/%m/%d')\n",
        "df.head()"
      ]
    },
    {
      "cell_type": "markdown",
      "id": "079b9f41",
      "metadata": {
        "id": "079b9f41"
      },
      "source": [
        "### Ficheros comprimidos\n",
        "Pandas hace lectura directa desde cualquier archivo comprimido tales como zip, rar, tar.bz2, etc.. (lo descomprime automáticamente)"
      ]
    },
    {
      "cell_type": "code",
      "execution_count": null,
      "id": "b3ed089c",
      "metadata": {
        "id": "b3ed089c"
      },
      "outputs": [],
      "source": [
        "df = pd.read_csv(\n",
        "        'cdiae/data/01_raw/empleados_metacortex.zip',\n",
        "        sep=';',                    # Separador de campos\n",
        "        header=3,                   # Fila 4 contiene los encabezados (0-indexed, salta comentarios)\n",
        "        encoding='utf-8',           # Codificación de caracteres\n",
        "        skipfooter=1,               # Omite la última 1 fila (comentarios finales)\n",
        "        engine='python',            # Necesario para skipfooter\n",
        "        comment='%',                # Líneas que empiecen con % son comentarios\n",
        "        usecols=['fecha_nacimiento','fecha_alta','nombre','nif','codigo_postal','genero','departamento','activo','horas_semanales','bonus'],\n",
        "        parse_dates=['fecha_nacimiento', 'fecha_alta'],  # Convierte automáticamente a datetime\n",
        "        date_format='%Y-%m-%d',      # OJO: Formato único para todas las columnas de fecha\n",
        "        na_values=['', 'N/A', 'null', 'NULL'],\n",
        "        keep_default_na=True,\n",
        ")\n",
        "df['fecha_alta'] = pd.to_datetime(df['fecha_alta'], format='%Y/%m/%d')\n",
        "df.head()"
      ]
    },
    {
      "cell_type": "markdown",
      "id": "2049871b",
      "metadata": {
        "id": "2049871b"
      },
      "source": [
        "### Inspección inicial de datos\n",
        "Visualizar los tipos de datos y no-nulos por columna:"
      ]
    },
    {
      "cell_type": "code",
      "execution_count": null,
      "id": "79b4e653",
      "metadata": {
        "id": "79b4e653"
      },
      "outputs": [],
      "source": [
        "df.info()"
      ]
    },
    {
      "cell_type": "markdown",
      "id": "ca43555d",
      "metadata": {
        "id": "ca43555d"
      },
      "source": [
        "Tamaño del dataframe (filas, columnas):"
      ]
    },
    {
      "cell_type": "code",
      "execution_count": null,
      "id": "4bd4513f",
      "metadata": {
        "id": "4bd4513f"
      },
      "outputs": [],
      "source": [
        "df.shape"
      ]
    },
    {
      "cell_type": "markdown",
      "id": "822d80c7",
      "metadata": {
        "id": "822d80c7"
      },
      "source": [
        "Resumen estadístico de columnas numéricas:"
      ]
    },
    {
      "cell_type": "code",
      "execution_count": null,
      "id": "384ec305",
      "metadata": {
        "id": "384ec305"
      },
      "outputs": [],
      "source": [
        "df.describe()"
      ]
    },
    {
      "cell_type": "markdown",
      "id": "bca8443b",
      "metadata": {
        "id": "bca8443b"
      },
      "source": [
        "Resumen incluyendo variables no numéricas"
      ]
    },
    {
      "cell_type": "code",
      "execution_count": null,
      "id": "26943dcf",
      "metadata": {
        "id": "26943dcf"
      },
      "outputs": [],
      "source": [
        "df.describe(include='all')"
      ]
    },
    {
      "cell_type": "markdown",
      "id": "e80f118f",
      "metadata": {
        "id": "e80f118f"
      },
      "source": [
        "Conteo de valores únicos por categoría/columna"
      ]
    },
    {
      "cell_type": "code",
      "execution_count": null,
      "id": "d8f4c90f",
      "metadata": {
        "id": "d8f4c90f"
      },
      "outputs": [],
      "source": [
        "df.departamento.unique()"
      ]
    },
    {
      "cell_type": "code",
      "execution_count": null,
      "id": "ef442165",
      "metadata": {
        "id": "ef442165"
      },
      "outputs": [],
      "source": [
        "df.genero.unique()"
      ]
    },
    {
      "cell_type": "code",
      "execution_count": null,
      "id": "14bc7cf6",
      "metadata": {
        "id": "14bc7cf6"
      },
      "outputs": [],
      "source": [
        "df.genero.value_counts()"
      ]
    },
    {
      "cell_type": "markdown",
      "id": "c4fb1c25",
      "metadata": {
        "id": "c4fb1c25"
      },
      "source": [
        "Conteo de valores:"
      ]
    },
    {
      "cell_type": "code",
      "execution_count": null,
      "id": "1233278d",
      "metadata": {
        "id": "1233278d"
      },
      "outputs": [],
      "source": [
        "df['departamento'].value_counts()"
      ]
    },
    {
      "cell_type": "markdown",
      "id": "94bed536",
      "metadata": {
        "id": "94bed536"
      },
      "source": [
        "Exportación a CSV con opciones de formato y codificación"
      ]
    },
    {
      "cell_type": "code",
      "execution_count": null,
      "id": "441f4f98",
      "metadata": {
        "id": "441f4f98"
      },
      "outputs": [],
      "source": [
        "df.to_csv('cdiae/data/02_intermediate/empleados_metacortex.csv', index=False, sep='\\t', float_format='%.2f', encoding='utf-8',  escapechar='\\\\', date_format='%d/%m/%Y')"
      ]
    }
  ],
  "metadata": {
    "kernelspec": {
      "display_name": "paco",
      "language": "python",
      "name": "python3"
    },
    "language_info": {
      "codemirror_mode": {
        "name": "ipython",
        "version": 3
      },
      "file_extension": ".py",
      "mimetype": "text/x-python",
      "name": "python",
      "nbconvert_exporter": "python",
      "pygments_lexer": "ipython3",
      "version": "3.12.3"
    },
    "colab": {
      "provenance": []
    }
  },
  "nbformat": 4,
  "nbformat_minor": 5
}