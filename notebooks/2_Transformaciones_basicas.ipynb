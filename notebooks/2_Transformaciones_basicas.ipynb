{
 "cells": [
  {
   "cell_type": "markdown",
   "id": "e9226fdf",
   "metadata": {},
   "source": [
    "# Proceso completo de Extracción, Transformación y Carga\n",
    "Partimos del fichero con datos en bruto llamado **empleados_metacortex.csv**"
   ]
  },
  {
   "cell_type": "code",
   "execution_count": 31,
   "id": "9c9fafd1",
   "metadata": {},
   "outputs": [
    {
     "data": {
      "text/html": [
       "<div>\n",
       "<style scoped>\n",
       "    .dataframe tbody tr th:only-of-type {\n",
       "        vertical-align: middle;\n",
       "    }\n",
       "\n",
       "    .dataframe tbody tr th {\n",
       "        vertical-align: top;\n",
       "    }\n",
       "\n",
       "    .dataframe thead th {\n",
       "        text-align: right;\n",
       "    }\n",
       "</style>\n",
       "<table border=\"1\" class=\"dataframe\">\n",
       "  <thead>\n",
       "    <tr style=\"text-align: right;\">\n",
       "      <th></th>\n",
       "      <th>fecha_nacimiento</th>\n",
       "      <th>fecha_alta</th>\n",
       "      <th>nombre</th>\n",
       "      <th>sexo_biologico</th>\n",
       "      <th>codigo_postal</th>\n",
       "      <th>nif</th>\n",
       "      <th>genero</th>\n",
       "      <th>departamento</th>\n",
       "      <th>activo</th>\n",
       "      <th>horas_semanales</th>\n",
       "      <th>bonus</th>\n",
       "    </tr>\n",
       "  </thead>\n",
       "  <tbody>\n",
       "    <tr>\n",
       "      <th>0</th>\n",
       "      <td>1990-01-15</td>\n",
       "      <td>2020-01-15</td>\n",
       "      <td>Ana García</td>\n",
       "      <td>F</td>\n",
       "      <td>28013</td>\n",
       "      <td>88862218Q</td>\n",
       "      <td>Mujer</td>\n",
       "      <td>Actuarial</td>\n",
       "      <td>Sí</td>\n",
       "      <td>40</td>\n",
       "      <td>5000.0</td>\n",
       "    </tr>\n",
       "    <tr>\n",
       "      <th>1</th>\n",
       "      <td>1985-12-03</td>\n",
       "      <td>2019-12-03</td>\n",
       "      <td>Luis Rodríguez</td>\n",
       "      <td>NaN</td>\n",
       "      <td>41001</td>\n",
       "      <td>17905733A</td>\n",
       "      <td>Hombre</td>\n",
       "      <td>IT</td>\n",
       "      <td>Sí</td>\n",
       "      <td>35h</td>\n",
       "      <td>NaN</td>\n",
       "    </tr>\n",
       "    <tr>\n",
       "      <th>2</th>\n",
       "      <td>1979-09-19</td>\n",
       "      <td>2004-03-01</td>\n",
       "      <td>Fran Garcia</td>\n",
       "      <td>M</td>\n",
       "      <td>29015</td>\n",
       "      <td>NaN</td>\n",
       "      <td>M</td>\n",
       "      <td>Finanzas</td>\n",
       "      <td>Sí</td>\n",
       "      <td>40</td>\n",
       "      <td>NaN</td>\n",
       "    </tr>\n",
       "    <tr>\n",
       "      <th>3</th>\n",
       "      <td>1992-07-22</td>\n",
       "      <td>2021-07-22</td>\n",
       "      <td>María López</td>\n",
       "      <td>F</td>\n",
       "      <td>48004</td>\n",
       "      <td>52745245N</td>\n",
       "      <td>NaN</td>\n",
       "      <td>Finanzas</td>\n",
       "      <td>No</td>\n",
       "      <td>40h</td>\n",
       "      <td>3000.0</td>\n",
       "    </tr>\n",
       "    <tr>\n",
       "      <th>4</th>\n",
       "      <td>1988-04-10</td>\n",
       "      <td>2018-04-10</td>\n",
       "      <td>Carlos Martín</td>\n",
       "      <td>M</td>\n",
       "      <td>48001</td>\n",
       "      <td>82167366G</td>\n",
       "      <td>Mujer</td>\n",
       "      <td>Actuarial</td>\n",
       "      <td>Sí</td>\n",
       "      <td>45</td>\n",
       "      <td>NaN</td>\n",
       "    </tr>\n",
       "    <tr>\n",
       "      <th>5</th>\n",
       "      <td>1981-03-11</td>\n",
       "      <td>2018-04-10</td>\n",
       "      <td>Luis González</td>\n",
       "      <td>NaN</td>\n",
       "      <td>48007</td>\n",
       "      <td>1248870G</td>\n",
       "      <td>NaN</td>\n",
       "      <td>IT</td>\n",
       "      <td>Sí</td>\n",
       "      <td>45</td>\n",
       "      <td>6000.0</td>\n",
       "    </tr>\n",
       "    <tr>\n",
       "      <th>6</th>\n",
       "      <td>1995-11-08</td>\n",
       "      <td>2022-11-08</td>\n",
       "      <td>Elena Ruiz</td>\n",
       "      <td>F</td>\n",
       "      <td>15003</td>\n",
       "      <td>28859641T</td>\n",
       "      <td>Mujer</td>\n",
       "      <td>IT</td>\n",
       "      <td>Sí</td>\n",
       "      <td>38</td>\n",
       "      <td>5000.0</td>\n",
       "    </tr>\n",
       "    <tr>\n",
       "      <th>7</th>\n",
       "      <td>1995-11-08</td>\n",
       "      <td>2022-11-08</td>\n",
       "      <td>Elena Ruiz</td>\n",
       "      <td>F</td>\n",
       "      <td>15003</td>\n",
       "      <td>28859641T</td>\n",
       "      <td>Mujer</td>\n",
       "      <td>IT</td>\n",
       "      <td>Sí</td>\n",
       "      <td>35</td>\n",
       "      <td>7000.0</td>\n",
       "    </tr>\n",
       "    <tr>\n",
       "      <th>8</th>\n",
       "      <td>1986-05-08</td>\n",
       "      <td>1922-03-04</td>\n",
       "      <td>Gorka de Miguel</td>\n",
       "      <td>M</td>\n",
       "      <td>46001</td>\n",
       "      <td>11859641K</td>\n",
       "      <td>Hombre</td>\n",
       "      <td>Finanzas</td>\n",
       "      <td>Sí</td>\n",
       "      <td>35</td>\n",
       "      <td>NaN</td>\n",
       "    </tr>\n",
       "  </tbody>\n",
       "</table>\n",
       "</div>"
      ],
      "text/plain": [
       "  fecha_nacimiento fecha_alta           nombre sexo_biologico  codigo_postal  \\\n",
       "0       1990-01-15 2020-01-15       Ana García              F          28013   \n",
       "1       1985-12-03 2019-12-03   Luis Rodríguez            NaN          41001   \n",
       "2       1979-09-19 2004-03-01      Fran Garcia              M          29015   \n",
       "3       1992-07-22 2021-07-22      María López              F          48004   \n",
       "4       1988-04-10 2018-04-10    Carlos Martín              M          48001   \n",
       "5       1981-03-11 2018-04-10    Luis González            NaN          48007   \n",
       "6       1995-11-08 2022-11-08       Elena Ruiz              F          15003   \n",
       "7       1995-11-08 2022-11-08       Elena Ruiz              F          15003   \n",
       "8       1986-05-08 1922-03-04  Gorka de Miguel              M          46001   \n",
       "\n",
       "         nif  genero departamento activo horas_semanales   bonus  \n",
       "0  88862218Q   Mujer    Actuarial     Sí              40  5000.0  \n",
       "1  17905733A  Hombre           IT     Sí             35h     NaN  \n",
       "2        NaN       M     Finanzas     Sí              40     NaN  \n",
       "3  52745245N     NaN     Finanzas     No             40h  3000.0  \n",
       "4  82167366G   Mujer    Actuarial     Sí              45     NaN  \n",
       "5   1248870G     NaN           IT     Sí              45  6000.0  \n",
       "6  28859641T   Mujer           IT     Sí              38  5000.0  \n",
       "7  28859641T   Mujer           IT     Sí              35  7000.0  \n",
       "8  11859641K  Hombre     Finanzas     Sí              35     NaN  "
      ]
     },
     "execution_count": 31,
     "metadata": {},
     "output_type": "execute_result"
    }
   ],
   "source": [
    "import pandas as pd\n",
    "file = '../data/01_raw/empleados_metacortex.csv'\n",
    "df = pd.read_csv(\n",
    "        file,  \n",
    "        sep=';',                    # Separador de campos\n",
    "        header=3,                   # Fila 4 contiene los encabezados (0-indexed, salta comentarios)\n",
    "        encoding='utf-8',           # Codificación de caracteres\n",
    "        skipfooter=1,               # Omite la última 1 fila (comentarios finales)\n",
    "        engine='python',            # Necesario para skipfooter\n",
    "        comment='%',                # Líneas que empiecen con % son comentarios\n",
    "        usecols=['fecha_nacimiento','fecha_alta','nombre','sexo_biologico','nif','codigo_postal','genero','departamento','activo','horas_semanales','bonus'],\n",
    "        parse_dates=['fecha_nacimiento', 'fecha_alta'],  # Convierte automáticamente a datetime\n",
    "        date_format='%Y-%m-%d',      # OJO: Formato único para todas las columnas de fecha\n",
    "        na_values=['', 'N/A', 'null', 'NULL'],\n",
    "        keep_default_na=True,\n",
    ")\n",
    "df['fecha_alta'] = pd.to_datetime(df['fecha_alta'], format='%Y/%m/%d')\n",
    "df"
   ]
  },
  {
   "cell_type": "markdown",
   "id": "1ebb2072",
   "metadata": {},
   "source": [
    "### Cruce de datos con otros ficheros\n",
    "Partiendo de nuestros datos, vamos a complementarlos con información externa como los pagos efectuados que residen en un fichero de Excel externo.\n",
    "Para ello utilizaremos las siguientes funciones de pandas:\n",
    "  - `DataFrame.groupby`\n",
    "  - `DataFrame.reset_index`\n",
    "  - `pd.merge`"
   ]
  },
  {
   "cell_type": "markdown",
   "id": "a36f6aa1",
   "metadata": {},
   "source": [
    "Lectura del Excel con pagos de empleados:"
   ]
  },
  {
   "cell_type": "code",
   "execution_count": 32,
   "id": "e7d29c41",
   "metadata": {
    "lines_to_next_cell": 2
   },
   "outputs": [
    {
     "data": {
      "text/html": [
       "<div>\n",
       "<style scoped>\n",
       "    .dataframe tbody tr th:only-of-type {\n",
       "        vertical-align: middle;\n",
       "    }\n",
       "\n",
       "    .dataframe tbody tr th {\n",
       "        vertical-align: top;\n",
       "    }\n",
       "\n",
       "    .dataframe thead th {\n",
       "        text-align: right;\n",
       "    }\n",
       "</style>\n",
       "<table border=\"1\" class=\"dataframe\">\n",
       "  <thead>\n",
       "    <tr style=\"text-align: right;\">\n",
       "      <th></th>\n",
       "      <th>FECHA</th>\n",
       "      <th>NIF</th>\n",
       "      <th>IMPORTE</th>\n",
       "    </tr>\n",
       "  </thead>\n",
       "  <tbody>\n",
       "    <tr>\n",
       "      <th>0</th>\n",
       "      <td>2025-03-19</td>\n",
       "      <td>88862218Q</td>\n",
       "      <td>240</td>\n",
       "    </tr>\n",
       "    <tr>\n",
       "      <th>1</th>\n",
       "      <td>2025-03-20</td>\n",
       "      <td>17905733A</td>\n",
       "      <td>108</td>\n",
       "    </tr>\n",
       "    <tr>\n",
       "      <th>2</th>\n",
       "      <td>2025-03-21</td>\n",
       "      <td>52745245N</td>\n",
       "      <td>69</td>\n",
       "    </tr>\n",
       "    <tr>\n",
       "      <th>3</th>\n",
       "      <td>2025-03-22</td>\n",
       "      <td>82167366G</td>\n",
       "      <td>196</td>\n",
       "    </tr>\n",
       "    <tr>\n",
       "      <th>4</th>\n",
       "      <td>2025-03-23</td>\n",
       "      <td>28859641T</td>\n",
       "      <td>215</td>\n",
       "    </tr>\n",
       "  </tbody>\n",
       "</table>\n",
       "</div>"
      ],
      "text/plain": [
       "       FECHA        NIF  IMPORTE\n",
       "0 2025-03-19  88862218Q      240\n",
       "1 2025-03-20  17905733A      108\n",
       "2 2025-03-21  52745245N       69\n",
       "3 2025-03-22  82167366G      196\n",
       "4 2025-03-23  28859641T      215"
      ]
     },
     "execution_count": 32,
     "metadata": {},
     "output_type": "execute_result"
    }
   ],
   "source": [
    "df_pagos = pd.read_excel('../data/01_raw/pagos_empleados_metacortex.xlsx')\n",
    "df_pagos.head()"
   ]
  },
  {
   "cell_type": "markdown",
   "id": "67941272",
   "metadata": {},
   "source": [
    "Renombramos columnas para coincidir con el nombre de las columnas de 'df' antes del cruce"
   ]
  },
  {
   "cell_type": "code",
   "execution_count": 33,
   "id": "5bd4951a",
   "metadata": {},
   "outputs": [
    {
     "data": {
      "text/html": [
       "<div>\n",
       "<style scoped>\n",
       "    .dataframe tbody tr th:only-of-type {\n",
       "        vertical-align: middle;\n",
       "    }\n",
       "\n",
       "    .dataframe tbody tr th {\n",
       "        vertical-align: top;\n",
       "    }\n",
       "\n",
       "    .dataframe thead th {\n",
       "        text-align: right;\n",
       "    }\n",
       "</style>\n",
       "<table border=\"1\" class=\"dataframe\">\n",
       "  <thead>\n",
       "    <tr style=\"text-align: right;\">\n",
       "      <th></th>\n",
       "      <th>FECHA</th>\n",
       "      <th>nif</th>\n",
       "      <th>pago</th>\n",
       "    </tr>\n",
       "  </thead>\n",
       "  <tbody>\n",
       "    <tr>\n",
       "      <th>0</th>\n",
       "      <td>2025-03-19</td>\n",
       "      <td>88862218Q</td>\n",
       "      <td>240</td>\n",
       "    </tr>\n",
       "    <tr>\n",
       "      <th>1</th>\n",
       "      <td>2025-03-20</td>\n",
       "      <td>17905733A</td>\n",
       "      <td>108</td>\n",
       "    </tr>\n",
       "    <tr>\n",
       "      <th>2</th>\n",
       "      <td>2025-03-21</td>\n",
       "      <td>52745245N</td>\n",
       "      <td>69</td>\n",
       "    </tr>\n",
       "    <tr>\n",
       "      <th>3</th>\n",
       "      <td>2025-03-22</td>\n",
       "      <td>82167366G</td>\n",
       "      <td>196</td>\n",
       "    </tr>\n",
       "    <tr>\n",
       "      <th>4</th>\n",
       "      <td>2025-03-23</td>\n",
       "      <td>28859641T</td>\n",
       "      <td>215</td>\n",
       "    </tr>\n",
       "  </tbody>\n",
       "</table>\n",
       "</div>"
      ],
      "text/plain": [
       "       FECHA        nif  pago\n",
       "0 2025-03-19  88862218Q   240\n",
       "1 2025-03-20  17905733A   108\n",
       "2 2025-03-21  52745245N    69\n",
       "3 2025-03-22  82167366G   196\n",
       "4 2025-03-23  28859641T   215"
      ]
     },
     "execution_count": 33,
     "metadata": {},
     "output_type": "execute_result"
    }
   ],
   "source": [
    "df_pagos.rename(columns={'NIF': 'nif', 'IMPORTE': 'pago'}, inplace=True)\n",
    "df_pagos.head()"
   ]
  },
  {
   "cell_type": "markdown",
   "id": "ab0a44ad",
   "metadata": {},
   "source": [
    "Inspeccionamos los datos por su tipo, aquellos nulos y la memoria del DataFrame de pagos"
   ]
  },
  {
   "cell_type": "code",
   "execution_count": 34,
   "id": "904fc90d",
   "metadata": {},
   "outputs": [
    {
     "name": "stdout",
     "output_type": "stream",
     "text": [
      "<class 'pandas.core.frame.DataFrame'>\n",
      "RangeIndex: 25 entries, 0 to 24\n",
      "Data columns (total 3 columns):\n",
      " #   Column  Non-Null Count  Dtype         \n",
      "---  ------  --------------  -----         \n",
      " 0   FECHA   25 non-null     datetime64[ns]\n",
      " 1   nif     25 non-null     object        \n",
      " 2   pago    25 non-null     int64         \n",
      "dtypes: datetime64[ns](1), int64(1), object(1)\n",
      "memory usage: 732.0+ bytes\n"
     ]
    }
   ],
   "source": [
    "df_pagos.info()"
   ]
  },
  {
   "cell_type": "markdown",
   "id": "1bb425fc",
   "metadata": {},
   "source": [
    "Agregamos pagos por empleado (nif) sumando todos sus registros"
   ]
  },
  {
   "cell_type": "code",
   "execution_count": 35,
   "id": "412cb23b",
   "metadata": {},
   "outputs": [
    {
     "data": {
      "text/html": [
       "<div>\n",
       "<style scoped>\n",
       "    .dataframe tbody tr th:only-of-type {\n",
       "        vertical-align: middle;\n",
       "    }\n",
       "\n",
       "    .dataframe tbody tr th {\n",
       "        vertical-align: top;\n",
       "    }\n",
       "\n",
       "    .dataframe thead th {\n",
       "        text-align: right;\n",
       "    }\n",
       "</style>\n",
       "<table border=\"1\" class=\"dataframe\">\n",
       "  <thead>\n",
       "    <tr style=\"text-align: right;\">\n",
       "      <th></th>\n",
       "      <th>nif</th>\n",
       "      <th>pago</th>\n",
       "    </tr>\n",
       "  </thead>\n",
       "  <tbody>\n",
       "    <tr>\n",
       "      <th>0</th>\n",
       "      <td>17905733A</td>\n",
       "      <td>611</td>\n",
       "    </tr>\n",
       "    <tr>\n",
       "      <th>1</th>\n",
       "      <td>28859641T</td>\n",
       "      <td>938</td>\n",
       "    </tr>\n",
       "    <tr>\n",
       "      <th>2</th>\n",
       "      <td>52745245N</td>\n",
       "      <td>1074</td>\n",
       "    </tr>\n",
       "    <tr>\n",
       "      <th>3</th>\n",
       "      <td>82167366G</td>\n",
       "      <td>1010</td>\n",
       "    </tr>\n",
       "    <tr>\n",
       "      <th>4</th>\n",
       "      <td>88862218Q</td>\n",
       "      <td>733</td>\n",
       "    </tr>\n",
       "  </tbody>\n",
       "</table>\n",
       "</div>"
      ],
      "text/plain": [
       "         nif  pago\n",
       "0  17905733A   611\n",
       "1  28859641T   938\n",
       "2  52745245N  1074\n",
       "3  82167366G  1010\n",
       "4  88862218Q   733"
      ]
     },
     "execution_count": 35,
     "metadata": {},
     "output_type": "execute_result"
    }
   ],
   "source": [
    "df_pagos_agg = df_pagos.groupby('nif')['pago'].sum().reset_index()\n",
    "df_pagos_agg"
   ]
  },
  {
   "cell_type": "markdown",
   "id": "f669ced1",
   "metadata": {},
   "source": [
    "Hacemos un left join para añadir 'pago' al DataFrame principal"
   ]
  },
  {
   "cell_type": "code",
   "execution_count": 36,
   "id": "8234f981",
   "metadata": {},
   "outputs": [
    {
     "data": {
      "text/html": [
       "<div>\n",
       "<style scoped>\n",
       "    .dataframe tbody tr th:only-of-type {\n",
       "        vertical-align: middle;\n",
       "    }\n",
       "\n",
       "    .dataframe tbody tr th {\n",
       "        vertical-align: top;\n",
       "    }\n",
       "\n",
       "    .dataframe thead th {\n",
       "        text-align: right;\n",
       "    }\n",
       "</style>\n",
       "<table border=\"1\" class=\"dataframe\">\n",
       "  <thead>\n",
       "    <tr style=\"text-align: right;\">\n",
       "      <th></th>\n",
       "      <th>fecha_nacimiento</th>\n",
       "      <th>fecha_alta</th>\n",
       "      <th>nombre</th>\n",
       "      <th>sexo_biologico</th>\n",
       "      <th>codigo_postal</th>\n",
       "      <th>nif</th>\n",
       "      <th>genero</th>\n",
       "      <th>departamento</th>\n",
       "      <th>activo</th>\n",
       "      <th>horas_semanales</th>\n",
       "      <th>bonus</th>\n",
       "      <th>pago</th>\n",
       "    </tr>\n",
       "  </thead>\n",
       "  <tbody>\n",
       "    <tr>\n",
       "      <th>0</th>\n",
       "      <td>1990-01-15</td>\n",
       "      <td>2020-01-15</td>\n",
       "      <td>Ana García</td>\n",
       "      <td>F</td>\n",
       "      <td>28013</td>\n",
       "      <td>88862218Q</td>\n",
       "      <td>Mujer</td>\n",
       "      <td>Actuarial</td>\n",
       "      <td>Sí</td>\n",
       "      <td>40</td>\n",
       "      <td>5000.0</td>\n",
       "      <td>733.0</td>\n",
       "    </tr>\n",
       "    <tr>\n",
       "      <th>1</th>\n",
       "      <td>1985-12-03</td>\n",
       "      <td>2019-12-03</td>\n",
       "      <td>Luis Rodríguez</td>\n",
       "      <td>NaN</td>\n",
       "      <td>41001</td>\n",
       "      <td>17905733A</td>\n",
       "      <td>Hombre</td>\n",
       "      <td>IT</td>\n",
       "      <td>Sí</td>\n",
       "      <td>35h</td>\n",
       "      <td>NaN</td>\n",
       "      <td>611.0</td>\n",
       "    </tr>\n",
       "    <tr>\n",
       "      <th>2</th>\n",
       "      <td>1979-09-19</td>\n",
       "      <td>2004-03-01</td>\n",
       "      <td>Fran Garcia</td>\n",
       "      <td>M</td>\n",
       "      <td>29015</td>\n",
       "      <td>NaN</td>\n",
       "      <td>M</td>\n",
       "      <td>Finanzas</td>\n",
       "      <td>Sí</td>\n",
       "      <td>40</td>\n",
       "      <td>NaN</td>\n",
       "      <td>NaN</td>\n",
       "    </tr>\n",
       "    <tr>\n",
       "      <th>3</th>\n",
       "      <td>1992-07-22</td>\n",
       "      <td>2021-07-22</td>\n",
       "      <td>María López</td>\n",
       "      <td>F</td>\n",
       "      <td>48004</td>\n",
       "      <td>52745245N</td>\n",
       "      <td>NaN</td>\n",
       "      <td>Finanzas</td>\n",
       "      <td>No</td>\n",
       "      <td>40h</td>\n",
       "      <td>3000.0</td>\n",
       "      <td>1074.0</td>\n",
       "    </tr>\n",
       "    <tr>\n",
       "      <th>4</th>\n",
       "      <td>1988-04-10</td>\n",
       "      <td>2018-04-10</td>\n",
       "      <td>Carlos Martín</td>\n",
       "      <td>M</td>\n",
       "      <td>48001</td>\n",
       "      <td>82167366G</td>\n",
       "      <td>Mujer</td>\n",
       "      <td>Actuarial</td>\n",
       "      <td>Sí</td>\n",
       "      <td>45</td>\n",
       "      <td>NaN</td>\n",
       "      <td>1010.0</td>\n",
       "    </tr>\n",
       "    <tr>\n",
       "      <th>5</th>\n",
       "      <td>1981-03-11</td>\n",
       "      <td>2018-04-10</td>\n",
       "      <td>Luis González</td>\n",
       "      <td>NaN</td>\n",
       "      <td>48007</td>\n",
       "      <td>1248870G</td>\n",
       "      <td>NaN</td>\n",
       "      <td>IT</td>\n",
       "      <td>Sí</td>\n",
       "      <td>45</td>\n",
       "      <td>6000.0</td>\n",
       "      <td>NaN</td>\n",
       "    </tr>\n",
       "    <tr>\n",
       "      <th>6</th>\n",
       "      <td>1995-11-08</td>\n",
       "      <td>2022-11-08</td>\n",
       "      <td>Elena Ruiz</td>\n",
       "      <td>F</td>\n",
       "      <td>15003</td>\n",
       "      <td>28859641T</td>\n",
       "      <td>Mujer</td>\n",
       "      <td>IT</td>\n",
       "      <td>Sí</td>\n",
       "      <td>38</td>\n",
       "      <td>5000.0</td>\n",
       "      <td>938.0</td>\n",
       "    </tr>\n",
       "    <tr>\n",
       "      <th>7</th>\n",
       "      <td>1995-11-08</td>\n",
       "      <td>2022-11-08</td>\n",
       "      <td>Elena Ruiz</td>\n",
       "      <td>F</td>\n",
       "      <td>15003</td>\n",
       "      <td>28859641T</td>\n",
       "      <td>Mujer</td>\n",
       "      <td>IT</td>\n",
       "      <td>Sí</td>\n",
       "      <td>35</td>\n",
       "      <td>7000.0</td>\n",
       "      <td>938.0</td>\n",
       "    </tr>\n",
       "    <tr>\n",
       "      <th>8</th>\n",
       "      <td>1986-05-08</td>\n",
       "      <td>1922-03-04</td>\n",
       "      <td>Gorka de Miguel</td>\n",
       "      <td>M</td>\n",
       "      <td>46001</td>\n",
       "      <td>11859641K</td>\n",
       "      <td>Hombre</td>\n",
       "      <td>Finanzas</td>\n",
       "      <td>Sí</td>\n",
       "      <td>35</td>\n",
       "      <td>NaN</td>\n",
       "      <td>NaN</td>\n",
       "    </tr>\n",
       "  </tbody>\n",
       "</table>\n",
       "</div>"
      ],
      "text/plain": [
       "  fecha_nacimiento fecha_alta           nombre sexo_biologico  codigo_postal  \\\n",
       "0       1990-01-15 2020-01-15       Ana García              F          28013   \n",
       "1       1985-12-03 2019-12-03   Luis Rodríguez            NaN          41001   \n",
       "2       1979-09-19 2004-03-01      Fran Garcia              M          29015   \n",
       "3       1992-07-22 2021-07-22      María López              F          48004   \n",
       "4       1988-04-10 2018-04-10    Carlos Martín              M          48001   \n",
       "5       1981-03-11 2018-04-10    Luis González            NaN          48007   \n",
       "6       1995-11-08 2022-11-08       Elena Ruiz              F          15003   \n",
       "7       1995-11-08 2022-11-08       Elena Ruiz              F          15003   \n",
       "8       1986-05-08 1922-03-04  Gorka de Miguel              M          46001   \n",
       "\n",
       "         nif  genero departamento activo horas_semanales   bonus    pago  \n",
       "0  88862218Q   Mujer    Actuarial     Sí              40  5000.0   733.0  \n",
       "1  17905733A  Hombre           IT     Sí             35h     NaN   611.0  \n",
       "2        NaN       M     Finanzas     Sí              40     NaN     NaN  \n",
       "3  52745245N     NaN     Finanzas     No             40h  3000.0  1074.0  \n",
       "4  82167366G   Mujer    Actuarial     Sí              45     NaN  1010.0  \n",
       "5   1248870G     NaN           IT     Sí              45  6000.0     NaN  \n",
       "6  28859641T   Mujer           IT     Sí              38  5000.0   938.0  \n",
       "7  28859641T   Mujer           IT     Sí              35  7000.0   938.0  \n",
       "8  11859641K  Hombre     Finanzas     Sí              35     NaN     NaN  "
      ]
     },
     "execution_count": 36,
     "metadata": {},
     "output_type": "execute_result"
    }
   ],
   "source": [
    "df = pd.merge(df, df_pagos_agg, on=['nif'], how='left')\n",
    "df"
   ]
  },
  {
   "cell_type": "markdown",
   "id": "e370cc13",
   "metadata": {},
   "source": [
    "## Distintos procesos de transformación de datos\n",
    "### Map y replace\n",
    "Unas de las funciones que podemos utilizar para reemplazar y unificar los valores posibles son `map` y `replace`.\n",
    "Adicionalmente, para poder todos los valores que posee un campo podemos usar las funciones `unique` y `nunique`."
   ]
  },
  {
   "cell_type": "code",
   "execution_count": 37,
   "id": "89600363",
   "metadata": {},
   "outputs": [
    {
     "data": {
      "text/plain": [
       "array(['F', nan, 'M'], dtype=object)"
      ]
     },
     "execution_count": 37,
     "metadata": {},
     "output_type": "execute_result"
    }
   ],
   "source": [
    "df.sexo_biologico.unique()"
   ]
  },
  {
   "cell_type": "markdown",
   "id": "743c4db6",
   "metadata": {},
   "source": [
    "Valores únicos de la columna 'genero' antes del mapeo"
   ]
  },
  {
   "cell_type": "code",
   "execution_count": 38,
   "id": "2c655c30",
   "metadata": {},
   "outputs": [
    {
     "data": {
      "text/plain": [
       "array(['Mujer', 'Hombre', 'M', nan], dtype=object)"
      ]
     },
     "execution_count": 38,
     "metadata": {},
     "output_type": "execute_result"
    }
   ],
   "source": [
    "df.genero.unique()"
   ]
  },
  {
   "cell_type": "markdown",
   "id": "59631636",
   "metadata": {},
   "source": [
    "Homogeneizamos etiquetas: 'Mujer'->'F' y 'Hombre'->'M'"
   ]
  },
  {
   "cell_type": "code",
   "execution_count": 39,
   "id": "f85a3a4f",
   "metadata": {},
   "outputs": [
    {
     "data": {
      "text/plain": [
       "array(['F', 'M', nan], dtype=object)"
      ]
     },
     "execution_count": 39,
     "metadata": {},
     "output_type": "execute_result"
    }
   ],
   "source": [
    "df['genero'] = df['genero'].map({'Mujer':'F', 'Hombre':'M'})\n",
    "df.genero.unique()                                                  # Valores únicos tras el mapeo"
   ]
  },
  {
   "cell_type": "code",
   "execution_count": 40,
   "id": "97937f29",
   "metadata": {},
   "outputs": [
    {
     "data": {
      "text/plain": [
       "array(['Sí', 'No'], dtype=object)"
      ]
     },
     "execution_count": 40,
     "metadata": {},
     "output_type": "execute_result"
    }
   ],
   "source": [
    "df.activo.unique()                                                  # Valores únicos actuales de 'activo'"
   ]
  },
  {
   "cell_type": "markdown",
   "id": "2cd7d822",
   "metadata": {},
   "source": [
    "### Reemplazar con un condicional"
   ]
  },
  {
   "cell_type": "markdown",
   "id": "54bcd3d7",
   "metadata": {},
   "source": [
    "Ejemplo de conversión con apply (mantener comentado si no se necesita)"
   ]
  },
  {
   "cell_type": "code",
   "execution_count": 41,
   "id": "cc104cc2",
   "metadata": {},
   "outputs": [
    {
     "data": {
      "text/html": [
       "<div>\n",
       "<style scoped>\n",
       "    .dataframe tbody tr th:only-of-type {\n",
       "        vertical-align: middle;\n",
       "    }\n",
       "\n",
       "    .dataframe tbody tr th {\n",
       "        vertical-align: top;\n",
       "    }\n",
       "\n",
       "    .dataframe thead th {\n",
       "        text-align: right;\n",
       "    }\n",
       "</style>\n",
       "<table border=\"1\" class=\"dataframe\">\n",
       "  <thead>\n",
       "    <tr style=\"text-align: right;\">\n",
       "      <th></th>\n",
       "      <th>fecha_nacimiento</th>\n",
       "      <th>fecha_alta</th>\n",
       "      <th>nombre</th>\n",
       "      <th>sexo_biologico</th>\n",
       "      <th>codigo_postal</th>\n",
       "      <th>nif</th>\n",
       "      <th>genero</th>\n",
       "      <th>departamento</th>\n",
       "      <th>activo</th>\n",
       "      <th>horas_semanales</th>\n",
       "      <th>bonus</th>\n",
       "      <th>pago</th>\n",
       "    </tr>\n",
       "  </thead>\n",
       "  <tbody>\n",
       "    <tr>\n",
       "      <th>7</th>\n",
       "      <td>1995-11-08</td>\n",
       "      <td>2022-11-08</td>\n",
       "      <td>Elena Ruiz</td>\n",
       "      <td>F</td>\n",
       "      <td>15003</td>\n",
       "      <td>28859641T</td>\n",
       "      <td>F</td>\n",
       "      <td>IT</td>\n",
       "      <td>True</td>\n",
       "      <td>35</td>\n",
       "      <td>7000.0</td>\n",
       "      <td>938.0</td>\n",
       "    </tr>\n",
       "    <tr>\n",
       "      <th>8</th>\n",
       "      <td>1986-05-08</td>\n",
       "      <td>1922-03-04</td>\n",
       "      <td>Gorka de Miguel</td>\n",
       "      <td>M</td>\n",
       "      <td>46001</td>\n",
       "      <td>11859641K</td>\n",
       "      <td>M</td>\n",
       "      <td>Finanzas</td>\n",
       "      <td>True</td>\n",
       "      <td>35</td>\n",
       "      <td>NaN</td>\n",
       "      <td>NaN</td>\n",
       "    </tr>\n",
       "  </tbody>\n",
       "</table>\n",
       "</div>"
      ],
      "text/plain": [
       "  fecha_nacimiento fecha_alta           nombre sexo_biologico  codigo_postal  \\\n",
       "7       1995-11-08 2022-11-08       Elena Ruiz              F          15003   \n",
       "8       1986-05-08 1922-03-04  Gorka de Miguel              M          46001   \n",
       "\n",
       "         nif genero departamento  activo horas_semanales   bonus   pago  \n",
       "7  28859641T      F           IT    True              35  7000.0  938.0  \n",
       "8  11859641K      M     Finanzas    True              35     NaN    NaN  "
      ]
     },
     "execution_count": 41,
     "metadata": {},
     "output_type": "execute_result"
    }
   ],
   "source": [
    "df['activo'] = df.apply(lambda x: True if x.activo == 'Sí' else False, axis=1)\n",
    "# Vista rápida de las últimas filas\n",
    "df.tail(2)"
   ]
  },
  {
   "cell_type": "markdown",
   "id": "697db731",
   "metadata": {},
   "source": [
    "Resumen de tipos de datos y memoria tras las transformaciones:"
   ]
  },
  {
   "cell_type": "code",
   "execution_count": 42,
   "id": "90e879be",
   "metadata": {},
   "outputs": [
    {
     "name": "stdout",
     "output_type": "stream",
     "text": [
      "<class 'pandas.core.frame.DataFrame'>\n",
      "RangeIndex: 9 entries, 0 to 8\n",
      "Data columns (total 12 columns):\n",
      " #   Column            Non-Null Count  Dtype         \n",
      "---  ------            --------------  -----         \n",
      " 0   fecha_nacimiento  9 non-null      datetime64[ns]\n",
      " 1   fecha_alta        9 non-null      datetime64[ns]\n",
      " 2   nombre            9 non-null      object        \n",
      " 3   sexo_biologico    7 non-null      object        \n",
      " 4   codigo_postal     9 non-null      int64         \n",
      " 5   nif               8 non-null      object        \n",
      " 6   genero            6 non-null      object        \n",
      " 7   departamento      9 non-null      object        \n",
      " 8   activo            9 non-null      bool          \n",
      " 9   horas_semanales   9 non-null      object        \n",
      " 10  bonus             5 non-null      float64       \n",
      " 11  pago              6 non-null      float64       \n",
      "dtypes: bool(1), datetime64[ns](2), float64(2), int64(1), object(6)\n",
      "memory usage: 933.0+ bytes\n"
     ]
    }
   ],
   "source": [
    "df.info()"
   ]
  },
  {
   "cell_type": "markdown",
   "id": "2644e16d",
   "metadata": {},
   "source": [
    "## Guardado de datos\n",
    "- El último paso del proceso de ETL es la carga o guardado (loading). Para ello, no vamos a utilizar el mismo formato del fichero origen (raw) sino que dicho fichero transformado, siguiendo los estandares de buenas prácticas, vamos a guardarlo como ficheros intermedios en un formato que incorporé el formato. \n",
    "- La mejor opción para ficheros intermedios son los formatos feather y parquet.\n",
    "- Veamos las principales caracteristicas, así como pros y contras de cada uno de ellos.\n",
    "### Feather\n",
    "El formato Feather es un formato de archivo binario para almacenar datos de forma eficiente. Es un formato abierto y ligero que se utiliza para el intercambio de datos entre aplicaciones y lenguajes de programación.\n",
    "Así, es el lenguage ideal para guardar nuestras base de datos _intermedias_ en nuestro flujo de transformaciones en python, así como para compartir dichos ficheros con otros programas escritos en R, ya que R tambien lee sin problemas el formato Feather.\n",
    "### Parquet\n",
    "El formato Parquet, en cambio, es un formato de archivo columnar (en columnas) muy eficiente que se utiliza para almacenar datos principalmente de texto. Tambien es un formato abierto y ligero que se utiliza para el intercambio de datos entre aplicaciones y lenguajes de programación.\n",
    "- Ambos tienen compatibilidad con pandas, pero Parquet es más eficiente para grandes volúmenes de datos.\n",
    "    - `df.to_parquet('ruta/archivo.parquet')`\n",
    "    - `df.to_feather('ruta/archivo.feather')`\n",
    "- Feather y Parquet mantienen los tipos de datos originales (int64, float64, datetime, etc.), a diferencia de CSV que convierte todo a texto.\n",
    "- Las principales diferencias son:\n",
    "    - Feather está diseñado específicamente para ser extremadamente rápido en lectura/escritura\n",
    "    - Feather usa un formato binario sencillo basado en Apache Arrow, lo que lo hace ideal para intercambio rápido entre Python y R.\n",
    "    - Parquet utiliza una compresión mas compleja pensada en reducir el tamaño\n",
    "    - Feather tiene menor compresión que Parquet, resultando en archivos más grandes, pero con acceso más rápido.\n",
    "- Existe tambien el formato pickle aunque es especifico para python\n",
    "- Mi recomendación para ficheros temporales de cualquier tamaño es Feather, y Parquet para ficheros muy pesados que vayan a almacenarse en la nube (> 10 GB) o dataset con muchas columnas, ya que en estos casos, Parquet puede llegar a comprimir hasta 10 veces.\n",
    "- Cuando trabajas con fichero .parquet no puedes importar las x primeras lineas."
   ]
  },
  {
   "cell_type": "code",
   "execution_count": 43,
   "id": "581d5490",
   "metadata": {},
   "outputs": [],
   "source": [
    "df.to_feather('../data/02_intermediate/empleados_metacortex.ftr')   # Guardamos el dataset intermedio en formato Feather"
   ]
  }
 ],
 "metadata": {
  "jupytext": {
   "cell_metadata_filter": "-all",
   "main_language": "python",
   "notebook_metadata_filter": "-all"
  },
  "kernelspec": {
   "display_name": "paco",
   "language": "python",
   "name": "python3"
  },
  "language_info": {
   "codemirror_mode": {
    "name": "ipython",
    "version": 3
   },
   "file_extension": ".py",
   "mimetype": "text/x-python",
   "name": "python",
   "nbconvert_exporter": "python",
   "pygments_lexer": "ipython3",
   "version": "3.12.3"
  }
 },
 "nbformat": 4,
 "nbformat_minor": 5
}
