{
 "cells": [
  {
   "cell_type": "code",
   "execution_count": 7,
   "id": "b17315e3",
   "metadata": {},
   "outputs": [],
   "source": [
    "import pandas as pd\n",
    "import numpy as np\n",
    "from sklearn.datasets import fetch_california_housing\n",
    "import statsmodels.api as sm\n",
    "import statsmodels.formula.api as smf\n",
    "from sklearn.metrics import mean_squared_error"
   ]
  },
  {
   "cell_type": "code",
   "execution_count": 8,
   "id": "0b995197",
   "metadata": {},
   "outputs": [],
   "source": [
    "# Cargar datos de viviendas en California\n",
    "housing = fetch_california_housing()\n",
    "df = pd.DataFrame(housing.data, columns=housing.feature_names)\n",
    "df['target'] = housing.target"
   ]
  },
  {
   "cell_type": "code",
   "execution_count": 9,
   "id": "8b444d98",
   "metadata": {},
   "outputs": [],
   "source": [
    "# Seleccionar variables relevantes para el modelo\n",
    "df_model = df[['MedInc', 'AveRooms', 'AveOccup', 'Latitude', 'target']].copy()"
   ]
  },
  {
   "cell_type": "code",
   "execution_count": 10,
   "id": "24b8b8ff",
   "metadata": {},
   "outputs": [
    {
     "name": "stdout",
     "output_type": "stream",
     "text": [
      "Primeras observaciones del dataset:\n",
      "   MedInc  AveRooms  AveOccup  Latitude  target\n",
      "0  8.3252  6.984127  2.555556     37.88   4.526\n",
      "1  8.3014  6.238137  2.109842     37.86   3.585\n",
      "2  7.2574  8.288136  2.802260     37.85   3.521\n",
      "3  5.6431  5.817352  2.547945     37.85   3.413\n",
      "4  3.8462  6.281853  2.181467     37.85   3.422\n",
      "\n",
      "Estadisticas descriptivas:\n",
      "             MedInc      AveRooms      AveOccup      Latitude        target\n",
      "count  20640.000000  20640.000000  20640.000000  20640.000000  20640.000000\n",
      "mean       3.870671      5.429000      3.070655     35.631861      2.068558\n",
      "std        1.899822      2.474173     10.386050      2.135952      1.153956\n",
      "min        0.499900      0.846154      0.692308     32.540000      0.149990\n",
      "25%        2.563400      4.440716      2.429741     33.930000      1.196000\n",
      "50%        3.534800      5.229129      2.818116     34.260000      1.797000\n",
      "75%        4.743250      6.052381      3.282261     37.710000      2.647250\n",
      "max       15.000100    141.909091   1243.333333     41.950000      5.000010\n"
     ]
    }
   ],
   "source": [
    "print(\"Primeras observaciones del dataset:\")\n",
    "print(df_model.head())\n",
    "print(\"\\nEstadisticas descriptivas:\")\n",
    "print(df_model.describe())"
   ]
  },
  {
   "cell_type": "code",
   "execution_count": 11,
   "id": "477718fe",
   "metadata": {},
   "outputs": [],
   "source": [
    "# Especificar formula del GLM\n",
    "formula = 'target ~ MedInc + AveRooms + AveOccup + Latitude'"
   ]
  },
  {
   "cell_type": "code",
   "execution_count": 12,
   "id": "7acb81dd",
   "metadata": {},
   "outputs": [],
   "source": [
    "# Ajustar GLM con familia Poisson\n",
    "model = smf.glm(formula=formula, data=df_model, family=sm.families.Poisson())\n",
    "results = model.fit()"
   ]
  },
  {
   "cell_type": "code",
   "execution_count": 13,
   "id": "81b1ff06",
   "metadata": {},
   "outputs": [
    {
     "name": "stdout",
     "output_type": "stream",
     "text": [
      "\n",
      "======================================================================\n",
      "RESUMEN DEL MODELO GLM - VALORACION DE VIVIENDAS\n",
      "======================================================================\n",
      "                 Generalized Linear Model Regression Results                  \n",
      "==============================================================================\n",
      "Dep. Variable:                 target   No. Observations:                20640\n",
      "Model:                            GLM   Df Residuals:                    20635\n",
      "Model Family:                 Poisson   Df Model:                            4\n",
      "Link Function:                    Log   Scale:                          1.0000\n",
      "Method:                          IRLS   Log-Likelihood:                -29525.\n",
      "Date:                Sun, 12 Oct 2025   Deviance:                       7082.5\n",
      "Time:                        11:20:33   Pearson chi2:                 1.77e+04\n",
      "No. Iterations:                     8   Pseudo R-squ. (CS):             0.2305\n",
      "Covariance Type:            nonrobust                                         \n",
      "==============================================================================\n",
      "                 coef    std err          z      P>|z|      [0.025      0.975]\n",
      "------------------------------------------------------------------------------\n",
      "Intercept      1.0823      0.086     12.537      0.000       0.913       1.252\n",
      "MedInc         0.1598      0.002     68.768      0.000       0.155       0.164\n",
      "AveRooms      -0.0232      0.003     -7.125      0.000      -0.030      -0.017\n",
      "AveOccup      -0.0082      0.003     -2.380      0.017      -0.015      -0.001\n",
      "Latitude      -0.0246      0.002    -10.306      0.000      -0.029      -0.020\n",
      "==============================================================================\n"
     ]
    }
   ],
   "source": [
    "print(\"\\n\" + \"=\"*70)\n",
    "print(\"RESUMEN DEL MODELO GLM - VALORACION DE VIVIENDAS\")\n",
    "print(\"=\"*70)\n",
    "print(results.summary())"
   ]
  },
  {
   "cell_type": "code",
   "execution_count": 14,
   "id": "53fbb432",
   "metadata": {},
   "outputs": [],
   "source": [
    "# Predicciones sobre el conjunto completo\n",
    "predictions = results.predict(df_model)"
   ]
  },
  {
   "cell_type": "code",
   "execution_count": 15,
   "id": "d2f1dbf5",
   "metadata": {},
   "outputs": [],
   "source": [
    "# Calculo del RMSE\n",
    "rmse = np.sqrt(mean_squared_error(df_model['target'], predictions))"
   ]
  },
  {
   "cell_type": "code",
   "execution_count": 22,
   "id": "b1730a1e",
   "metadata": {},
   "outputs": [
    {
     "data": {
      "text/html": [
       "<div>\n",
       "<style scoped>\n",
       "    .dataframe tbody tr th:only-of-type {\n",
       "        vertical-align: middle;\n",
       "    }\n",
       "\n",
       "    .dataframe tbody tr th {\n",
       "        vertical-align: top;\n",
       "    }\n",
       "\n",
       "    .dataframe thead th {\n",
       "        text-align: right;\n",
       "    }\n",
       "</style>\n",
       "<table border=\"1\" class=\"dataframe\">\n",
       "  <thead>\n",
       "    <tr style=\"text-align: right;\">\n",
       "      <th></th>\n",
       "      <th>MedInc</th>\n",
       "      <th>HouseAge</th>\n",
       "      <th>AveRooms</th>\n",
       "      <th>AveBedrms</th>\n",
       "      <th>Population</th>\n",
       "      <th>AveOccup</th>\n",
       "      <th>Latitude</th>\n",
       "      <th>Longitude</th>\n",
       "      <th>target</th>\n",
       "      <th>Estimación</th>\n",
       "      <th>Error</th>\n",
       "    </tr>\n",
       "  </thead>\n",
       "  <tbody>\n",
       "    <tr>\n",
       "      <th>0</th>\n",
       "      <td>8.3252</td>\n",
       "      <td>41.0</td>\n",
       "      <td>6.984127</td>\n",
       "      <td>1.023810</td>\n",
       "      <td>322.0</td>\n",
       "      <td>2.555556</td>\n",
       "      <td>37.88</td>\n",
       "      <td>-122.23</td>\n",
       "      <td>4.526</td>\n",
       "      <td>3.662</td>\n",
       "      <td>0.864</td>\n",
       "    </tr>\n",
       "    <tr>\n",
       "      <th>1</th>\n",
       "      <td>8.3014</td>\n",
       "      <td>21.0</td>\n",
       "      <td>6.238137</td>\n",
       "      <td>0.971880</td>\n",
       "      <td>2401.0</td>\n",
       "      <td>2.109842</td>\n",
       "      <td>37.86</td>\n",
       "      <td>-122.22</td>\n",
       "      <td>3.585</td>\n",
       "      <td>3.727</td>\n",
       "      <td>-0.142</td>\n",
       "    </tr>\n",
       "    <tr>\n",
       "      <th>2</th>\n",
       "      <td>7.2574</td>\n",
       "      <td>52.0</td>\n",
       "      <td>8.288136</td>\n",
       "      <td>1.073446</td>\n",
       "      <td>496.0</td>\n",
       "      <td>2.802260</td>\n",
       "      <td>37.85</td>\n",
       "      <td>-122.24</td>\n",
       "      <td>3.521</td>\n",
       "      <td>2.991</td>\n",
       "      <td>0.530</td>\n",
       "    </tr>\n",
       "    <tr>\n",
       "      <th>3</th>\n",
       "      <td>5.6431</td>\n",
       "      <td>52.0</td>\n",
       "      <td>5.817352</td>\n",
       "      <td>1.073059</td>\n",
       "      <td>558.0</td>\n",
       "      <td>2.547945</td>\n",
       "      <td>37.85</td>\n",
       "      <td>-122.25</td>\n",
       "      <td>3.413</td>\n",
       "      <td>2.453</td>\n",
       "      <td>0.960</td>\n",
       "    </tr>\n",
       "    <tr>\n",
       "      <th>4</th>\n",
       "      <td>3.8462</td>\n",
       "      <td>52.0</td>\n",
       "      <td>6.281853</td>\n",
       "      <td>1.081081</td>\n",
       "      <td>565.0</td>\n",
       "      <td>2.181467</td>\n",
       "      <td>37.85</td>\n",
       "      <td>-122.25</td>\n",
       "      <td>3.422</td>\n",
       "      <td>1.826</td>\n",
       "      <td>1.596</td>\n",
       "    </tr>\n",
       "    <tr>\n",
       "      <th>...</th>\n",
       "      <td>...</td>\n",
       "      <td>...</td>\n",
       "      <td>...</td>\n",
       "      <td>...</td>\n",
       "      <td>...</td>\n",
       "      <td>...</td>\n",
       "      <td>...</td>\n",
       "      <td>...</td>\n",
       "      <td>...</td>\n",
       "      <td>...</td>\n",
       "      <td>...</td>\n",
       "    </tr>\n",
       "    <tr>\n",
       "      <th>20635</th>\n",
       "      <td>1.5603</td>\n",
       "      <td>25.0</td>\n",
       "      <td>5.045455</td>\n",
       "      <td>1.133333</td>\n",
       "      <td>845.0</td>\n",
       "      <td>2.560606</td>\n",
       "      <td>39.48</td>\n",
       "      <td>-121.09</td>\n",
       "      <td>0.781</td>\n",
       "      <td>1.249</td>\n",
       "      <td>-0.468</td>\n",
       "    </tr>\n",
       "    <tr>\n",
       "      <th>20636</th>\n",
       "      <td>2.5568</td>\n",
       "      <td>18.0</td>\n",
       "      <td>6.114035</td>\n",
       "      <td>1.315789</td>\n",
       "      <td>356.0</td>\n",
       "      <td>3.122807</td>\n",
       "      <td>39.49</td>\n",
       "      <td>-121.21</td>\n",
       "      <td>0.771</td>\n",
       "      <td>1.422</td>\n",
       "      <td>-0.651</td>\n",
       "    </tr>\n",
       "    <tr>\n",
       "      <th>20637</th>\n",
       "      <td>1.7000</td>\n",
       "      <td>17.0</td>\n",
       "      <td>5.205543</td>\n",
       "      <td>1.120092</td>\n",
       "      <td>1007.0</td>\n",
       "      <td>2.325635</td>\n",
       "      <td>39.43</td>\n",
       "      <td>-121.22</td>\n",
       "      <td>0.923</td>\n",
       "      <td>1.276</td>\n",
       "      <td>-0.353</td>\n",
       "    </tr>\n",
       "    <tr>\n",
       "      <th>20638</th>\n",
       "      <td>1.8672</td>\n",
       "      <td>18.0</td>\n",
       "      <td>5.329513</td>\n",
       "      <td>1.171920</td>\n",
       "      <td>741.0</td>\n",
       "      <td>2.123209</td>\n",
       "      <td>39.43</td>\n",
       "      <td>-121.32</td>\n",
       "      <td>0.847</td>\n",
       "      <td>1.309</td>\n",
       "      <td>-0.462</td>\n",
       "    </tr>\n",
       "    <tr>\n",
       "      <th>20639</th>\n",
       "      <td>2.3886</td>\n",
       "      <td>16.0</td>\n",
       "      <td>5.254717</td>\n",
       "      <td>1.162264</td>\n",
       "      <td>1387.0</td>\n",
       "      <td>2.616981</td>\n",
       "      <td>39.37</td>\n",
       "      <td>-121.24</td>\n",
       "      <td>0.894</td>\n",
       "      <td>1.422</td>\n",
       "      <td>-0.528</td>\n",
       "    </tr>\n",
       "  </tbody>\n",
       "</table>\n",
       "<p>20640 rows × 11 columns</p>\n",
       "</div>"
      ],
      "text/plain": [
       "       MedInc  HouseAge  AveRooms  AveBedrms  Population  AveOccup  Latitude  \\\n",
       "0      8.3252      41.0  6.984127   1.023810       322.0  2.555556     37.88   \n",
       "1      8.3014      21.0  6.238137   0.971880      2401.0  2.109842     37.86   \n",
       "2      7.2574      52.0  8.288136   1.073446       496.0  2.802260     37.85   \n",
       "3      5.6431      52.0  5.817352   1.073059       558.0  2.547945     37.85   \n",
       "4      3.8462      52.0  6.281853   1.081081       565.0  2.181467     37.85   \n",
       "...       ...       ...       ...        ...         ...       ...       ...   \n",
       "20635  1.5603      25.0  5.045455   1.133333       845.0  2.560606     39.48   \n",
       "20636  2.5568      18.0  6.114035   1.315789       356.0  3.122807     39.49   \n",
       "20637  1.7000      17.0  5.205543   1.120092      1007.0  2.325635     39.43   \n",
       "20638  1.8672      18.0  5.329513   1.171920       741.0  2.123209     39.43   \n",
       "20639  2.3886      16.0  5.254717   1.162264      1387.0  2.616981     39.37   \n",
       "\n",
       "       Longitude  target  Estimación  Error  \n",
       "0        -122.23   4.526       3.662  0.864  \n",
       "1        -122.22   3.585       3.727 -0.142  \n",
       "2        -122.24   3.521       2.991  0.530  \n",
       "3        -122.25   3.413       2.453  0.960  \n",
       "4        -122.25   3.422       1.826  1.596  \n",
       "...          ...     ...         ...    ...  \n",
       "20635    -121.09   0.781       1.249 -0.468  \n",
       "20636    -121.21   0.771       1.422 -0.651  \n",
       "20637    -121.22   0.923       1.276 -0.353  \n",
       "20638    -121.32   0.847       1.309 -0.462  \n",
       "20639    -121.24   0.894       1.422 -0.528  \n",
       "\n",
       "[20640 rows x 11 columns]"
      ]
     },
     "execution_count": 22,
     "metadata": {},
     "output_type": "execute_result"
    }
   ],
   "source": [
    "df['Estimación'] = results.predict(df)\n",
    "df['Estimación'] = df['Estimación'].round(3)\n",
    "df['Error'] = df['target'] - df['Estimación']\n",
    "#.head()\n",
    "df"
   ]
  },
  {
   "cell_type": "code",
   "execution_count": 16,
   "id": "c840b2da",
   "metadata": {},
   "outputs": [
    {
     "name": "stdout",
     "output_type": "stream",
     "text": [
      "\n",
      "======================================================================\n",
      "INDICADORES DE AJUSTE\n",
      "======================================================================\n",
      "RMSE: 0.9081\n",
      "AIC: 59060.98\n",
      "BIC: -197925.89\n"
     ]
    },
    {
     "name": "stderr",
     "output_type": "stream",
     "text": [
      "/home/paco/Documentos/iae2025/paco/lib/python3.12/site-packages/statsmodels/genmod/generalized_linear_model.py:1923: FutureWarning: The bic value is computed using the deviance formula. After 0.13 this will change to the log-likelihood based formula. This change has no impact on the relative rank of models compared using BIC. You can directly access the log-likelihood version using the `bic_llf` attribute. You can suppress this message by calling statsmodels.genmod.generalized_linear_model.SET_USE_BIC_LLF with True to get the LLF-based version now or False to retainthe deviance version.\n",
      "  warnings.warn(\n"
     ]
    }
   ],
   "source": [
    "print(\"\\n\" + \"=\"*70)\n",
    "print(\"INDICADORES DE AJUSTE\")\n",
    "print(\"=\"*70)\n",
    "print(f\"RMSE: {rmse:.4f}\")\n",
    "print(f\"AIC: {results.aic:.2f}\")\n",
    "print(f\"BIC: {results.bic:.2f}\")"
   ]
  },
  {
   "cell_type": "code",
   "execution_count": 17,
   "id": "ccb18d26",
   "metadata": {},
   "outputs": [
    {
     "name": "stdout",
     "output_type": "stream",
     "text": [
      "\n",
      "======================================================================\n",
      "INTERPRETACION PARA ASEGURAMIENTO DE HOGARES\n",
      "======================================================================\n",
      "\n",
      "Coeficientes del modelo (escala logaritmica):\n",
      "MedInc         :   0.1598 (cambio: +17.33%)\n",
      "AveRooms       :  -0.0232 (cambio:  -2.30%)\n",
      "AveOccup       :  -0.0082 (cambio:  -0.82%)\n",
      "Latitude       :  -0.0246 (cambio:  -2.43%)\n"
     ]
    }
   ],
   "source": [
    "# Interpretacion de coeficientes para contexto actuarial\n",
    "print(\"\\n\" + \"=\"*70)\n",
    "print(\"INTERPRETACION PARA ASEGURAMIENTO DE HOGARES\")\n",
    "print(\"=\"*70)\n",
    "print(\"\\nCoeficientes del modelo (escala logaritmica):\")\n",
    "for variable, coef in results.params.items():\n",
    "    if variable != 'Intercept':\n",
    "        efecto_pct = (np.exp(coef) - 1) * 100\n",
    "        print(f\"{variable:15s}: {coef:8.4f} (cambio: {efecto_pct:+6.2f}%)\")"
   ]
  },
  {
   "cell_type": "code",
   "execution_count": 18,
   "id": "104cdd72",
   "metadata": {},
   "outputs": [
    {
     "name": "stdout",
     "output_type": "stream",
     "text": [
      "\n",
      "======================================================================\n",
      "NOTA DIDACTICA:\n",
      "El GLM Poisson es util para modelar valores positivos.\n",
      "En aseguramiento, ayuda a entender factores de riesgo y pricing.\n",
      "======================================================================\n"
     ]
    }
   ],
   "source": [
    "print(\"\\n\" + \"=\"*70)\n",
    "print(\"NOTA DIDACTICA:\")\n",
    "print(\"El GLM Poisson es util para modelar valores positivos.\")\n",
    "print(\"En aseguramiento, ayuda a entender factores de riesgo y pricing.\")\n",
    "print(\"=\"*70)"
   ]
  }
 ],
 "metadata": {
  "jupytext": {
   "cell_metadata_filter": "-all",
   "main_language": "python",
   "notebook_metadata_filter": "-all"
  },
  "kernelspec": {
   "display_name": "paco",
   "language": "python",
   "name": "python3"
  },
  "language_info": {
   "codemirror_mode": {
    "name": "ipython",
    "version": 3
   },
   "file_extension": ".py",
   "mimetype": "text/x-python",
   "name": "python",
   "nbconvert_exporter": "python",
   "pygments_lexer": "ipython3",
   "version": "3.12.3"
  }
 },
 "nbformat": 4,
 "nbformat_minor": 5
}
