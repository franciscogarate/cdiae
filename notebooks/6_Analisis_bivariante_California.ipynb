{
  "cells": [
    {
      "cell_type": "markdown",
      "metadata": {
        "id": "view-in-github",
        "colab_type": "text"
      },
      "source": [
        "<a href=\"https://colab.research.google.com/github/franciscogarate/cdiae/blob/main/notebooks/6_Analisis_bivariante_California.ipynb\" target=\"_parent\"><img src=\"https://colab.research.google.com/assets/colab-badge.svg\" alt=\"Open In Colab\"/></a>"
      ]
    },
    {
      "cell_type": "markdown",
      "metadata": {
        "id": "bC8Ldw0FnlV7"
      },
      "source": [
        "# Analisis univariante y bivariante\n",
        "\n",
        "El set de datos de los precios de las viviendas de California puede considerarse como el \"Hola mundo\" del análisis de regresión en machine learning."
      ]
    },
    {
      "cell_type": "code",
      "source": [
        "!git clone https://github.com/franciscogarate/cdiae"
      ],
      "metadata": {
        "id": "dkPUS-MynmWE"
      },
      "execution_count": null,
      "outputs": []
    },
    {
      "cell_type": "code",
      "execution_count": null,
      "metadata": {
        "id": "gS_f41iVnlV8"
      },
      "outputs": [],
      "source": [
        "import pandas as pd\n",
        "import seaborn as sns\n",
        "import matplotlib.pyplot as plt"
      ]
    },
    {
      "cell_type": "markdown",
      "metadata": {
        "id": "sIV0wusinlV9"
      },
      "source": [
        "Leemos nuestro fichero de datos:"
      ]
    },
    {
      "cell_type": "code",
      "execution_count": null,
      "metadata": {
        "id": "IWL7RGd8nlV9"
      },
      "outputs": [],
      "source": [
        "df = pd.read_feather('cdiae/data/03_model_input/california_housing_clean.ftr')\n",
        "df.head()"
      ]
    },
    {
      "cell_type": "markdown",
      "metadata": {
        "id": "ePZ7jmTynlV9"
      },
      "source": [
        "<pre>\n",
        ":Attribute Information:\n",
        "    - MedInc:       ingreso mediano en la zona\n",
        "    - HouseAge:     edad mediana de las casas en la zona\n",
        "    - AveRooms:     número promedio de habitaciones por hogar\n",
        "    - AveBedrms:    número promedio de dormitorios por hogar\n",
        "    - Population:   población de la zona\n",
        "    - AveOccup:     número promedio de miembros del hogar\n",
        "    - Latitude:     latitud de la zona\n",
        "    - Longitude:    longitud de la zona\n",
        "</pre>"
      ]
    },
    {
      "cell_type": "code",
      "execution_count": null,
      "metadata": {
        "id": "3pueRd1EnlV9"
      },
      "outputs": [],
      "source": [
        "df.info()"
      ]
    },
    {
      "cell_type": "markdown",
      "metadata": {
        "id": "W6qWC-IVnlV9"
      },
      "source": [
        "### Mostramos los datos a estimar"
      ]
    },
    {
      "cell_type": "code",
      "execution_count": null,
      "metadata": {
        "id": "1h7lQyOynlV9"
      },
      "outputs": [],
      "source": [
        "target = df['target']\n",
        "sns.histplot(target, bins=100, kde=True)"
      ]
    },
    {
      "cell_type": "markdown",
      "metadata": {
        "id": "oCoc9Wx-nlV9"
      },
      "source": [
        "## **Analisis univariante**"
      ]
    },
    {
      "cell_type": "code",
      "execution_count": null,
      "metadata": {
        "id": "kFs71nk-nlV9"
      },
      "outputs": [],
      "source": [
        "num_cols = df.select_dtypes(include=\"number\").columns.tolist()\n",
        "df[num_cols].describe().T"
      ]
    },
    {
      "cell_type": "code",
      "execution_count": null,
      "metadata": {
        "id": "SVk_eCBlnlV9"
      },
      "outputs": [],
      "source": [
        "for col in num_cols:\n",
        "    plt.figure(figsize=(5,3))\n",
        "    df[col].plot(kind=\"hist\", bins=30, alpha=0.8)\n",
        "    plt.title(f\"Histograma: {col}\")\n",
        "    plt.xlabel(col); plt.ylabel(\"Frecuencia\"); plt.grid(True, axis=\"y\", alpha=0.3)\n",
        "    plt.tight_layout()\n",
        "    plt.plot()"
      ]
    },
    {
      "cell_type": "markdown",
      "metadata": {
        "id": "CZNGqpE4nlV9"
      },
      "source": [
        "## **Analisis bivariante**: Visualización de las correlaciones - Matriz de correlación (Pearson)\n",
        "Parametros disponibles:\n",
        "\n",
        " - `df.corr(method='pearson')` # por defecto\n",
        " - `df.corr(method='spearman')`\n",
        " - `df.corr(method='kendall')`\n",
        "\n",
        "Modo simple:"
      ]
    },
    {
      "cell_type": "code",
      "execution_count": null,
      "metadata": {
        "id": "rLmrbWiEnlV9"
      },
      "outputs": [],
      "source": [
        "df.corr(method='spearman')"
      ]
    },
    {
      "cell_type": "markdown",
      "metadata": {
        "id": "0GR3awYenlV-"
      },
      "source": [
        "Modo visual con seaborn:"
      ]
    },
    {
      "cell_type": "code",
      "execution_count": null,
      "metadata": {
        "id": "9eZlEciUnlV-"
      },
      "outputs": [],
      "source": [
        "corr = df.corr(method='spearman').round(2)\n",
        "ax = sns.heatmap(corr, cmap=\"coolwarm\", annot=True, linewidths=.5)"
      ]
    },
    {
      "cell_type": "markdown",
      "metadata": {
        "id": "e7igzrMPnlV-"
      },
      "source": [
        "Este gráfico nos sirve para identificar la multicolinealidad entre variables. Por ejemplo, AveRooms (Habitaciones)y AveBedrms (Dormitorios) tiene una correlacion del 0.84, por tanto, podriamos prescindir de una ellas para nuestro modelo."
      ]
    },
    {
      "cell_type": "markdown",
      "metadata": {
        "id": "bDsPn8RcnlV-"
      },
      "source": [
        "### Analisis visual bivariante"
      ]
    },
    {
      "cell_type": "code",
      "execution_count": null,
      "metadata": {
        "id": "giY1JA3EnlV-"
      },
      "outputs": [],
      "source": [
        "plt.figure(figsize=(10,10))\n",
        "for index, columns in enumerate(df.columns[:9]):\n",
        "    plt.subplot(331+index)\n",
        "    plt.scatter(df[columns], target, s=2)\n",
        "    plt.title(columns, fontsize=8)\n",
        "plt.show()"
      ]
    },
    {
      "cell_type": "markdown",
      "metadata": {
        "id": "4M434I-7nlV-"
      },
      "source": [
        "Se aprecian varias variables explicativas que pueden predecir el precio de una vivienda, la más llamativa sería los ingresos de la zona (MedInc), y el número de habitaciones (AveRooms), donde se aprecia visualmente que a mayores ingresos medios y mayor numero de habitaciones mayor precio.\n",
        "\n",
        "Ordenamos aquellas variables con mayor correlación:\n"
      ]
    },
    {
      "cell_type": "code",
      "execution_count": null,
      "metadata": {
        "id": "rVMqhH8_nlV-"
      },
      "outputs": [],
      "source": [
        "df.corr(method='pearson')['target'].sort_values(ascending=False)"
      ]
    }
  ],
  "metadata": {
    "kernelspec": {
      "display_name": "env",
      "language": "python",
      "name": "python3"
    },
    "language_info": {
      "codemirror_mode": {
        "name": "ipython",
        "version": 3
      },
      "file_extension": ".py",
      "mimetype": "text/x-python",
      "name": "python",
      "nbconvert_exporter": "python",
      "pygments_lexer": "ipython3",
      "version": "3.12.3"
    },
    "colab": {
      "provenance": [],
      "include_colab_link": true
    }
  },
  "nbformat": 4,
  "nbformat_minor": 0
}