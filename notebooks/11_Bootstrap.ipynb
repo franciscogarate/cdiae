{
 "cells": [
  {
   "cell_type": "markdown",
   "metadata": {},
   "source": [
    "# Cálculo de la media y varianza valiéndose de la técnica de remuestreo (bootstrap) obteniendo 10000 $\\overline{s}$.\n",
    "\n",
    "En el anexo XVII del Reglamento Delegado, figuran los requisitos y demostraciones que deben realizarse para la aprobación de parámetros específicos de empresa. Entre ellos, se debe demostrar que la siniestralidad agregada sigue una distribución logarítmica normal $LN(\\mu,\\sigma)$.\n",
    "Se pide, partiendo de los siniestros recogidos en el fichero *siniestralidad_agregada.csv*:\n"
   ]
  },
  {
   "cell_type": "markdown",
   "metadata": {},
   "source": [
    "Importamos las librerías que vamos a necesitar"
   ]
  },
  {
   "cell_type": "code",
   "execution_count": 2,
   "metadata": {},
   "outputs": [],
   "source": [
    "import pandas as pd\n",
    "import numpy as np\n",
    "import scipy.stats as st\n",
    "import matplotlib.pyplot as plt"
   ]
  },
  {
   "cell_type": "markdown",
   "metadata": {},
   "source": [
    "Cargamos el fichero de siniestralidad agregada"
   ]
  },
  {
   "cell_type": "code",
   "execution_count": 3,
   "metadata": {},
   "outputs": [
    {
     "data": {
      "text/html": [
       "<div>\n",
       "<style scoped>\n",
       "    .dataframe tbody tr th:only-of-type {\n",
       "        vertical-align: middle;\n",
       "    }\n",
       "\n",
       "    .dataframe tbody tr th {\n",
       "        vertical-align: top;\n",
       "    }\n",
       "\n",
       "    .dataframe thead th {\n",
       "        text-align: right;\n",
       "    }\n",
       "</style>\n",
       "<table border=\"1\" class=\"dataframe\">\n",
       "  <thead>\n",
       "    <tr style=\"text-align: right;\">\n",
       "      <th></th>\n",
       "      <th>Id</th>\n",
       "      <th>Importe</th>\n",
       "    </tr>\n",
       "  </thead>\n",
       "  <tbody>\n",
       "    <tr>\n",
       "      <th>0</th>\n",
       "      <td>0</td>\n",
       "      <td>41.27</td>\n",
       "    </tr>\n",
       "    <tr>\n",
       "      <th>1</th>\n",
       "      <td>1</td>\n",
       "      <td>155.30</td>\n",
       "    </tr>\n",
       "    <tr>\n",
       "      <th>2</th>\n",
       "      <td>2</td>\n",
       "      <td>259.44</td>\n",
       "    </tr>\n",
       "    <tr>\n",
       "      <th>3</th>\n",
       "      <td>3</td>\n",
       "      <td>106.53</td>\n",
       "    </tr>\n",
       "    <tr>\n",
       "      <th>4</th>\n",
       "      <td>4</td>\n",
       "      <td>232.71</td>\n",
       "    </tr>\n",
       "  </tbody>\n",
       "</table>\n",
       "</div>"
      ],
      "text/plain": [
       "   Id  Importe\n",
       "0   0    41.27\n",
       "1   1   155.30\n",
       "2   2   259.44\n",
       "3   3   106.53\n",
       "4   4   232.71"
      ]
     },
     "execution_count": 3,
     "metadata": {},
     "output_type": "execute_result"
    }
   ],
   "source": [
    "df = pd.read_csv('../data/01_raw/siniestralidad_agregada.csv', sep=';', decimal=',')\n",
    "df.head()"
   ]
  },
  {
   "cell_type": "markdown",
   "metadata": {},
   "source": [
    "Calculamos la siniestralidad agregada (suma de importes)"
   ]
  },
  {
   "cell_type": "code",
   "execution_count": 4,
   "metadata": {},
   "outputs": [
    {
     "name": "stdout",
     "output_type": "stream",
     "text": [
      "Siniestralidad agregada: 3,059,720\n"
     ]
    }
   ],
   "source": [
    "siniestralidad_agregada = df['Importe'].sum()\n",
    "print(f'Siniestralidad agregada: {siniestralidad_agregada:,.0f}')"
   ]
  },
  {
   "cell_type": "markdown",
   "metadata": {},
   "source": [
    "Aplicamos bootstrap: generamos 10000 remuestreos de la siniestralidad total"
   ]
  },
  {
   "cell_type": "code",
   "execution_count": 5,
   "metadata": {},
   "outputs": [],
   "source": [
    "n = df.Importe.count()\n",
    "b = 10000\n",
    "\n",
    "sampling = pd.DataFrame(data=np.zeros(b),columns=['s'])\n",
    "for i in range(b):\n",
    "    sample = df.sample(n, replace=True)\n",
    "    summ = sample['Importe'].sum()\n",
    "    sampling.loc[i, 's'] = summ\n",
    "\n",
    "sampling['z'] = np.log(sampling['s'])\n",
    "boot_mean = sampling['z'].mean()\n",
    "boot_std = sampling['z'].std()"
   ]
  },
  {
   "cell_type": "markdown",
   "metadata": {},
   "source": [
    "Mostramos los parámetros estimados de la distribución lognormal, que serían nuestras variables candidatas LN(mu=boot_mean, sigma=boot_stp)"
   ]
  },
  {
   "cell_type": "code",
   "execution_count": 6,
   "metadata": {},
   "outputs": [
    {
     "name": "stdout",
     "output_type": "stream",
     "text": [
      "14.933791053479723 0.005047429747029898\n"
     ]
    }
   ],
   "source": [
    "print(boot_mean, boot_std)"
   ]
  },
  {
   "cell_type": "markdown",
   "metadata": {},
   "source": [
    "### Cálculo de  los principales percentiles (.25, .5, 0.75, 0.90, 0.95) de la distribución teórica y compararlos con los datos de la distribución empírica de los siniestros.\n",
    "\n",
    "NOTA: siendo s la siniestralidad total y z la variable aleatoria normal, entonces $s = e^{z}$ y $z = log(s)$ con media y varianza:\n",
    "\n",
    "$E(s) = e^{\\mu+\\frac{\\sigma^2}{2}}$\n",
    "\n",
    "$Var(s) = (e^{\\sigma^2} -1) e^{2\\mu+\\sigma^2}$"
   ]
  },
  {
   "cell_type": "markdown",
   "metadata": {},
   "source": [
    "Comparamos percentiles teóricos vs empíricos de s"
   ]
  },
  {
   "cell_type": "code",
   "execution_count": 19,
   "metadata": {},
   "outputs": [
    {
     "data": {
      "text/html": [
       "<div>\n",
       "<style scoped>\n",
       "    .dataframe tbody tr th:only-of-type {\n",
       "        vertical-align: middle;\n",
       "    }\n",
       "\n",
       "    .dataframe tbody tr th {\n",
       "        vertical-align: top;\n",
       "    }\n",
       "\n",
       "    .dataframe thead th {\n",
       "        text-align: right;\n",
       "    }\n",
       "</style>\n",
       "<table border=\"1\" class=\"dataframe\">\n",
       "  <thead>\n",
       "    <tr style=\"text-align: right;\">\n",
       "      <th></th>\n",
       "      <th>p</th>\n",
       "      <th>empirico_s</th>\n",
       "      <th>teorico_s</th>\n",
       "    </tr>\n",
       "  </thead>\n",
       "  <tbody>\n",
       "    <tr>\n",
       "      <th>0</th>\n",
       "      <td>0.25</td>\n",
       "      <td>3.049174e+06</td>\n",
       "      <td>3.049190e+06</td>\n",
       "    </tr>\n",
       "    <tr>\n",
       "      <th>1</th>\n",
       "      <td>0.50</td>\n",
       "      <td>3.059842e+06</td>\n",
       "      <td>3.059589e+06</td>\n",
       "    </tr>\n",
       "    <tr>\n",
       "      <th>2</th>\n",
       "      <td>0.75</td>\n",
       "      <td>3.069658e+06</td>\n",
       "      <td>3.070023e+06</td>\n",
       "    </tr>\n",
       "    <tr>\n",
       "      <th>3</th>\n",
       "      <td>0.90</td>\n",
       "      <td>3.079293e+06</td>\n",
       "      <td>3.079444e+06</td>\n",
       "    </tr>\n",
       "    <tr>\n",
       "      <th>4</th>\n",
       "      <td>0.95</td>\n",
       "      <td>3.085226e+06</td>\n",
       "      <td>3.085096e+06</td>\n",
       "    </tr>\n",
       "  </tbody>\n",
       "</table>\n",
       "</div>"
      ],
      "text/plain": [
       "      p    empirico_s     teorico_s\n",
       "0  0.25  3.049174e+06  3.049190e+06\n",
       "1  0.50  3.059842e+06  3.059589e+06\n",
       "2  0.75  3.069658e+06  3.070023e+06\n",
       "3  0.90  3.079293e+06  3.079444e+06\n",
       "4  0.95  3.085226e+06  3.085096e+06"
      ]
     },
     "execution_count": 19,
     "metadata": {},
     "output_type": "execute_result"
    }
   ],
   "source": [
    "emp_q = sampling['s'].quantile([0.25, 0.5, 0.75, 0.90, 0.95])\n",
    "\n",
    "# Percentiles teóricos de la lognormal ajustada\n",
    "p = np.array([0.25, 0.50, 0.75, 0.90, 0.95])\n",
    "theo_q = st.lognorm.ppf(p, s=sigma, scale=np.exp(mu))\n",
    "\n",
    "pct_table = pd.DataFrame({\n",
    "    'p': p,\n",
    "    'empirico_s': emp_q.values,\n",
    "    'teorico_s': theo_q\n",
    "})\n",
    "\n",
    "pct_table.round(5)"
   ]
  },
  {
   "cell_type": "code",
   "execution_count": null,
   "metadata": {},
   "outputs": [
    {
     "data": {
      "image/png": "[encoded data removed]",
      "text/plain": [
       "<Figure size 640x480 with 1 Axes>"
      ]
     },
     "metadata": {},
     "output_type": "display_data"
    }
   ],
   "source": [
    "xmin = sampling['s'].quantile(0.01)\n",
    "xmax = sampling['s'].quantile(0.99)\n",
    "xs = np.linspace(xmin, xmax, 400)\n",
    "\n",
    "# Histograma de densidad de s\n",
    "plt.hist(sampling['s'], bins=40, density=True, alpha=0.5)\n",
    "# PDF teórica\n",
    "pdf = st.lognorm.pdf(xs, s=sigma, scale=np.exp(mu))\n",
    "plt.plot(xs, pdf)\n",
    "plt.show()"
   ]
  }
 ],
 "metadata": {
  "kernelspec": {
   "display_name": "env",
   "language": "python",
   "name": "python3"
  },
  "language_info": {
   "codemirror_mode": {
    "name": "ipython",
    "version": 3
   },
   "file_extension": ".py",
   "mimetype": "text/x-python",
   "name": "python",
   "nbconvert_exporter": "python",
   "pygments_lexer": "ipython3",
   "version": "3.12.3"
  }
 },
 "nbformat": 4,
 "nbformat_minor": 2
}
