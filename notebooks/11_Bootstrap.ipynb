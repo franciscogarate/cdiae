{
  "cells": [
    {
      "cell_type": "markdown",
      "metadata": {
        "id": "view-in-github",
        "colab_type": "text"
      },
      "source": [
        "<a href=\"https://colab.research.google.com/github/franciscogarate/cdiae/blob/main/notebooks/11_Bootstrap.ipynb\" target=\"_parent\"><img src=\"https://colab.research.google.com/assets/colab-badge.svg\" alt=\"Open In Colab\"/></a>"
      ]
    },
    {
      "cell_type": "markdown",
      "metadata": {
        "id": "JdJtLXYnl0bu"
      },
      "source": [
        "# Cálculo de la media y varianza valiéndose de la técnica de remuestreo (bootstrap) obteniendo 10000 $\\overline{s}$.\n",
        "\n",
        "En el anexo XVII del Reglamento Delegado, figuran los requisitos y demostraciones que deben realizarse para la aprobación de parámetros específicos de empresa. Entre ellos, se debe demostrar que la siniestralidad agregada sigue una distribución logarítmica normal $LN(\\mu,\\sigma)$.\n",
        "Se pide, partiendo de los siniestros recogidos en el fichero *siniestralidad_agregada.csv*:\n"
      ]
    },
    {
      "cell_type": "markdown",
      "metadata": {
        "id": "nmVrDDukl0bw"
      },
      "source": [
        "Importamos las librerías que vamos a necesitar"
      ]
    },
    {
      "cell_type": "code",
      "execution_count": null,
      "metadata": {
        "id": "DS0ucmfxl0bw"
      },
      "outputs": [],
      "source": [
        "import pandas as pd\n",
        "import numpy as np\n",
        "import scipy.stats as st\n",
        "import matplotlib.pyplot as plt"
      ]
    },
    {
      "cell_type": "markdown",
      "metadata": {
        "id": "Lu7yHJPIl0bw"
      },
      "source": [
        "Cargamos el fichero de siniestralidad agregada"
      ]
    },
    {
      "cell_type": "code",
      "source": [
        "!git clone https://github.com/franciscogarate/cdiae"
      ],
      "metadata": {
        "id": "0C8wPIF2l3i-"
      },
      "execution_count": null,
      "outputs": []
    },
    {
      "cell_type": "code",
      "execution_count": null,
      "metadata": {
        "id": "FvIgwJocl0bw"
      },
      "outputs": [],
      "source": [
        "df = pd.read_csv('cdiae/data/01_raw/siniestralidad_agregada.csv', sep=';', decimal=',')\n",
        "df.head()"
      ]
    },
    {
      "cell_type": "markdown",
      "metadata": {
        "id": "JMBDWHThl0bx"
      },
      "source": [
        "Calculamos la siniestralidad agregada (suma de importes)"
      ]
    },
    {
      "cell_type": "code",
      "execution_count": null,
      "metadata": {
        "id": "NzlfgvOHl0bx"
      },
      "outputs": [],
      "source": [
        "siniestralidad_agregada = df['Importe'].sum()\n",
        "print(f'Siniestralidad agregada: {siniestralidad_agregada:,.0f}')"
      ]
    },
    {
      "cell_type": "markdown",
      "metadata": {
        "id": "SDnedZ_El0bx"
      },
      "source": [
        "Aplicamos bootstrap: generamos 10000 remuestreos de la siniestralidad total"
      ]
    },
    {
      "cell_type": "code",
      "execution_count": null,
      "metadata": {
        "id": "GvR8cqsxl0bx"
      },
      "outputs": [],
      "source": [
        "n = df.Importe.count()\n",
        "b = 10000\n",
        "\n",
        "sampling = pd.DataFrame(data=np.zeros(b),columns=['s'])\n",
        "for i in range(b):\n",
        "    sample = df.sample(n, replace=True)\n",
        "    summ = sample['Importe'].sum()\n",
        "    sampling.loc[i, 's'] = summ\n",
        "\n",
        "sampling['z'] = np.log(sampling['s'])\n",
        "boot_mean = sampling['z'].mean()\n",
        "boot_std = sampling['z'].std()"
      ]
    },
    {
      "cell_type": "markdown",
      "metadata": {
        "id": "t9Ce3DGYl0bx"
      },
      "source": [
        "Mostramos los parámetros estimados de la distribución lognormal, que serían nuestras variables candidatas LN(mu=boot_mean, sigma=boot_stp)"
      ]
    },
    {
      "cell_type": "code",
      "execution_count": null,
      "metadata": {
        "id": "Gycqu6YGl0bx"
      },
      "outputs": [],
      "source": [
        "print(boot_mean, boot_std)"
      ]
    },
    {
      "cell_type": "markdown",
      "metadata": {
        "id": "pDM9d3Gtl0bx"
      },
      "source": [
        "### Cálculo de  los principales percentiles (.25, .5, 0.75, 0.90, 0.95) de la distribución teórica y compararlos con los datos de la distribución empírica de los siniestros.\n",
        "\n",
        "NOTA: siendo s la siniestralidad total y z la variable aleatoria normal, entonces $s = e^{z}$ y $z = log(s)$ con media y varianza:\n",
        "\n",
        "$E(s) = e^{\\mu+\\frac{\\sigma^2}{2}}$\n",
        "\n",
        "$Var(s) = (e^{\\sigma^2} -1) e^{2\\mu+\\sigma^2}$"
      ]
    },
    {
      "cell_type": "markdown",
      "metadata": {
        "id": "t919a6yBl0bx"
      },
      "source": [
        "Comparamos percentiles teóricos vs empíricos de s"
      ]
    },
    {
      "cell_type": "code",
      "execution_count": null,
      "metadata": {
        "id": "su5ibynPl0by"
      },
      "outputs": [],
      "source": [
        "emp_q = sampling['s'].quantile([0.25, 0.5, 0.75, 0.90, 0.95])\n",
        "\n",
        "# Percentiles teóricos de la lognormal ajustada\n",
        "p = np.array([0.25, 0.50, 0.75, 0.90, 0.95])\n",
        "theo_q = st.lognorm.ppf(p, s=sigma, scale=np.exp(mu))\n",
        "\n",
        "pct_table = pd.DataFrame({\n",
        "    'p': p,\n",
        "    'empirico_s': emp_q.values,\n",
        "    'teorico_s': theo_q\n",
        "})\n",
        "\n",
        "pct_table.round(5)"
      ]
    },
    {
      "cell_type": "code",
      "execution_count": null,
      "metadata": {
        "id": "4nZcjV1Nl0by"
      },
      "outputs": [],
      "source": [
        "xmin = sampling['s'].quantile(0.01)\n",
        "xmax = sampling['s'].quantile(0.99)\n",
        "xs = np.linspace(xmin, xmax, 400)\n",
        "\n",
        "# Histograma de densidad de s\n",
        "plt.hist(sampling['s'], bins=40, density=True, alpha=0.5)\n",
        "# PDF teórica\n",
        "pdf = st.lognorm.pdf(xs, s=sigma, scale=np.exp(mu))\n",
        "plt.plot(xs, pdf)\n",
        "plt.show()"
      ]
    }
  ],
  "metadata": {
    "kernelspec": {
      "display_name": "env",
      "language": "python",
      "name": "python3"
    },
    "language_info": {
      "codemirror_mode": {
        "name": "ipython",
        "version": 3
      },
      "file_extension": ".py",
      "mimetype": "text/x-python",
      "name": "python",
      "nbconvert_exporter": "python",
      "pygments_lexer": "ipython3",
      "version": "3.12.3"
    },
    "colab": {
      "provenance": [],
      "include_colab_link": true
    }
  },
  "nbformat": 4,
  "nbformat_minor": 0
}