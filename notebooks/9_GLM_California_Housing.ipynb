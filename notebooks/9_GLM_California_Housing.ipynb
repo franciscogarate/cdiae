{
  "cells": [
    {
      "cell_type": "markdown",
      "metadata": {
        "id": "view-in-github",
        "colab_type": "text"
      },
      "source": [
        "<a href=\"https://colab.research.google.com/github/franciscogarate/cdiae/blob/main/notebooks/9_GLM_California_Housing.ipynb\" target=\"_parent\"><img src=\"https://colab.research.google.com/assets/colab-badge.svg\" alt=\"Open In Colab\"/></a>"
      ]
    },
    {
      "cell_type": "markdown",
      "source": [
        "# Modelo de regresión GLM usando la base de datos de precios de casas de California"
      ],
      "metadata": {
        "id": "3snm1yoMkrLA"
      },
      "id": "3snm1yoMkrLA"
    },
    {
      "cell_type": "code",
      "execution_count": null,
      "id": "b17315e3",
      "metadata": {
        "id": "b17315e3"
      },
      "outputs": [],
      "source": [
        "import pandas as pd\n",
        "import numpy as np\n",
        "import statsmodels.api as sm\n",
        "import statsmodels.formula.api as smf\n",
        "import statsmodels.genmod.generalized_linear_model as glm\n",
        "from sklearn.metrics import mean_squared_error"
      ]
    },
    {
      "cell_type": "code",
      "source": [
        "!git clone https://github.com/franciscogarate/cdiae"
      ],
      "metadata": {
        "id": "P3mw35Gyk1XZ"
      },
      "id": "P3mw35Gyk1XZ",
      "execution_count": null,
      "outputs": []
    },
    {
      "cell_type": "code",
      "execution_count": null,
      "id": "0b995197",
      "metadata": {
        "id": "0b995197"
      },
      "outputs": [],
      "source": [
        "df = pd.read_feather('cdiae/data/03_model_input/california_housing_clean.ftr')\n",
        "df.head()"
      ]
    },
    {
      "cell_type": "markdown",
      "id": "dd61d8b1",
      "metadata": {
        "id": "dd61d8b1"
      },
      "source": [
        "Seleccionamos las variables relevantes para el modelo (las cuales hemos reducido a 6 en las tareas de analisis bivariantes y de componentes principales anteriores)"
      ]
    },
    {
      "cell_type": "code",
      "execution_count": null,
      "id": "8b444d98",
      "metadata": {
        "id": "8b444d98"
      },
      "outputs": [],
      "source": [
        "df_model = df[['Longitude','MedInc','Population','AveOccup','AveBedrms','target']]"
      ]
    },
    {
      "cell_type": "code",
      "execution_count": null,
      "id": "24b8b8ff",
      "metadata": {
        "id": "24b8b8ff"
      },
      "outputs": [],
      "source": [
        "df_model.describe()"
      ]
    },
    {
      "cell_type": "markdown",
      "id": "8216726a",
      "metadata": {
        "id": "8216726a"
      },
      "source": [
        "Especificamos la fórmula del GLM"
      ]
    },
    {
      "cell_type": "code",
      "execution_count": null,
      "id": "477718fe",
      "metadata": {
        "id": "477718fe"
      },
      "outputs": [],
      "source": [
        "formula = 'target ~ Longitude + MedInc + Population + AveOccup + AveBedrms'"
      ]
    },
    {
      "cell_type": "markdown",
      "id": "368f074c",
      "metadata": {
        "id": "368f074c"
      },
      "source": [
        "Ajustamos GLM con familia Poisson"
      ]
    },
    {
      "cell_type": "code",
      "execution_count": null,
      "id": "7acb81dd",
      "metadata": {
        "id": "7acb81dd"
      },
      "outputs": [],
      "source": [
        "model = smf.glm(formula=formula, data=df_model, family=sm.families.Poisson())\n",
        "results = model.fit()"
      ]
    },
    {
      "cell_type": "markdown",
      "id": "6bfc3da3",
      "metadata": {
        "id": "6bfc3da3"
      },
      "source": [
        "Resumen del modelo"
      ]
    },
    {
      "cell_type": "code",
      "execution_count": null,
      "id": "81b1ff06",
      "metadata": {
        "id": "81b1ff06"
      },
      "outputs": [],
      "source": [
        "print(results.summary())"
      ]
    },
    {
      "cell_type": "markdown",
      "id": "4cade5e7",
      "metadata": {
        "id": "4cade5e7"
      },
      "source": [
        "Predicciones sobre el conjunto completo:"
      ]
    },
    {
      "cell_type": "code",
      "execution_count": null,
      "id": "53fbb432",
      "metadata": {
        "id": "53fbb432"
      },
      "outputs": [],
      "source": [
        "df['Estimacion_GLM'] = results.predict(df)\n",
        "df['Error_GLM'] = results.resid_response\n",
        "df.head()"
      ]
    },
    {
      "cell_type": "markdown",
      "id": "47f51a62",
      "metadata": {
        "id": "47f51a62"
      },
      "source": [
        "Calculamos el RMSE (este indicador sirve para compararse con otras regresiones)"
      ]
    },
    {
      "cell_type": "code",
      "execution_count": null,
      "id": "d2f1dbf5",
      "metadata": {
        "id": "d2f1dbf5"
      },
      "outputs": [],
      "source": [
        "rmse = np.sqrt(mean_squared_error(df.target, df.Estimacion_GLM))\n",
        "rmse"
      ]
    },
    {
      "cell_type": "markdown",
      "id": "1816d620",
      "metadata": {
        "id": "1816d620"
      },
      "source": [
        "Graficamos los errores y comprobamos que no siguen estrictamente una distribución normal con media cero"
      ]
    },
    {
      "cell_type": "code",
      "execution_count": null,
      "id": "b1730a1e",
      "metadata": {
        "id": "b1730a1e"
      },
      "outputs": [],
      "source": [
        "df.Error_GLM.hist(bins=50)"
      ]
    },
    {
      "cell_type": "markdown",
      "id": "3d713820",
      "metadata": {
        "id": "3d713820"
      },
      "source": [
        "Calculamos otros estadísticos de la regresión:"
      ]
    },
    {
      "cell_type": "code",
      "execution_count": null,
      "id": "c840b2da",
      "metadata": {
        "id": "c840b2da"
      },
      "outputs": [],
      "source": [
        "print(f'RMSE: {rmse:.4f}')\n",
        "print(f'AIC: {results.aic:.2f}')\n",
        "print(f'BIC: {results.bic_llf:.2f}')"
      ]
    }
  ],
  "metadata": {
    "jupytext": {
      "cell_metadata_filter": "-all",
      "main_language": "python",
      "notebook_metadata_filter": "-all"
    },
    "kernelspec": {
      "display_name": "env",
      "language": "python",
      "name": "python3"
    },
    "language_info": {
      "codemirror_mode": {
        "name": "ipython",
        "version": 3
      },
      "file_extension": ".py",
      "mimetype": "text/x-python",
      "name": "python",
      "nbconvert_exporter": "python",
      "pygments_lexer": "ipython3",
      "version": "3.12.3"
    },
    "colab": {
      "provenance": [],
      "include_colab_link": true
    }
  },
  "nbformat": 4,
  "nbformat_minor": 5
}